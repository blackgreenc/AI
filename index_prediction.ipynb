{
  "nbformat": 4,
  "nbformat_minor": 0,
  "metadata": {
    "colab": {
      "name": "index_prediction",
      "provenance": [],
      "collapsed_sections": [],
      "authorship_tag": "ABX9TyOoSezgdD0LMoU7XOQ5N+qh",
      "include_colab_link": true
    },
    "kernelspec": {
      "name": "python3",
      "display_name": "Python 3"
    },
    "language_info": {
      "name": "python"
    }
  },
  "cells": [
    {
      "cell_type": "markdown",
      "metadata": {
        "id": "view-in-github",
        "colab_type": "text"
      },
      "source": [
        "<a href=\"https://colab.research.google.com/github/blackgreenc/AI/blob/main/index_prediction.ipynb\" target=\"_parent\"><img src=\"https://colab.research.google.com/assets/colab-badge.svg\" alt=\"Open In Colab\"/></a>"
      ]
    },
    {
      "cell_type": "markdown",
      "metadata": {
        "id": "KZ1ZWFMNcP1F"
      },
      "source": [
        "1. 모듈 불러오기"
      ]
    },
    {
      "cell_type": "code",
      "metadata": {
        "id": "DQwjJlqeMZ_c",
        "colab": {
          "base_uri": "https://localhost:8080/"
        },
        "outputId": "0925e512-3841-4679-c350-83d97e4e9621"
      },
      "source": [
        "!pip install yfinance\n",
        "import numpy as np\n",
        "import tensorflow as tf\n",
        "import pandas as pd\n",
        "import yfinance as yf #야후 파이낸스 데이터"
      ],
      "execution_count": 5,
      "outputs": [
        {
          "output_type": "stream",
          "name": "stdout",
          "text": [
            "Collecting yfinance\n",
            "  Downloading yfinance-0.1.63.tar.gz (26 kB)\n",
            "Requirement already satisfied: pandas>=0.24 in /usr/local/lib/python3.7/dist-packages (from yfinance) (1.1.5)\n",
            "Requirement already satisfied: numpy>=1.15 in /usr/local/lib/python3.7/dist-packages (from yfinance) (1.19.5)\n",
            "Requirement already satisfied: requests>=2.20 in /usr/local/lib/python3.7/dist-packages (from yfinance) (2.23.0)\n",
            "Requirement already satisfied: multitasking>=0.0.7 in /usr/local/lib/python3.7/dist-packages (from yfinance) (0.0.9)\n",
            "Collecting lxml>=4.5.1\n",
            "  Downloading lxml-4.6.3-cp37-cp37m-manylinux2014_x86_64.whl (6.3 MB)\n",
            "\u001b[K     |████████████████████████████████| 6.3 MB 6.1 MB/s \n",
            "\u001b[?25hRequirement already satisfied: python-dateutil>=2.7.3 in /usr/local/lib/python3.7/dist-packages (from pandas>=0.24->yfinance) (2.8.2)\n",
            "Requirement already satisfied: pytz>=2017.2 in /usr/local/lib/python3.7/dist-packages (from pandas>=0.24->yfinance) (2018.9)\n",
            "Requirement already satisfied: six>=1.5 in /usr/local/lib/python3.7/dist-packages (from python-dateutil>=2.7.3->pandas>=0.24->yfinance) (1.15.0)\n",
            "Requirement already satisfied: idna<3,>=2.5 in /usr/local/lib/python3.7/dist-packages (from requests>=2.20->yfinance) (2.10)\n",
            "Requirement already satisfied: chardet<4,>=3.0.2 in /usr/local/lib/python3.7/dist-packages (from requests>=2.20->yfinance) (3.0.4)\n",
            "Requirement already satisfied: urllib3!=1.25.0,!=1.25.1,<1.26,>=1.21.1 in /usr/local/lib/python3.7/dist-packages (from requests>=2.20->yfinance) (1.24.3)\n",
            "Requirement already satisfied: certifi>=2017.4.17 in /usr/local/lib/python3.7/dist-packages (from requests>=2.20->yfinance) (2021.5.30)\n",
            "Building wheels for collected packages: yfinance\n",
            "  Building wheel for yfinance (setup.py) ... \u001b[?25l\u001b[?25hdone\n",
            "  Created wheel for yfinance: filename=yfinance-0.1.63-py2.py3-none-any.whl size=23918 sha256=dc3d767d626307afc429d248d5cc995c2d07f6ab206836ec5331267eb9301b3e\n",
            "  Stored in directory: /root/.cache/pip/wheels/fe/87/8b/7ec24486e001d3926537f5f7801f57a74d181be25b11157983\n",
            "Successfully built yfinance\n",
            "Installing collected packages: lxml, yfinance\n",
            "  Attempting uninstall: lxml\n",
            "    Found existing installation: lxml 4.2.6\n",
            "    Uninstalling lxml-4.2.6:\n",
            "      Successfully uninstalled lxml-4.2.6\n",
            "Successfully installed lxml-4.6.3 yfinance-0.1.63\n"
          ]
        }
      ]
    },
    {
      "cell_type": "code",
      "metadata": {
        "colab": {
          "base_uri": "https://localhost:8080/",
          "height": 673
        },
        "id": "FfwPUMtQMvXM",
        "outputId": "f6de6e66-5985-4d66-864d-67683e0619f4"
      },
      "source": [
        "# 나스닥 100\n",
        "NDX  = yf.download('NDX',\n",
        "                     start = '2007-01-01',\n",
        "                     end = '2021-10-5',\n",
        "                     progress = False)\n",
        "\n",
        "NDX_data = NDX[['Adj Close', 'Open', 'High', 'Low', \"Close\",\"Volume\"]].round(2)\n",
        "NDX_data.rename(columns={'Adj Close':'NDX_Adj Close', 'Open':'NDX_Open', 'High':'NDX_High', 'Low':'NDX_Low', 'Close':'NDX_Close', 'Volume':'NDX_Volume' }, inplace=True)\n",
        "\n",
        "\n",
        "print(\"There are\" + str(NDX_data[:\"2007\"].shape[0]) + \"observations in the training data\")\n",
        "print(\"There are\" + str(NDX_data[:\"2021\"].shape[0]) + \"observations in the training data\")\n",
        "\n",
        "NDX_data['NDX_Adj Close'].plot()\n",
        "NDX_data.shape\n",
        "NDX_data.head(10)"
      ],
      "execution_count": 6,
      "outputs": [
        {
          "output_type": "stream",
          "name": "stdout",
          "text": [
            "There are251observations in the training data\n",
            "There are3715observations in the training data\n"
          ]
        },
        {
          "output_type": "execute_result",
          "data": {
            "text/html": [
              "<div>\n",
              "<style scoped>\n",
              "    .dataframe tbody tr th:only-of-type {\n",
              "        vertical-align: middle;\n",
              "    }\n",
              "\n",
              "    .dataframe tbody tr th {\n",
              "        vertical-align: top;\n",
              "    }\n",
              "\n",
              "    .dataframe thead th {\n",
              "        text-align: right;\n",
              "    }\n",
              "</style>\n",
              "<table border=\"1\" class=\"dataframe\">\n",
              "  <thead>\n",
              "    <tr style=\"text-align: right;\">\n",
              "      <th></th>\n",
              "      <th>NDX_Adj Close</th>\n",
              "      <th>NDX_Open</th>\n",
              "      <th>NDX_High</th>\n",
              "      <th>NDX_Low</th>\n",
              "      <th>NDX_Close</th>\n",
              "      <th>NDX_Volume</th>\n",
              "    </tr>\n",
              "    <tr>\n",
              "      <th>Date</th>\n",
              "      <th></th>\n",
              "      <th></th>\n",
              "      <th></th>\n",
              "      <th></th>\n",
              "      <th></th>\n",
              "      <th></th>\n",
              "    </tr>\n",
              "  </thead>\n",
              "  <tbody>\n",
              "    <tr>\n",
              "      <th>2007-01-03</th>\n",
              "      <td>1759.37</td>\n",
              "      <td>1769.22</td>\n",
              "      <td>1793.05</td>\n",
              "      <td>1731.71</td>\n",
              "      <td>1759.37</td>\n",
              "      <td>2435280000</td>\n",
              "    </tr>\n",
              "    <tr>\n",
              "      <th>2007-01-04</th>\n",
              "      <td>1792.91</td>\n",
              "      <td>1763.15</td>\n",
              "      <td>1799.07</td>\n",
              "      <td>1757.00</td>\n",
              "      <td>1792.91</td>\n",
              "      <td>2104210000</td>\n",
              "    </tr>\n",
              "    <tr>\n",
              "      <th>2007-01-05</th>\n",
              "      <td>1785.30</td>\n",
              "      <td>1787.79</td>\n",
              "      <td>1787.79</td>\n",
              "      <td>1770.29</td>\n",
              "      <td>1785.30</td>\n",
              "      <td>2060360000</td>\n",
              "    </tr>\n",
              "    <tr>\n",
              "      <th>2007-01-08</th>\n",
              "      <td>1787.14</td>\n",
              "      <td>1786.39</td>\n",
              "      <td>1795.45</td>\n",
              "      <td>1776.99</td>\n",
              "      <td>1787.14</td>\n",
              "      <td>1905620000</td>\n",
              "    </tr>\n",
              "    <tr>\n",
              "      <th>2007-01-09</th>\n",
              "      <td>1795.63</td>\n",
              "      <td>1791.75</td>\n",
              "      <td>1802.44</td>\n",
              "      <td>1776.73</td>\n",
              "      <td>1795.63</td>\n",
              "      <td>2144160000</td>\n",
              "    </tr>\n",
              "    <tr>\n",
              "      <th>2007-01-10</th>\n",
              "      <td>1816.15</td>\n",
              "      <td>1790.51</td>\n",
              "      <td>1817.22</td>\n",
              "      <td>1784.28</td>\n",
              "      <td>1816.15</td>\n",
              "      <td>2274210000</td>\n",
              "    </tr>\n",
              "    <tr>\n",
              "      <th>2007-01-11</th>\n",
              "      <td>1834.86</td>\n",
              "      <td>1820.75</td>\n",
              "      <td>1840.88</td>\n",
              "      <td>1818.09</td>\n",
              "      <td>1834.86</td>\n",
              "      <td>2436270000</td>\n",
              "    </tr>\n",
              "    <tr>\n",
              "      <th>2007-01-12</th>\n",
              "      <td>1844.81</td>\n",
              "      <td>1832.15</td>\n",
              "      <td>1845.68</td>\n",
              "      <td>1830.34</td>\n",
              "      <td>1844.81</td>\n",
              "      <td>2175810000</td>\n",
              "    </tr>\n",
              "    <tr>\n",
              "      <th>2007-01-16</th>\n",
              "      <td>1842.44</td>\n",
              "      <td>1844.73</td>\n",
              "      <td>1847.54</td>\n",
              "      <td>1836.83</td>\n",
              "      <td>1842.44</td>\n",
              "      <td>2139550000</td>\n",
              "    </tr>\n",
              "    <tr>\n",
              "      <th>2007-01-17</th>\n",
              "      <td>1827.68</td>\n",
              "      <td>1835.05</td>\n",
              "      <td>1843.07</td>\n",
              "      <td>1824.74</td>\n",
              "      <td>1827.68</td>\n",
              "      <td>2273880000</td>\n",
              "    </tr>\n",
              "  </tbody>\n",
              "</table>\n",
              "</div>"
            ],
            "text/plain": [
              "            NDX_Adj Close  NDX_Open  NDX_High  NDX_Low  NDX_Close  NDX_Volume\n",
              "Date                                                                         \n",
              "2007-01-03        1759.37   1769.22   1793.05  1731.71    1759.37  2435280000\n",
              "2007-01-04        1792.91   1763.15   1799.07  1757.00    1792.91  2104210000\n",
              "2007-01-05        1785.30   1787.79   1787.79  1770.29    1785.30  2060360000\n",
              "2007-01-08        1787.14   1786.39   1795.45  1776.99    1787.14  1905620000\n",
              "2007-01-09        1795.63   1791.75   1802.44  1776.73    1795.63  2144160000\n",
              "2007-01-10        1816.15   1790.51   1817.22  1784.28    1816.15  2274210000\n",
              "2007-01-11        1834.86   1820.75   1840.88  1818.09    1834.86  2436270000\n",
              "2007-01-12        1844.81   1832.15   1845.68  1830.34    1844.81  2175810000\n",
              "2007-01-16        1842.44   1844.73   1847.54  1836.83    1842.44  2139550000\n",
              "2007-01-17        1827.68   1835.05   1843.07  1824.74    1827.68  2273880000"
            ]
          },
          "metadata": {},
          "execution_count": 6
        },
        {
          "output_type": "display_data",
          "data": {
            "image/png": "[encoded data removed]",
            "text/plain": [
              "<Figure size 432x288 with 1 Axes>"
            ]
          },
          "metadata": {
            "needs_background": "light"
          }
        }
      ]
    },
    {
      "cell_type": "code",
      "metadata": {
        "colab": {
          "base_uri": "https://localhost:8080/",
          "height": 673
        },
        "id": "B6alRPT9kgIv",
        "outputId": "e60c5601-2e0f-4393-9e08-d8c2b223423f"
      },
      "source": [
        "\n",
        "# s&p 500\n",
        "ES  = yf.download('ES',\n",
        "                     start = '2007-01-01',\n",
        "                     end = '2021-10-5',\n",
        "                     progress = False)\n",
        "\n",
        "ES_data = ES[['Adj Close', 'Open', 'High', 'Low', \"Close\",\"Volume\"]].round(2)\n",
        "ES_data.rename(columns={'Adj Close':'ES_Adj Close', 'Open':'ES_Open', 'High':'ES_High', 'Low':'ES_Low', 'Close':'ES_Close', 'Volume':'ES_Volume' }, inplace=True)\n",
        "\n",
        "\n",
        "print(\"There are\" + str(ES_data[:\"2007\"].shape[0]) + \"observations in the training data\")\n",
        "print(\"There are\" + str(ES_data[:\"2021\"].shape[0]) + \"observations in the training data\")\n",
        "\n",
        "ES_data['ES_Adj Close'].plot()\n",
        "ES_data.shape\n",
        "ES_data.head(10)"
      ],
      "execution_count": 8,
      "outputs": [
        {
          "output_type": "stream",
          "name": "stdout",
          "text": [
            "There are251observations in the training data\n",
            "There are3715observations in the training data\n"
          ]
        },
        {
          "output_type": "execute_result",
          "data": {
            "text/html": [
              "<div>\n",
              "<style scoped>\n",
              "    .dataframe tbody tr th:only-of-type {\n",
              "        vertical-align: middle;\n",
              "    }\n",
              "\n",
              "    .dataframe tbody tr th {\n",
              "        vertical-align: top;\n",
              "    }\n",
              "\n",
              "    .dataframe thead th {\n",
              "        text-align: right;\n",
              "    }\n",
              "</style>\n",
              "<table border=\"1\" class=\"dataframe\">\n",
              "  <thead>\n",
              "    <tr style=\"text-align: right;\">\n",
              "      <th></th>\n",
              "      <th>ES_Adj Close</th>\n",
              "      <th>ES_Open</th>\n",
              "      <th>ES_High</th>\n",
              "      <th>ES_Low</th>\n",
              "      <th>ES_Close</th>\n",
              "      <th>ES_Volume</th>\n",
              "    </tr>\n",
              "    <tr>\n",
              "      <th>Date</th>\n",
              "      <th></th>\n",
              "      <th></th>\n",
              "      <th></th>\n",
              "      <th></th>\n",
              "      <th></th>\n",
              "      <th></th>\n",
              "    </tr>\n",
              "  </thead>\n",
              "  <tbody>\n",
              "    <tr>\n",
              "      <th>2007-01-03</th>\n",
              "      <td>17.57</td>\n",
              "      <td>27.95</td>\n",
              "      <td>28.47</td>\n",
              "      <td>27.91</td>\n",
              "      <td>28.43</td>\n",
              "      <td>1418800</td>\n",
              "    </tr>\n",
              "    <tr>\n",
              "      <th>2007-01-04</th>\n",
              "      <td>17.43</td>\n",
              "      <td>28.40</td>\n",
              "      <td>28.46</td>\n",
              "      <td>28.16</td>\n",
              "      <td>28.20</td>\n",
              "      <td>757100</td>\n",
              "    </tr>\n",
              "    <tr>\n",
              "      <th>2007-01-05</th>\n",
              "      <td>17.07</td>\n",
              "      <td>28.12</td>\n",
              "      <td>28.17</td>\n",
              "      <td>27.43</td>\n",
              "      <td>27.61</td>\n",
              "      <td>720600</td>\n",
              "    </tr>\n",
              "    <tr>\n",
              "      <th>2007-01-08</th>\n",
              "      <td>17.16</td>\n",
              "      <td>27.54</td>\n",
              "      <td>27.82</td>\n",
              "      <td>27.49</td>\n",
              "      <td>27.76</td>\n",
              "      <td>606200</td>\n",
              "    </tr>\n",
              "    <tr>\n",
              "      <th>2007-01-09</th>\n",
              "      <td>17.15</td>\n",
              "      <td>27.73</td>\n",
              "      <td>27.81</td>\n",
              "      <td>27.44</td>\n",
              "      <td>27.74</td>\n",
              "      <td>555600</td>\n",
              "    </tr>\n",
              "    <tr>\n",
              "      <th>2007-01-10</th>\n",
              "      <td>17.13</td>\n",
              "      <td>27.72</td>\n",
              "      <td>27.87</td>\n",
              "      <td>27.50</td>\n",
              "      <td>27.71</td>\n",
              "      <td>840300</td>\n",
              "    </tr>\n",
              "    <tr>\n",
              "      <th>2007-01-11</th>\n",
              "      <td>17.13</td>\n",
              "      <td>27.77</td>\n",
              "      <td>27.90</td>\n",
              "      <td>27.67</td>\n",
              "      <td>27.72</td>\n",
              "      <td>595600</td>\n",
              "    </tr>\n",
              "    <tr>\n",
              "      <th>2007-01-12</th>\n",
              "      <td>17.12</td>\n",
              "      <td>27.75</td>\n",
              "      <td>27.87</td>\n",
              "      <td>27.55</td>\n",
              "      <td>27.69</td>\n",
              "      <td>500500</td>\n",
              "    </tr>\n",
              "    <tr>\n",
              "      <th>2007-01-16</th>\n",
              "      <td>17.10</td>\n",
              "      <td>27.61</td>\n",
              "      <td>27.98</td>\n",
              "      <td>27.58</td>\n",
              "      <td>27.67</td>\n",
              "      <td>663900</td>\n",
              "    </tr>\n",
              "    <tr>\n",
              "      <th>2007-01-17</th>\n",
              "      <td>17.05</td>\n",
              "      <td>27.60</td>\n",
              "      <td>27.73</td>\n",
              "      <td>27.50</td>\n",
              "      <td>27.59</td>\n",
              "      <td>621800</td>\n",
              "    </tr>\n",
              "  </tbody>\n",
              "</table>\n",
              "</div>"
            ],
            "text/plain": [
              "            ES_Adj Close  ES_Open  ES_High  ES_Low  ES_Close  ES_Volume\n",
              "Date                                                                   \n",
              "2007-01-03         17.57    27.95    28.47   27.91     28.43    1418800\n",
              "2007-01-04         17.43    28.40    28.46   28.16     28.20     757100\n",
              "2007-01-05         17.07    28.12    28.17   27.43     27.61     720600\n",
              "2007-01-08         17.16    27.54    27.82   27.49     27.76     606200\n",
              "2007-01-09         17.15    27.73    27.81   27.44     27.74     555600\n",
              "2007-01-10         17.13    27.72    27.87   27.50     27.71     840300\n",
              "2007-01-11         17.13    27.77    27.90   27.67     27.72     595600\n",
              "2007-01-12         17.12    27.75    27.87   27.55     27.69     500500\n",
              "2007-01-16         17.10    27.61    27.98   27.58     27.67     663900\n",
              "2007-01-17         17.05    27.60    27.73   27.50     27.59     621800"
            ]
          },
          "metadata": {},
          "execution_count": 8
        },
        {
          "output_type": "display_data",
          "data": {
            "image/png": "[encoded data removed]",
            "text/plain": [
              "<Figure size 432x288 with 1 Axes>"
            ]
          },
          "metadata": {
            "needs_background": "light"
          }
        }
      ]
    },
    {
      "cell_type": "code",
      "metadata": {
        "colab": {
          "base_uri": "https://localhost:8080/",
          "height": 673
        },
        "id": "1LPp9Q_ZMvYK",
        "outputId": "c875e916-4fbd-4224-9fa3-081e4c354c9f"
      },
      "source": [
        "# 금값\n",
        "DJI  = yf.download('DJI',\n",
        "                     start = '2007-01-01',\n",
        "                     end = '2021-10-05',\n",
        "                     progress = False)\n",
        "\n",
        "DJI_data = DJI[['Adj Close', 'Open', 'High', 'Low', \"Close\",\"Volume\"]].round(2)\n",
        "DJI_data.rename(columns={'Adj Close':'DJI_Adj Close', 'Open':'DJI_Open', 'High':'DJI_High', 'Low':'DJI_Low', 'Close':'DJI_Close', 'Volume':'DJI_Volume' }, inplace=True)\n",
        "\n",
        "\n",
        "print(\"There are\" + str(DJI_data[:\"2007\"].shape[0]) + \"observations in the training data\")\n",
        "print(\"There are\" + str(DJI_data[:\"2021\"].shape[0]) + \"observations in the test data\")\n",
        "\n",
        "DJI_data['DJI_Adj Close'].plot()\n",
        "DJI_data.head(10)"
      ],
      "execution_count": 9,
      "outputs": [
        {
          "output_type": "stream",
          "name": "stdout",
          "text": [
            "There are249observations in the training data\n",
            "There are3514observations in the test data\n"
          ]
        },
        {
          "output_type": "execute_result",
          "data": {
            "text/html": [
              "<div>\n",
              "<style scoped>\n",
              "    .dataframe tbody tr th:only-of-type {\n",
              "        vertical-align: middle;\n",
              "    }\n",
              "\n",
              "    .dataframe tbody tr th {\n",
              "        vertical-align: top;\n",
              "    }\n",
              "\n",
              "    .dataframe thead th {\n",
              "        text-align: right;\n",
              "    }\n",
              "</style>\n",
              "<table border=\"1\" class=\"dataframe\">\n",
              "  <thead>\n",
              "    <tr style=\"text-align: right;\">\n",
              "      <th></th>\n",
              "      <th>DJI_Adj Close</th>\n",
              "      <th>DJI_Open</th>\n",
              "      <th>DJI_High</th>\n",
              "      <th>DJI_Low</th>\n",
              "      <th>DJI_Close</th>\n",
              "      <th>DJI_Volume</th>\n",
              "    </tr>\n",
              "    <tr>\n",
              "      <th>Date</th>\n",
              "      <th></th>\n",
              "      <th></th>\n",
              "      <th></th>\n",
              "      <th></th>\n",
              "      <th></th>\n",
              "      <th></th>\n",
              "    </tr>\n",
              "  </thead>\n",
              "  <tbody>\n",
              "    <tr>\n",
              "      <th>2007-01-03</th>\n",
              "      <td>12474.5</td>\n",
              "      <td>12474.5</td>\n",
              "      <td>12474.5</td>\n",
              "      <td>12474.5</td>\n",
              "      <td>12474.5</td>\n",
              "      <td>0</td>\n",
              "    </tr>\n",
              "    <tr>\n",
              "      <th>2007-01-04</th>\n",
              "      <td>12480.7</td>\n",
              "      <td>12480.7</td>\n",
              "      <td>12480.7</td>\n",
              "      <td>12480.7</td>\n",
              "      <td>12480.7</td>\n",
              "      <td>0</td>\n",
              "    </tr>\n",
              "    <tr>\n",
              "      <th>2007-01-05</th>\n",
              "      <td>12398.0</td>\n",
              "      <td>12398.0</td>\n",
              "      <td>12398.0</td>\n",
              "      <td>12398.0</td>\n",
              "      <td>12398.0</td>\n",
              "      <td>0</td>\n",
              "    </tr>\n",
              "    <tr>\n",
              "      <th>2007-01-08</th>\n",
              "      <td>12423.5</td>\n",
              "      <td>12423.5</td>\n",
              "      <td>12423.5</td>\n",
              "      <td>12423.5</td>\n",
              "      <td>12423.5</td>\n",
              "      <td>0</td>\n",
              "    </tr>\n",
              "    <tr>\n",
              "      <th>2007-01-09</th>\n",
              "      <td>12416.6</td>\n",
              "      <td>12416.6</td>\n",
              "      <td>12416.6</td>\n",
              "      <td>12416.6</td>\n",
              "      <td>12416.6</td>\n",
              "      <td>0</td>\n",
              "    </tr>\n",
              "    <tr>\n",
              "      <th>2007-01-10</th>\n",
              "      <td>12442.2</td>\n",
              "      <td>12442.2</td>\n",
              "      <td>12442.2</td>\n",
              "      <td>12442.2</td>\n",
              "      <td>12442.2</td>\n",
              "      <td>0</td>\n",
              "    </tr>\n",
              "    <tr>\n",
              "      <th>2007-01-11</th>\n",
              "      <td>12515.0</td>\n",
              "      <td>12515.0</td>\n",
              "      <td>12515.0</td>\n",
              "      <td>12515.0</td>\n",
              "      <td>12515.0</td>\n",
              "      <td>0</td>\n",
              "    </tr>\n",
              "    <tr>\n",
              "      <th>2007-01-12</th>\n",
              "      <td>12556.1</td>\n",
              "      <td>12556.1</td>\n",
              "      <td>12556.1</td>\n",
              "      <td>12556.1</td>\n",
              "      <td>12556.1</td>\n",
              "      <td>0</td>\n",
              "    </tr>\n",
              "    <tr>\n",
              "      <th>2007-01-16</th>\n",
              "      <td>12582.6</td>\n",
              "      <td>12582.6</td>\n",
              "      <td>12582.6</td>\n",
              "      <td>12582.6</td>\n",
              "      <td>12582.6</td>\n",
              "      <td>0</td>\n",
              "    </tr>\n",
              "    <tr>\n",
              "      <th>2007-01-17</th>\n",
              "      <td>12577.2</td>\n",
              "      <td>12577.2</td>\n",
              "      <td>12577.2</td>\n",
              "      <td>12577.2</td>\n",
              "      <td>12577.2</td>\n",
              "      <td>0</td>\n",
              "    </tr>\n",
              "  </tbody>\n",
              "</table>\n",
              "</div>"
            ],
            "text/plain": [
              "            DJI_Adj Close  DJI_Open  DJI_High  DJI_Low  DJI_Close  DJI_Volume\n",
              "Date                                                                         \n",
              "2007-01-03        12474.5   12474.5   12474.5  12474.5    12474.5           0\n",
              "2007-01-04        12480.7   12480.7   12480.7  12480.7    12480.7           0\n",
              "2007-01-05        12398.0   12398.0   12398.0  12398.0    12398.0           0\n",
              "2007-01-08        12423.5   12423.5   12423.5  12423.5    12423.5           0\n",
              "2007-01-09        12416.6   12416.6   12416.6  12416.6    12416.6           0\n",
              "2007-01-10        12442.2   12442.2   12442.2  12442.2    12442.2           0\n",
              "2007-01-11        12515.0   12515.0   12515.0  12515.0    12515.0           0\n",
              "2007-01-12        12556.1   12556.1   12556.1  12556.1    12556.1           0\n",
              "2007-01-16        12582.6   12582.6   12582.6  12582.6    12582.6           0\n",
              "2007-01-17        12577.2   12577.2   12577.2  12577.2    12577.2           0"
            ]
          },
          "metadata": {},
          "execution_count": 9
        },
        {
          "output_type": "display_data",
          "data": {
            "image/png": "[encoded data removed]",
            "text/plain": [
              "<Figure size 432x288 with 1 Axes>"
            ]
          },
          "metadata": {
            "needs_background": "light"
          }
        }
      ]
    },
    {
      "cell_type": "code",
      "metadata": {
        "colab": {
          "base_uri": "https://localhost:8080/",
          "height": 673
        },
        "id": "xOS2PWzfMvbl",
        "outputId": "ea00c7cb-ae13-49b3-d70b-6374b87fb149"
      },
      "source": [
        "# 기름 \n",
        "WTI  = yf.download('WTI',\n",
        "                     start = '2007-01-01',\n",
        "                     end = '2021-10-05',\n",
        "                     progress = False)\n",
        "\n",
        "WTI_data = WTI[['Adj Close', 'Open', 'High', 'Low', \"Close\",\"Volume\"]].round(2)\n",
        "WTI_data.rename(columns={'Adj Close':'WTI_Adj Close', 'Open':'WTI_Open', 'High':'WTI_High', 'Low':'WTI_Low', 'Close':'WTI_Close', 'Volume':'WTI_Volume' }, inplace=True)\n",
        "\n",
        "\n",
        "print(\"There are\" + str(WTI_data[:\"2007\"].shape[0]) + \"observations in the training data\")\n",
        "print(\"There are\" + str(WTI_data[:\"2021\"].shape[0]) + \"observations in the training data\")\n",
        "\n",
        "WTI_data['WTI_Adj Close'].plot()\n",
        "WTI_data.head(10)"
      ],
      "execution_count": 10,
      "outputs": [
        {
          "output_type": "stream",
          "name": "stdout",
          "text": [
            "There are251observations in the training data\n",
            "There are3715observations in the training data\n"
          ]
        },
        {
          "output_type": "execute_result",
          "data": {
            "text/html": [
              "<div>\n",
              "<style scoped>\n",
              "    .dataframe tbody tr th:only-of-type {\n",
              "        vertical-align: middle;\n",
              "    }\n",
              "\n",
              "    .dataframe tbody tr th {\n",
              "        vertical-align: top;\n",
              "    }\n",
              "\n",
              "    .dataframe thead th {\n",
              "        text-align: right;\n",
              "    }\n",
              "</style>\n",
              "<table border=\"1\" class=\"dataframe\">\n",
              "  <thead>\n",
              "    <tr style=\"text-align: right;\">\n",
              "      <th></th>\n",
              "      <th>WTI_Adj Close</th>\n",
              "      <th>WTI_Open</th>\n",
              "      <th>WTI_High</th>\n",
              "      <th>WTI_Low</th>\n",
              "      <th>WTI_Close</th>\n",
              "      <th>WTI_Volume</th>\n",
              "    </tr>\n",
              "    <tr>\n",
              "      <th>Date</th>\n",
              "      <th></th>\n",
              "      <th></th>\n",
              "      <th></th>\n",
              "      <th></th>\n",
              "      <th></th>\n",
              "      <th></th>\n",
              "    </tr>\n",
              "  </thead>\n",
              "  <tbody>\n",
              "    <tr>\n",
              "      <th>2007-01-03</th>\n",
              "      <td>22.62</td>\n",
              "      <td>30.60</td>\n",
              "      <td>30.60</td>\n",
              "      <td>29.65</td>\n",
              "      <td>29.82</td>\n",
              "      <td>758700</td>\n",
              "    </tr>\n",
              "    <tr>\n",
              "      <th>2007-01-04</th>\n",
              "      <td>22.22</td>\n",
              "      <td>29.81</td>\n",
              "      <td>29.81</td>\n",
              "      <td>28.99</td>\n",
              "      <td>29.29</td>\n",
              "      <td>495000</td>\n",
              "    </tr>\n",
              "    <tr>\n",
              "      <th>2007-01-05</th>\n",
              "      <td>22.57</td>\n",
              "      <td>29.10</td>\n",
              "      <td>29.85</td>\n",
              "      <td>29.04</td>\n",
              "      <td>29.75</td>\n",
              "      <td>511400</td>\n",
              "    </tr>\n",
              "    <tr>\n",
              "      <th>2007-01-08</th>\n",
              "      <td>22.38</td>\n",
              "      <td>30.00</td>\n",
              "      <td>30.30</td>\n",
              "      <td>29.10</td>\n",
              "      <td>29.50</td>\n",
              "      <td>478400</td>\n",
              "    </tr>\n",
              "    <tr>\n",
              "      <th>2007-01-09</th>\n",
              "      <td>22.42</td>\n",
              "      <td>29.28</td>\n",
              "      <td>29.87</td>\n",
              "      <td>28.74</td>\n",
              "      <td>29.55</td>\n",
              "      <td>559600</td>\n",
              "    </tr>\n",
              "    <tr>\n",
              "      <th>2007-01-10</th>\n",
              "      <td>21.57</td>\n",
              "      <td>28.80</td>\n",
              "      <td>28.95</td>\n",
              "      <td>28.08</td>\n",
              "      <td>28.41</td>\n",
              "      <td>656300</td>\n",
              "    </tr>\n",
              "    <tr>\n",
              "      <th>2007-01-11</th>\n",
              "      <td>21.00</td>\n",
              "      <td>28.37</td>\n",
              "      <td>28.74</td>\n",
              "      <td>27.50</td>\n",
              "      <td>27.65</td>\n",
              "      <td>565400</td>\n",
              "    </tr>\n",
              "    <tr>\n",
              "      <th>2007-01-12</th>\n",
              "      <td>21.79</td>\n",
              "      <td>27.71</td>\n",
              "      <td>28.77</td>\n",
              "      <td>27.71</td>\n",
              "      <td>28.70</td>\n",
              "      <td>431700</td>\n",
              "    </tr>\n",
              "    <tr>\n",
              "      <th>2007-01-16</th>\n",
              "      <td>21.47</td>\n",
              "      <td>28.50</td>\n",
              "      <td>28.89</td>\n",
              "      <td>28.04</td>\n",
              "      <td>28.28</td>\n",
              "      <td>380200</td>\n",
              "    </tr>\n",
              "    <tr>\n",
              "      <th>2007-01-17</th>\n",
              "      <td>21.59</td>\n",
              "      <td>28.08</td>\n",
              "      <td>28.58</td>\n",
              "      <td>28.08</td>\n",
              "      <td>28.44</td>\n",
              "      <td>211300</td>\n",
              "    </tr>\n",
              "  </tbody>\n",
              "</table>\n",
              "</div>"
            ],
            "text/plain": [
              "            WTI_Adj Close  WTI_Open  WTI_High  WTI_Low  WTI_Close  WTI_Volume\n",
              "Date                                                                         \n",
              "2007-01-03          22.62     30.60     30.60    29.65      29.82      758700\n",
              "2007-01-04          22.22     29.81     29.81    28.99      29.29      495000\n",
              "2007-01-05          22.57     29.10     29.85    29.04      29.75      511400\n",
              "2007-01-08          22.38     30.00     30.30    29.10      29.50      478400\n",
              "2007-01-09          22.42     29.28     29.87    28.74      29.55      559600\n",
              "2007-01-10          21.57     28.80     28.95    28.08      28.41      656300\n",
              "2007-01-11          21.00     28.37     28.74    27.50      27.65      565400\n",
              "2007-01-12          21.79     27.71     28.77    27.71      28.70      431700\n",
              "2007-01-16          21.47     28.50     28.89    28.04      28.28      380200\n",
              "2007-01-17          21.59     28.08     28.58    28.08      28.44      211300"
            ]
          },
          "metadata": {},
          "execution_count": 10
        },
        {
          "output_type": "display_data",
          "data": {
            "image/png": "[encoded data removed]",
            "text/plain": [
              "<Figure size 432x288 with 1 Axes>"
            ]
          },
          "metadata": {
            "needs_background": "light"
          }
        }
      ]
    },
    {
      "cell_type": "code",
      "metadata": {
        "id": "wHxUZzkLVR4Q",
        "colab": {
          "base_uri": "https://localhost:8080/",
          "height": 447
        },
        "outputId": "43653837-d5e6-42c2-c561-b45cab7b6952"
      },
      "source": [
        "all_data = pd.concat([ NDX_data, WTI_data['WTI_Adj Close'], DJI_data['DJI_Adj Close'], ES_data['ES_Adj Close']], axis=1)\n",
        "all_data.head(12)"
      ],
      "execution_count": 11,
      "outputs": [
        {
          "output_type": "execute_result",
          "data": {
            "text/html": [
              "<div>\n",
              "<style scoped>\n",
              "    .dataframe tbody tr th:only-of-type {\n",
              "        vertical-align: middle;\n",
              "    }\n",
              "\n",
              "    .dataframe tbody tr th {\n",
              "        vertical-align: top;\n",
              "    }\n",
              "\n",
              "    .dataframe thead th {\n",
              "        text-align: right;\n",
              "    }\n",
              "</style>\n",
              "<table border=\"1\" class=\"dataframe\">\n",
              "  <thead>\n",
              "    <tr style=\"text-align: right;\">\n",
              "      <th></th>\n",
              "      <th>NDX_Adj Close</th>\n",
              "      <th>NDX_Open</th>\n",
              "      <th>NDX_High</th>\n",
              "      <th>NDX_Low</th>\n",
              "      <th>NDX_Close</th>\n",
              "      <th>NDX_Volume</th>\n",
              "      <th>WTI_Adj Close</th>\n",
              "      <th>DJI_Adj Close</th>\n",
              "      <th>ES_Adj Close</th>\n",
              "    </tr>\n",
              "    <tr>\n",
              "      <th>Date</th>\n",
              "      <th></th>\n",
              "      <th></th>\n",
              "      <th></th>\n",
              "      <th></th>\n",
              "      <th></th>\n",
              "      <th></th>\n",
              "      <th></th>\n",
              "      <th></th>\n",
              "      <th></th>\n",
              "    </tr>\n",
              "  </thead>\n",
              "  <tbody>\n",
              "    <tr>\n",
              "      <th>2007-01-03</th>\n",
              "      <td>1759.37</td>\n",
              "      <td>1769.22</td>\n",
              "      <td>1793.05</td>\n",
              "      <td>1731.71</td>\n",
              "      <td>1759.37</td>\n",
              "      <td>2435280000</td>\n",
              "      <td>22.62</td>\n",
              "      <td>12474.5</td>\n",
              "      <td>17.57</td>\n",
              "    </tr>\n",
              "    <tr>\n",
              "      <th>2007-01-04</th>\n",
              "      <td>1792.91</td>\n",
              "      <td>1763.15</td>\n",
              "      <td>1799.07</td>\n",
              "      <td>1757.00</td>\n",
              "      <td>1792.91</td>\n",
              "      <td>2104210000</td>\n",
              "      <td>22.22</td>\n",
              "      <td>12480.7</td>\n",
              "      <td>17.43</td>\n",
              "    </tr>\n",
              "    <tr>\n",
              "      <th>2007-01-05</th>\n",
              "      <td>1785.30</td>\n",
              "      <td>1787.79</td>\n",
              "      <td>1787.79</td>\n",
              "      <td>1770.29</td>\n",
              "      <td>1785.30</td>\n",
              "      <td>2060360000</td>\n",
              "      <td>22.57</td>\n",
              "      <td>12398.0</td>\n",
              "      <td>17.07</td>\n",
              "    </tr>\n",
              "    <tr>\n",
              "      <th>2007-01-08</th>\n",
              "      <td>1787.14</td>\n",
              "      <td>1786.39</td>\n",
              "      <td>1795.45</td>\n",
              "      <td>1776.99</td>\n",
              "      <td>1787.14</td>\n",
              "      <td>1905620000</td>\n",
              "      <td>22.38</td>\n",
              "      <td>12423.5</td>\n",
              "      <td>17.16</td>\n",
              "    </tr>\n",
              "    <tr>\n",
              "      <th>2007-01-09</th>\n",
              "      <td>1795.63</td>\n",
              "      <td>1791.75</td>\n",
              "      <td>1802.44</td>\n",
              "      <td>1776.73</td>\n",
              "      <td>1795.63</td>\n",
              "      <td>2144160000</td>\n",
              "      <td>22.42</td>\n",
              "      <td>12416.6</td>\n",
              "      <td>17.15</td>\n",
              "    </tr>\n",
              "    <tr>\n",
              "      <th>2007-01-10</th>\n",
              "      <td>1816.15</td>\n",
              "      <td>1790.51</td>\n",
              "      <td>1817.22</td>\n",
              "      <td>1784.28</td>\n",
              "      <td>1816.15</td>\n",
              "      <td>2274210000</td>\n",
              "      <td>21.57</td>\n",
              "      <td>12442.2</td>\n",
              "      <td>17.13</td>\n",
              "    </tr>\n",
              "    <tr>\n",
              "      <th>2007-01-11</th>\n",
              "      <td>1834.86</td>\n",
              "      <td>1820.75</td>\n",
              "      <td>1840.88</td>\n",
              "      <td>1818.09</td>\n",
              "      <td>1834.86</td>\n",
              "      <td>2436270000</td>\n",
              "      <td>21.00</td>\n",
              "      <td>12515.0</td>\n",
              "      <td>17.13</td>\n",
              "    </tr>\n",
              "    <tr>\n",
              "      <th>2007-01-12</th>\n",
              "      <td>1844.81</td>\n",
              "      <td>1832.15</td>\n",
              "      <td>1845.68</td>\n",
              "      <td>1830.34</td>\n",
              "      <td>1844.81</td>\n",
              "      <td>2175810000</td>\n",
              "      <td>21.79</td>\n",
              "      <td>12556.1</td>\n",
              "      <td>17.12</td>\n",
              "    </tr>\n",
              "    <tr>\n",
              "      <th>2007-01-16</th>\n",
              "      <td>1842.44</td>\n",
              "      <td>1844.73</td>\n",
              "      <td>1847.54</td>\n",
              "      <td>1836.83</td>\n",
              "      <td>1842.44</td>\n",
              "      <td>2139550000</td>\n",
              "      <td>21.47</td>\n",
              "      <td>12582.6</td>\n",
              "      <td>17.10</td>\n",
              "    </tr>\n",
              "    <tr>\n",
              "      <th>2007-01-17</th>\n",
              "      <td>1827.68</td>\n",
              "      <td>1835.05</td>\n",
              "      <td>1843.07</td>\n",
              "      <td>1824.74</td>\n",
              "      <td>1827.68</td>\n",
              "      <td>2273880000</td>\n",
              "      <td>21.59</td>\n",
              "      <td>12577.2</td>\n",
              "      <td>17.05</td>\n",
              "    </tr>\n",
              "    <tr>\n",
              "      <th>2007-01-18</th>\n",
              "      <td>1793.68</td>\n",
              "      <td>1821.99</td>\n",
              "      <td>1824.34</td>\n",
              "      <td>1789.39</td>\n",
              "      <td>1793.68</td>\n",
              "      <td>2456180000</td>\n",
              "      <td>21.56</td>\n",
              "      <td>12567.9</td>\n",
              "      <td>16.94</td>\n",
              "    </tr>\n",
              "    <tr>\n",
              "      <th>2007-01-19</th>\n",
              "      <td>1796.81</td>\n",
              "      <td>1787.82</td>\n",
              "      <td>1802.22</td>\n",
              "      <td>1787.52</td>\n",
              "      <td>1796.81</td>\n",
              "      <td>2037890000</td>\n",
              "      <td>22.14</td>\n",
              "      <td>12565.5</td>\n",
              "      <td>17.04</td>\n",
              "    </tr>\n",
              "  </tbody>\n",
              "</table>\n",
              "</div>"
            ],
            "text/plain": [
              "            NDX_Adj Close  NDX_Open  ...  DJI_Adj Close  ES_Adj Close\n",
              "Date                                 ...                             \n",
              "2007-01-03        1759.37   1769.22  ...        12474.5         17.57\n",
              "2007-01-04        1792.91   1763.15  ...        12480.7         17.43\n",
              "2007-01-05        1785.30   1787.79  ...        12398.0         17.07\n",
              "2007-01-08        1787.14   1786.39  ...        12423.5         17.16\n",
              "2007-01-09        1795.63   1791.75  ...        12416.6         17.15\n",
              "2007-01-10        1816.15   1790.51  ...        12442.2         17.13\n",
              "2007-01-11        1834.86   1820.75  ...        12515.0         17.13\n",
              "2007-01-12        1844.81   1832.15  ...        12556.1         17.12\n",
              "2007-01-16        1842.44   1844.73  ...        12582.6         17.10\n",
              "2007-01-17        1827.68   1835.05  ...        12577.2         17.05\n",
              "2007-01-18        1793.68   1821.99  ...        12567.9         16.94\n",
              "2007-01-19        1796.81   1787.82  ...        12565.5         17.04\n",
              "\n",
              "[12 rows x 9 columns]"
            ]
          },
          "metadata": {},
          "execution_count": 11
        }
      ]
    },
    {
      "cell_type": "code",
      "metadata": {
        "id": "m7FDBl3Gb5Fr"
      },
      "source": [
        "#all_Adj_data = pd.concat([NDX_data['NDX_Adj Close'], GOLD_data['GOLD_Adj Close'],WTI_data['WTI_Adj Close']], axis = 1)\n",
        "#all_Adj_data.head()\n",
        "#\n",
        "#all_Adj_data.shape"
      ],
      "execution_count": null,
      "outputs": []
    },
    {
      "cell_type": "markdown",
      "metadata": {
        "id": "2zI5ge0wcZeG"
      },
      "source": [
        "입력값과 출력값 데이터를 위한 코드"
      ]
    },
    {
      "cell_type": "code",
      "metadata": {
        "id": "U1u4Mp9s4lyL"
      },
      "source": [
        "def ts_train_test_normalize(all_data, time_steps, for_periods):\n",
        "   \n",
        "    # create training and test set \n",
        "    ts_train = all_data[:'2021'].iloc[:,0:1].values\n",
        "    ts_test = all_data['2021':].iloc[:,0:1].values \n",
        "    ts_train_len = len(ts_train)\n",
        "    ts_test_len = len(ts_test)\n",
        "    \n",
        "    # scale the data \n",
        "    from sklearn.preprocessing import MinMaxScaler \n",
        "    sc = MinMaxScaler(feature_range=(0,1))\n",
        "    ts_train_scaled = sc.fit_transform(ts_train)\n",
        "    \n",
        "    # create training data of s samples and t time steps \n",
        "    X_train = [] \n",
        "    y_train = [] \n",
        "    for i in range(time_steps, ts_train_len-1):\n",
        "        X_train.append(ts_train_scaled[i-time_steps:i, 0])\n",
        "        y_train.append(ts_train_scaled[i:i+for_periods, 0])\n",
        "    X_train, y_train = np.array(X_train), np.array(y_train)\n",
        "    \n",
        "    # Reshaping X_train for efficient modelling \n",
        "    X_train = np.reshape(X_train, (X_train.shape[0], X_train.shape[1], 1 ))\n",
        "    \n",
        "    inputs = pd.concat((all_data[\"NDX_Adj Close\"][:'2021'], all_data[\"NDX_Adj Close\"]['2021':]), axis=0).values\n",
        "    inputs = inputs[len(inputs)-len(ts_test)-time_steps:]\n",
        "    inputs = inputs.reshape(-1,1)\n",
        "    inputs = sc.transform(inputs)\n",
        "    \n",
        "    # Preparing X_test \n",
        "    X_test = [] \n",
        "    for i in range(time_steps, ts_test_len + time_steps - for_periods):\n",
        "        X_test.append(inputs[i-time_steps:i,0])\n",
        "    \n",
        "    X_test = np.array(X_test)\n",
        "    X_test = np.reshape(X_test, (X_test.shape[0], X_test.shape[1], 1))\n",
        "    \n",
        "    return X_train, y_train , X_test, sc"
      ],
      "execution_count": 12,
      "outputs": []
    },
    {
      "cell_type": "code",
      "metadata": {
        "colab": {
          "base_uri": "https://localhost:8080/"
        },
        "id": "e6qlrRNFtGA8",
        "outputId": "11f164b7-a338-4820-8aab-4f4a8ab9f37a"
      },
      "source": [
        "#X_train, y_train, X_test, sc = ts_train_test_normalize(NDX_data, 5, 2)\n",
        "X_train, y_train, X_test, sc = ts_train_test_normalize(all_data, 5, 2)\n",
        "\n",
        "X_train.shape[0], X_train.shape[1]"
      ],
      "execution_count": 13,
      "outputs": [
        {
          "output_type": "execute_result",
          "data": {
            "text/plain": [
              "(3709, 5)"
            ]
          },
          "metadata": {},
          "execution_count": 13
        }
      ]
    },
    {
      "cell_type": "code",
      "metadata": {
        "colab": {
          "base_uri": "https://localhost:8080/"
        },
        "id": "KNZoJkbI02Fz",
        "outputId": "6446714b-ce07-455d-f16c-0d5825ef190a"
      },
      "source": [
        "# 3차원의 X_train을 데이터프레임 형식으로 바꿔서 눈으로 확인해보기\n",
        "X_train_see = pd.DataFrame(np.reshape(X_train, (X_train.shape[0], X_train.shape[1])))\n",
        "y_train_see = pd.DataFrame(y_train)\n",
        "pd.concat([X_train_see, y_train_see], axis = 1)\n",
        "\n",
        "# 3차원의 X_test를 데이터프레임 형식으로 바꿔서 눈으로 확인해보기\n",
        "X_test_see = pd.DataFrame(np.reshape(X_test, (X_test.shape[0], X_test.shape[1])))\n",
        "pd.DataFrame(X_test_see)\n",
        "\n",
        "print(\"There are \" + str(X_train.shape[0]) + \" samples in the training data\")\n",
        "# There are ? samples in the training data\n",
        "\n",
        "print(\"There are \" + str(X_test.shape[0]) + \" samples in the test data\")\n",
        "# There are ? samples in the test data"
      ],
      "execution_count": 14,
      "outputs": [
        {
          "output_type": "stream",
          "name": "stdout",
          "text": [
            "There are 3709 samples in the training data\n",
            "There are 188 samples in the test data\n"
          ]
        }
      ]
    },
    {
      "cell_type": "code",
      "metadata": {
        "id": "n6ga7XycbRRW"
      },
      "source": [
        "def LSTM_model(X_train, y_train, X_test, sc):\n",
        "    # import neccesary modul\n",
        "    from keras.models import Sequential\n",
        "    from keras.layers import Dense, SimpleRNN, GRU, LSTM\n",
        "    from tensorflow.keras.optimizers import SGD\n",
        "\n",
        "    # LSTM architecture\n",
        "    my_LSTM_model = Sequential()\n",
        "    my_LSTM_model.add(LSTM(units = 50,\n",
        "                           return_sequences = True,\n",
        "                           input_shape = (X_train.shape[1],1),\n",
        "                           activation = 'tanh'))\n",
        "    my_LSTM_model.add(LSTM(units = 50, activation = 'tanh'))\n",
        "    my_LSTM_model.add(Dense(units = 2))\n",
        "\n",
        "    # compiling\n",
        "    my_LSTM_model.compile(optimizer =SGD(lr = 0.17, decay = 1e-7, momentum = 0.98, nesterov = False),\n",
        "                          loss = 'mean_squared_error') # momentum은 관성을 나타냄\n",
        "    \n",
        "    # training data 세트에 피팅하기 (조기 중단은 추가함)\n",
        "    my_LSTM_model.fit(X_train, y_train, epochs = 35, batch_size = 150, verbose = 0)\n",
        "\n",
        "    # X_test를 LSTM model에 넣어서 예측하기\n",
        "    LSTM_prediction = my_LSTM_model.predict(X_test)\n",
        "    LSTM_prediction = sc.inverse_transform(LSTM_prediction)\n",
        "\n",
        "    return my_LSTM_model, LSTM_prediction"
      ],
      "execution_count": 94,
      "outputs": []
    },
    {
      "cell_type": "code",
      "metadata": {
        "id": "7bloT7k3gd5J"
      },
      "source": [
        "def actual_pred_plot(preds):\n",
        "    # Plot the actual vs prediction\n",
        "\n",
        "    actual_pred = pd.DataFrame(columns = ['NDX_Adj Close', 'prediction'])\n",
        "    actual_pred['NDX_Adj Close'] = all_data.loc['2021':, 'NDX_Adj Close'][0:len(preds)]\n",
        "    actual_pred['prediction'] = preds[:, 0]\n",
        "\n",
        "    from keras.metrics import MeanSquaredError\n",
        "    m = MeanSquaredError()\n",
        "    m.update_state(np.array(actual_pred['NDX_Adj Close']), np.array(actual_pred['prediction']))\n",
        "\n",
        "    return (m.result().numpy(), actual_pred.plot())"
      ],
      "execution_count": 95,
      "outputs": []
    },
    {
      "cell_type": "code",
      "metadata": {
        "colab": {
          "base_uri": "https://localhost:8080/",
          "height": 330
        },
        "id": "dYSA3Wgytt4Q",
        "outputId": "5aac4dcb-2638-4b23-a1b5-7e66cc74fe5c"
      },
      "source": [
        "my_LSTM_model, LSTM_prediction = LSTM_model(X_train, y_train, X_test, sc)\n",
        "LSTM_prediction[1:10]\n",
        "actual_pred_plot(LSTM_prediction)"
      ],
      "execution_count": 96,
      "outputs": [
        {
          "output_type": "stream",
          "name": "stderr",
          "text": [
            "/usr/local/lib/python3.7/dist-packages/keras/optimizer_v2/optimizer_v2.py:356: UserWarning: The `lr` argument is deprecated, use `learning_rate` instead.\n",
            "  \"The `lr` argument is deprecated, use `learning_rate` instead.\")\n"
          ]
        },
        {
          "output_type": "execute_result",
          "data": {
            "text/plain": [
              "(54512.074, <matplotlib.axes._subplots.AxesSubplot at 0x7fb529002d50>)"
            ]
          },
          "metadata": {},
          "execution_count": 96
        },
        {
          "output_type": "display_data",
          "data": {
            "image/png": "[encoded data removed]",
            "text/plain": [
              "<Figure size 432x288 with 1 Axes>"
            ]
          },
          "metadata": {
            "needs_background": "light"
          }
        }
      ]
    },
    {
      "cell_type": "code",
      "metadata": {
        "id": "dXwU3UT1wOiW"
      },
      "source": [
        "y_pred = pd.DataFrame(LSTM_prediction[:, 0])\n",
        "#y_test = NDX_data.loc['2021':, 'NDX_Adj Close'][0:len(LSTM_prediction)]\n",
        "y_test = all_data.loc['2021':, 'NDX_Adj Close'][0:len(LSTM_prediction)]\n",
        "y_test.reset_index(drop = True, inplace = True)"
      ],
      "execution_count": 97,
      "outputs": []
    },
    {
      "cell_type": "code",
      "metadata": {
        "id": "6X2uu5RVwObw"
      },
      "source": [
        "# 예측성능 출력\n",
        "from sklearn.metrics import accuracy_score, mean_absolute_error, mean_squared_error, mean_squared_log_error, r2_score\n",
        "\n",
        "def confirm_result(y_test, y_pred):\n",
        "    MAE = mean_absolute_error(y_test, y_pred)\n",
        "    RMSE = np.sqrt(mean_squared_error(y_test, y_pred))\n",
        "    MSLE = mean_squared_log_error(y_test, y_pred)\n",
        "    RMSLE = np.sqrt(mean_squared_log_error(y_test, y_pred))\n",
        "    R2 = r2_score(y_test, y_pred)\n",
        "\n",
        "    Result = pd.DataFrame(data = [MAE, RMSE, RMSLE, R2],\n",
        "                          index = ['MAE', 'RMSE', 'RMSLE', 'R2'],\n",
        "                          columns = ['Results'])\n",
        "    \n",
        "    return Result"
      ],
      "execution_count": 98,
      "outputs": []
    },
    {
      "cell_type": "code",
      "metadata": {
        "colab": {
          "base_uri": "https://localhost:8080/",
          "height": 171
        },
        "id": "csR0pPhQFbBi",
        "outputId": "99d13088-329d-448a-cb9e-5bcf3a956d9c"
      },
      "source": [
        "# result check\n",
        "confirm_result(y_test, y_pred)"
      ],
      "execution_count": 99,
      "outputs": [
        {
          "output_type": "execute_result",
          "data": {
            "text/html": [
              "<div>\n",
              "<style scoped>\n",
              "    .dataframe tbody tr th:only-of-type {\n",
              "        vertical-align: middle;\n",
              "    }\n",
              "\n",
              "    .dataframe tbody tr th {\n",
              "        vertical-align: top;\n",
              "    }\n",
              "\n",
              "    .dataframe thead th {\n",
              "        text-align: right;\n",
              "    }\n",
              "</style>\n",
              "<table border=\"1\" class=\"dataframe\">\n",
              "  <thead>\n",
              "    <tr style=\"text-align: right;\">\n",
              "      <th></th>\n",
              "      <th>Results</th>\n",
              "    </tr>\n",
              "  </thead>\n",
              "  <tbody>\n",
              "    <tr>\n",
              "      <th>MAE</th>\n",
              "      <td>143.831633</td>\n",
              "    </tr>\n",
              "    <tr>\n",
              "      <th>RMSE</th>\n",
              "      <td>233.478196</td>\n",
              "    </tr>\n",
              "    <tr>\n",
              "      <th>RMSLE</th>\n",
              "      <td>0.017199</td>\n",
              "    </tr>\n",
              "    <tr>\n",
              "      <th>R2</th>\n",
              "      <td>0.931124</td>\n",
              "    </tr>\n",
              "  </tbody>\n",
              "</table>\n",
              "</div>"
            ],
            "text/plain": [
              "          Results\n",
              "MAE    143.831633\n",
              "RMSE   233.478196\n",
              "RMSLE    0.017199\n",
              "R2       0.931124"
            ]
          },
          "metadata": {},
          "execution_count": 99
        }
      ]
    },
    {
      "cell_type": "code",
      "metadata": {
        "id": "v9uAz0TVvA79"
      },
      "source": [
        "def GRU_model(X_train, y_train, X_test, sc):\n",
        "    # create a model \n",
        "    from keras.models import Sequential \n",
        "    from keras.layers import Dense, SimpleRNN, GRU\n",
        "    from tensorflow.keras.optimizers import SGD\n",
        "    \n",
        "    # The GRU architecture \n",
        "    my_GRU_model = Sequential()\n",
        "    my_GRU_model.add(GRU(units = 50, \n",
        "                         return_sequences = True, \n",
        "                         input_shape = (X_train.shape[1],1), \n",
        "                         activation = 'tanh'))\n",
        "    my_GRU_model.add(GRU(units = 50, \n",
        "                         activation = 'tanh'))\n",
        "    my_GRU_model.add(Dense(units = 2))\n",
        "    \n",
        "    # Compiling the RNN \n",
        "    my_GRU_model.compile(optimizer = SGD(lr = 0.17, decay = 1e-7, \n",
        "                                         momentum = 0.98, nesterov = False), \n",
        "                         loss = 'mean_squared_error')\n",
        "    \n",
        "    # Fitting to the trainig set \n",
        "    my_GRU_model.fit(X_train, y_train, epochs = 40, batch_size = 150, verbose = 0)\n",
        "    \n",
        "    GRU_prediction = my_GRU_model.predict(X_test)\n",
        "    GRU_prediction = sc.inverse_transform(GRU_prediction)\n",
        "    \n",
        "    return my_GRU_model, GRU_prediction\n"
      ],
      "execution_count": 85,
      "outputs": []
    },
    {
      "cell_type": "code",
      "metadata": {
        "colab": {
          "base_uri": "https://localhost:8080/",
          "height": 330
        },
        "id": "OLq-VtElvBDK",
        "outputId": "963e2a53-0831-49b8-f7dd-c20f4a47b3b8"
      },
      "source": [
        "my_GRU_model, GRU_prediction = GRU_model(X_train, y_train, X_test, sc)\n",
        "GRU_prediction[1:10]\n",
        "actual_pred_plot(GRU_prediction)"
      ],
      "execution_count": 86,
      "outputs": [
        {
          "output_type": "stream",
          "name": "stderr",
          "text": [
            "/usr/local/lib/python3.7/dist-packages/keras/optimizer_v2/optimizer_v2.py:356: UserWarning: The `lr` argument is deprecated, use `learning_rate` instead.\n",
            "  \"The `lr` argument is deprecated, use `learning_rate` instead.\")\n"
          ]
        },
        {
          "output_type": "execute_result",
          "data": {
            "text/plain": [
              "(79145.305, <matplotlib.axes._subplots.AxesSubplot at 0x7fb52f8042d0>)"
            ]
          },
          "metadata": {},
          "execution_count": 86
        },
        {
          "output_type": "display_data",
          "data": {
            "image/png": "[encoded data removed]",
            "text/plain": [
              "<Figure size 432x288 with 1 Axes>"
            ]
          },
          "metadata": {
            "needs_background": "light"
          }
        }
      ]
    },
    {
      "cell_type": "code",
      "metadata": {
        "id": "LQ2Tq2vuvGE9"
      },
      "source": [
        "y_pred_gru = pd.DataFrame(GRU_prediction[:, 0])\n",
        "y_test_gru=NDX_data.loc['2021':,'NDX_Adj Close'][0:len(GRU_prediction)]\n",
        "y_test_gru.reset_index(drop=True, inplace=True)"
      ],
      "execution_count": 87,
      "outputs": []
    },
    {
      "cell_type": "code",
      "metadata": {
        "colab": {
          "base_uri": "https://localhost:8080/",
          "height": 171
        },
        "id": "ipQEQUTTvOj7",
        "outputId": "32aacda3-da19-40bd-c33c-22398e60de01"
      },
      "source": [
        "confirm_result(y_test_gru, y_pred_gru)"
      ],
      "execution_count": 88,
      "outputs": [
        {
          "output_type": "execute_result",
          "data": {
            "text/html": [
              "<div>\n",
              "<style scoped>\n",
              "    .dataframe tbody tr th:only-of-type {\n",
              "        vertical-align: middle;\n",
              "    }\n",
              "\n",
              "    .dataframe tbody tr th {\n",
              "        vertical-align: top;\n",
              "    }\n",
              "\n",
              "    .dataframe thead th {\n",
              "        text-align: right;\n",
              "    }\n",
              "</style>\n",
              "<table border=\"1\" class=\"dataframe\">\n",
              "  <thead>\n",
              "    <tr style=\"text-align: right;\">\n",
              "      <th></th>\n",
              "      <th>Results</th>\n",
              "    </tr>\n",
              "  </thead>\n",
              "  <tbody>\n",
              "    <tr>\n",
              "      <th>MAE</th>\n",
              "      <td>199.110260</td>\n",
              "    </tr>\n",
              "    <tr>\n",
              "      <th>RMSE</th>\n",
              "      <td>281.327760</td>\n",
              "    </tr>\n",
              "    <tr>\n",
              "      <th>RMSLE</th>\n",
              "      <td>0.020456</td>\n",
              "    </tr>\n",
              "    <tr>\n",
              "      <th>R2</th>\n",
              "      <td>0.900000</td>\n",
              "    </tr>\n",
              "  </tbody>\n",
              "</table>\n",
              "</div>"
            ],
            "text/plain": [
              "          Results\n",
              "MAE    199.110260\n",
              "RMSE   281.327760\n",
              "RMSLE    0.020456\n",
              "R2       0.900000"
            ]
          },
          "metadata": {},
          "execution_count": 88
        }
      ]
    }
  ]
}
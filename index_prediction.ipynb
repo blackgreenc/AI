{
  "nbformat": 4,
  "nbformat_minor": 0,
  "metadata": {
    "colab": {
      "name": "index_prediction",
      "provenance": [],
      "collapsed_sections": [],
      "authorship_tag": "ABX9TyMhie5vo0Duk0G0cjClFCs7",
      "include_colab_link": true
    },
    "kernelspec": {
      "name": "python3",
      "display_name": "Python 3"
    },
    "language_info": {
      "name": "python"
    }
  },
  "cells": [
    {
      "cell_type": "markdown",
      "metadata": {
        "id": "view-in-github",
        "colab_type": "text"
      },
      "source": [
        "<a href=\"https://colab.research.google.com/github/blackgreenc/AI/blob/main/index_prediction.ipynb\" target=\"_parent\"><img src=\"https://colab.research.google.com/assets/colab-badge.svg\" alt=\"Open In Colab\"/></a>"
      ]
    },
    {
      "cell_type": "markdown",
      "metadata": {
        "id": "KZ1ZWFMNcP1F"
      },
      "source": [
        "1. 모듈 불러오기"
      ]
    },
    {
      "cell_type": "code",
      "metadata": {
        "id": "DQwjJlqeMZ_c",
        "colab": {
          "base_uri": "https://localhost:8080/"
        },
        "outputId": "82775e45-478f-44a4-bc9f-6380daf8d859"
      },
      "source": [
        "!pip install yfinance\n",
        "import numpy as np\n",
        "import tensorflow as tf\n",
        "import pandas as pd\n",
        "import yfinance as yf #야후 파이낸스 데이터"
      ],
      "execution_count": 3,
      "outputs": [
        {
          "output_type": "stream",
          "name": "stdout",
          "text": [
            "Collecting yfinance\n",
            "  Downloading yfinance-0.1.63.tar.gz (26 kB)\n",
            "Requirement already satisfied: pandas>=0.24 in /usr/local/lib/python3.7/dist-packages (from yfinance) (1.1.5)\n",
            "Requirement already satisfied: numpy>=1.15 in /usr/local/lib/python3.7/dist-packages (from yfinance) (1.19.5)\n",
            "Requirement already satisfied: requests>=2.20 in /usr/local/lib/python3.7/dist-packages (from yfinance) (2.23.0)\n",
            "Requirement already satisfied: multitasking>=0.0.7 in /usr/local/lib/python3.7/dist-packages (from yfinance) (0.0.9)\n",
            "Collecting lxml>=4.5.1\n",
            "  Downloading lxml-4.6.3-cp37-cp37m-manylinux2014_x86_64.whl (6.3 MB)\n",
            "\u001b[K     |████████████████████████████████| 6.3 MB 4.2 MB/s \n",
            "\u001b[?25hRequirement already satisfied: pytz>=2017.2 in /usr/local/lib/python3.7/dist-packages (from pandas>=0.24->yfinance) (2018.9)\n",
            "Requirement already satisfied: python-dateutil>=2.7.3 in /usr/local/lib/python3.7/dist-packages (from pandas>=0.24->yfinance) (2.8.2)\n",
            "Requirement already satisfied: six>=1.5 in /usr/local/lib/python3.7/dist-packages (from python-dateutil>=2.7.3->pandas>=0.24->yfinance) (1.15.0)\n",
            "Requirement already satisfied: chardet<4,>=3.0.2 in /usr/local/lib/python3.7/dist-packages (from requests>=2.20->yfinance) (3.0.4)\n",
            "Requirement already satisfied: certifi>=2017.4.17 in /usr/local/lib/python3.7/dist-packages (from requests>=2.20->yfinance) (2021.5.30)\n",
            "Requirement already satisfied: urllib3!=1.25.0,!=1.25.1,<1.26,>=1.21.1 in /usr/local/lib/python3.7/dist-packages (from requests>=2.20->yfinance) (1.24.3)\n",
            "Requirement already satisfied: idna<3,>=2.5 in /usr/local/lib/python3.7/dist-packages (from requests>=2.20->yfinance) (2.10)\n",
            "Building wheels for collected packages: yfinance\n",
            "  Building wheel for yfinance (setup.py) ... \u001b[?25l\u001b[?25hdone\n",
            "  Created wheel for yfinance: filename=yfinance-0.1.63-py2.py3-none-any.whl size=23918 sha256=a73171eff9f7e115c5507e2b86b63b4a1849528021373fbcaead93b9c30b3221\n",
            "  Stored in directory: /root/.cache/pip/wheels/fe/87/8b/7ec24486e001d3926537f5f7801f57a74d181be25b11157983\n",
            "Successfully built yfinance\n",
            "Installing collected packages: lxml, yfinance\n",
            "  Attempting uninstall: lxml\n",
            "    Found existing installation: lxml 4.2.6\n",
            "    Uninstalling lxml-4.2.6:\n",
            "      Successfully uninstalled lxml-4.2.6\n",
            "Successfully installed lxml-4.6.3 yfinance-0.1.63\n"
          ]
        }
      ]
    },
    {
      "cell_type": "code",
      "metadata": {
        "id": "mZ7Ld-HwMvV7"
      },
      "source": [
        "#아마존\n",
        "#AMZN = yf.download('AMZN',\n",
        "#                     start = '2000-01-01',\n",
        "#                     end = '2021-1-05',\n",
        "#                     progress = False)\n",
        "#\n",
        "#AMZN_data = AMZN[['Adj Close', 'Open', 'High', 'Low', \"Close\",\"Volume\"]].round(2)\n",
        "#AMZN_data.head(15)\n",
        "#\n",
        "#print(\"There are\" + str(AMZN_data[:\"2000\"].shape[0]) + \"observations in the training data\")\n",
        "#print(\"There are\" + str(AMZN_data[:\"2021\"].shape[0]) + \"observations in the training data\")\n",
        "#AMZN_data['Adj Close'].plot()"
      ],
      "execution_count": 4,
      "outputs": []
    },
    {
      "cell_type": "code",
      "metadata": {
        "colab": {
          "base_uri": "https://localhost:8080/",
          "height": 673
        },
        "id": "FfwPUMtQMvXM",
        "outputId": "91898dcd-8179-4c1c-bef8-a11fd54cfdbb"
      },
      "source": [
        "# 나스닥 100\n",
        "NDX  = yf.download('NDX',\n",
        "                     start = '2010-01-01',\n",
        "                     end = '2021-10-05',\n",
        "                     progress = False)\n",
        "\n",
        "NDX_data = NDX[['Adj Close', 'Open', 'High', 'Low', \"Close\",\"Volume\"]].round(2)\n",
        "NDX_data.rename(columns={'Adj Close':'NDX_Adj Close', 'Open':'NDX_Open', 'High':'NDX_High', 'Low':'NDX_Low', 'Close':'NDX_Close', 'Volume':'NDX_Volume' }, inplace=True)\n",
        "\n",
        "\n",
        "print(\"There are\" + str(NDX_data[:\"2006\"].shape[0]) + \"observations in the training data\")\n",
        "print(\"There are\" + str(NDX_data[:\"2021\"].shape[0]) + \"observations in the training data\")\n",
        "\n",
        "NDX_data['NDX_Adj Close'].plot()\n",
        "NDX_data.shape\n",
        "NDX_data.loc[::-1].head(10)"
      ],
      "execution_count": 5,
      "outputs": [
        {
          "output_type": "stream",
          "name": "stdout",
          "text": [
            "There are0observations in the training data\n",
            "There are2959observations in the training data\n"
          ]
        },
        {
          "output_type": "execute_result",
          "data": {
            "text/html": [
              "<div>\n",
              "<style scoped>\n",
              "    .dataframe tbody tr th:only-of-type {\n",
              "        vertical-align: middle;\n",
              "    }\n",
              "\n",
              "    .dataframe tbody tr th {\n",
              "        vertical-align: top;\n",
              "    }\n",
              "\n",
              "    .dataframe thead th {\n",
              "        text-align: right;\n",
              "    }\n",
              "</style>\n",
              "<table border=\"1\" class=\"dataframe\">\n",
              "  <thead>\n",
              "    <tr style=\"text-align: right;\">\n",
              "      <th></th>\n",
              "      <th>NDX_Adj Close</th>\n",
              "      <th>NDX_Open</th>\n",
              "      <th>NDX_High</th>\n",
              "      <th>NDX_Low</th>\n",
              "      <th>NDX_Close</th>\n",
              "      <th>NDX_Volume</th>\n",
              "    </tr>\n",
              "    <tr>\n",
              "      <th>Date</th>\n",
              "      <th></th>\n",
              "      <th></th>\n",
              "      <th></th>\n",
              "      <th></th>\n",
              "      <th></th>\n",
              "      <th></th>\n",
              "    </tr>\n",
              "  </thead>\n",
              "  <tbody>\n",
              "    <tr>\n",
              "      <th>2021-10-04</th>\n",
              "      <td>14472.12</td>\n",
              "      <td>14713.60</td>\n",
              "      <td>14727.60</td>\n",
              "      <td>14384.93</td>\n",
              "      <td>14472.12</td>\n",
              "      <td>4539650000</td>\n",
              "    </tr>\n",
              "    <tr>\n",
              "      <th>2021-10-01</th>\n",
              "      <td>14791.87</td>\n",
              "      <td>14731.38</td>\n",
              "      <td>14830.84</td>\n",
              "      <td>14555.12</td>\n",
              "      <td>14791.87</td>\n",
              "      <td>4688550000</td>\n",
              "    </tr>\n",
              "    <tr>\n",
              "      <th>2021-09-30</th>\n",
              "      <td>14689.62</td>\n",
              "      <td>14830.30</td>\n",
              "      <td>14888.22</td>\n",
              "      <td>14684.55</td>\n",
              "      <td>14689.62</td>\n",
              "      <td>5910550000</td>\n",
              "    </tr>\n",
              "    <tr>\n",
              "      <th>2021-09-29</th>\n",
              "      <td>14752.89</td>\n",
              "      <td>14835.51</td>\n",
              "      <td>14914.92</td>\n",
              "      <td>14727.41</td>\n",
              "      <td>14752.89</td>\n",
              "      <td>5246170000</td>\n",
              "    </tr>\n",
              "    <tr>\n",
              "      <th>2021-09-28</th>\n",
              "      <td>14770.30</td>\n",
              "      <td>15001.98</td>\n",
              "      <td>15040.57</td>\n",
              "      <td>14758.98</td>\n",
              "      <td>14770.30</td>\n",
              "      <td>4954270000</td>\n",
              "    </tr>\n",
              "    <tr>\n",
              "      <th>2021-09-27</th>\n",
              "      <td>15204.82</td>\n",
              "      <td>15205.23</td>\n",
              "      <td>15240.58</td>\n",
              "      <td>15106.45</td>\n",
              "      <td>15204.82</td>\n",
              "      <td>4619450000</td>\n",
              "    </tr>\n",
              "    <tr>\n",
              "      <th>2021-09-24</th>\n",
              "      <td>15329.68</td>\n",
              "      <td>15222.97</td>\n",
              "      <td>15345.54</td>\n",
              "      <td>15209.16</td>\n",
              "      <td>15329.68</td>\n",
              "      <td>3972140000</td>\n",
              "    </tr>\n",
              "    <tr>\n",
              "      <th>2021-09-23</th>\n",
              "      <td>15316.58</td>\n",
              "      <td>15231.20</td>\n",
              "      <td>15356.92</td>\n",
              "      <td>15199.43</td>\n",
              "      <td>15316.58</td>\n",
              "      <td>4176520000</td>\n",
              "    </tr>\n",
              "    <tr>\n",
              "      <th>2021-09-22</th>\n",
              "      <td>15176.51</td>\n",
              "      <td>15073.96</td>\n",
              "      <td>15230.34</td>\n",
              "      <td>15029.90</td>\n",
              "      <td>15176.51</td>\n",
              "      <td>4229870000</td>\n",
              "    </tr>\n",
              "    <tr>\n",
              "      <th>2021-09-21</th>\n",
              "      <td>15027.77</td>\n",
              "      <td>15096.97</td>\n",
              "      <td>15139.90</td>\n",
              "      <td>14986.98</td>\n",
              "      <td>15027.77</td>\n",
              "      <td>4056340000</td>\n",
              "    </tr>\n",
              "  </tbody>\n",
              "</table>\n",
              "</div>"
            ],
            "text/plain": [
              "            NDX_Adj Close  NDX_Open  NDX_High   NDX_Low  NDX_Close  NDX_Volume\n",
              "Date                                                                          \n",
              "2021-10-04       14472.12  14713.60  14727.60  14384.93   14472.12  4539650000\n",
              "2021-10-01       14791.87  14731.38  14830.84  14555.12   14791.87  4688550000\n",
              "2021-09-30       14689.62  14830.30  14888.22  14684.55   14689.62  5910550000\n",
              "2021-09-29       14752.89  14835.51  14914.92  14727.41   14752.89  5246170000\n",
              "2021-09-28       14770.30  15001.98  15040.57  14758.98   14770.30  4954270000\n",
              "2021-09-27       15204.82  15205.23  15240.58  15106.45   15204.82  4619450000\n",
              "2021-09-24       15329.68  15222.97  15345.54  15209.16   15329.68  3972140000\n",
              "2021-09-23       15316.58  15231.20  15356.92  15199.43   15316.58  4176520000\n",
              "2021-09-22       15176.51  15073.96  15230.34  15029.90   15176.51  4229870000\n",
              "2021-09-21       15027.77  15096.97  15139.90  14986.98   15027.77  4056340000"
            ]
          },
          "metadata": {},
          "execution_count": 5
        },
        {
          "output_type": "display_data",
          "data": {
            "image/png": "[encoded data removed]",
            "text/plain": [
              "<Figure size 432x288 with 1 Axes>"
            ]
          },
          "metadata": {
            "needs_background": "light"
          }
        }
      ]
    },
    {
      "cell_type": "code",
      "metadata": {
        "colab": {
          "base_uri": "https://localhost:8080/",
          "height": 673
        },
        "id": "1LPp9Q_ZMvYK",
        "outputId": "1ba97b9d-cca0-4743-821e-4b0c77933340"
      },
      "source": [
        "# 금값\n",
        "GOLD  = yf.download('GOLD',\n",
        "                     start = '2010-01-01',\n",
        "                     end = '2021-10-05',\n",
        "                     progress = False)\n",
        "\n",
        "GOLD_data = GOLD[['Adj Close', 'Open', 'High', 'Low', \"Close\",\"Volume\"]].round(2)\n",
        "GOLD_data.rename(columns={'Adj Close':'GOLD_Adj Close', 'Open':'GOLD_Open', 'High':'GOLD_High', 'Low':'GOLD_Low', 'Close':'GOLD_Close', 'Volume':'GOLD_Volume' }, inplace=True)\n",
        "\n",
        "\n",
        "print(\"There are\" + str(GOLD_data[:\"2006\"].shape[0]) + \"observations in the training data\")\n",
        "print(\"There are\" + str(GOLD_data[:\"2021\"].shape[0]) + \"observations in the test data\")\n",
        "\n",
        "GOLD_data['GOLD_Adj Close'].plot()\n",
        "GOLD_data.loc[::-1].head(10)"
      ],
      "execution_count": 37,
      "outputs": [
        {
          "output_type": "stream",
          "name": "stdout",
          "text": [
            "There are0observations in the training data\n",
            "There are2959observations in the test data\n"
          ]
        },
        {
          "output_type": "execute_result",
          "data": {
            "text/html": [
              "<div>\n",
              "<style scoped>\n",
              "    .dataframe tbody tr th:only-of-type {\n",
              "        vertical-align: middle;\n",
              "    }\n",
              "\n",
              "    .dataframe tbody tr th {\n",
              "        vertical-align: top;\n",
              "    }\n",
              "\n",
              "    .dataframe thead th {\n",
              "        text-align: right;\n",
              "    }\n",
              "</style>\n",
              "<table border=\"1\" class=\"dataframe\">\n",
              "  <thead>\n",
              "    <tr style=\"text-align: right;\">\n",
              "      <th></th>\n",
              "      <th>GOLD_Adj Close</th>\n",
              "      <th>GOLD_Open</th>\n",
              "      <th>GOLD_High</th>\n",
              "      <th>GOLD_Low</th>\n",
              "      <th>GOLD_Close</th>\n",
              "      <th>GOLD_Volume</th>\n",
              "    </tr>\n",
              "    <tr>\n",
              "      <th>Date</th>\n",
              "      <th></th>\n",
              "      <th></th>\n",
              "      <th></th>\n",
              "      <th></th>\n",
              "      <th></th>\n",
              "      <th></th>\n",
              "    </tr>\n",
              "  </thead>\n",
              "  <tbody>\n",
              "    <tr>\n",
              "      <th>2021-10-04</th>\n",
              "      <td>18.23</td>\n",
              "      <td>17.99</td>\n",
              "      <td>18.42</td>\n",
              "      <td>17.96</td>\n",
              "      <td>18.23</td>\n",
              "      <td>17838500</td>\n",
              "    </tr>\n",
              "    <tr>\n",
              "      <th>2021-10-01</th>\n",
              "      <td>17.99</td>\n",
              "      <td>18.08</td>\n",
              "      <td>18.08</td>\n",
              "      <td>17.73</td>\n",
              "      <td>17.99</td>\n",
              "      <td>20640200</td>\n",
              "    </tr>\n",
              "    <tr>\n",
              "      <th>2021-09-30</th>\n",
              "      <td>18.05</td>\n",
              "      <td>17.69</td>\n",
              "      <td>18.22</td>\n",
              "      <td>17.65</td>\n",
              "      <td>18.05</td>\n",
              "      <td>22313600</td>\n",
              "    </tr>\n",
              "    <tr>\n",
              "      <th>2021-09-29</th>\n",
              "      <td>17.58</td>\n",
              "      <td>18.04</td>\n",
              "      <td>18.15</td>\n",
              "      <td>17.56</td>\n",
              "      <td>17.58</td>\n",
              "      <td>23570900</td>\n",
              "    </tr>\n",
              "    <tr>\n",
              "      <th>2021-09-28</th>\n",
              "      <td>18.10</td>\n",
              "      <td>17.81</td>\n",
              "      <td>18.12</td>\n",
              "      <td>17.57</td>\n",
              "      <td>18.10</td>\n",
              "      <td>26643200</td>\n",
              "    </tr>\n",
              "    <tr>\n",
              "      <th>2021-09-27</th>\n",
              "      <td>17.95</td>\n",
              "      <td>18.06</td>\n",
              "      <td>18.26</td>\n",
              "      <td>17.87</td>\n",
              "      <td>17.95</td>\n",
              "      <td>20717300</td>\n",
              "    </tr>\n",
              "    <tr>\n",
              "      <th>2021-09-24</th>\n",
              "      <td>18.03</td>\n",
              "      <td>18.09</td>\n",
              "      <td>18.27</td>\n",
              "      <td>18.03</td>\n",
              "      <td>18.03</td>\n",
              "      <td>13371200</td>\n",
              "    </tr>\n",
              "    <tr>\n",
              "      <th>2021-09-23</th>\n",
              "      <td>18.23</td>\n",
              "      <td>18.30</td>\n",
              "      <td>18.38</td>\n",
              "      <td>18.09</td>\n",
              "      <td>18.23</td>\n",
              "      <td>19733600</td>\n",
              "    </tr>\n",
              "    <tr>\n",
              "      <th>2021-09-22</th>\n",
              "      <td>18.45</td>\n",
              "      <td>18.55</td>\n",
              "      <td>18.81</td>\n",
              "      <td>18.41</td>\n",
              "      <td>18.45</td>\n",
              "      <td>17054600</td>\n",
              "    </tr>\n",
              "    <tr>\n",
              "      <th>2021-09-21</th>\n",
              "      <td>18.49</td>\n",
              "      <td>18.80</td>\n",
              "      <td>18.85</td>\n",
              "      <td>18.48</td>\n",
              "      <td>18.49</td>\n",
              "      <td>18250800</td>\n",
              "    </tr>\n",
              "  </tbody>\n",
              "</table>\n",
              "</div>"
            ],
            "text/plain": [
              "            GOLD_Adj Close  GOLD_Open  ...  GOLD_Close  GOLD_Volume\n",
              "Date                                   ...                         \n",
              "2021-10-04           18.23      17.99  ...       18.23     17838500\n",
              "2021-10-01           17.99      18.08  ...       17.99     20640200\n",
              "2021-09-30           18.05      17.69  ...       18.05     22313600\n",
              "2021-09-29           17.58      18.04  ...       17.58     23570900\n",
              "2021-09-28           18.10      17.81  ...       18.10     26643200\n",
              "2021-09-27           17.95      18.06  ...       17.95     20717300\n",
              "2021-09-24           18.03      18.09  ...       18.03     13371200\n",
              "2021-09-23           18.23      18.30  ...       18.23     19733600\n",
              "2021-09-22           18.45      18.55  ...       18.45     17054600\n",
              "2021-09-21           18.49      18.80  ...       18.49     18250800\n",
              "\n",
              "[10 rows x 6 columns]"
            ]
          },
          "metadata": {},
          "execution_count": 37
        },
        {
          "output_type": "display_data",
          "data": {
            "image/png": "[encoded data removed]",
            "text/plain": [
              "<Figure size 432x288 with 1 Axes>"
            ]
          },
          "metadata": {
            "needs_background": "light"
          }
        }
      ]
    },
    {
      "cell_type": "code",
      "metadata": {
        "colab": {
          "base_uri": "https://localhost:8080/",
          "height": 673
        },
        "id": "xOS2PWzfMvbl",
        "outputId": "e9ae66e2-b4d1-4817-babe-218c64bb66e9"
      },
      "source": [
        "# 기름 \n",
        "WTI  = yf.download('WTI',\n",
        "                     start = '2010-01-01',\n",
        "                     end = '2021-10-05',\n",
        "                     progress = False)\n",
        "\n",
        "WTI_data = WTI[['Adj Close', 'Open', 'High', 'Low', \"Close\",\"Volume\"]].round(2)\n",
        "WTI_data.rename(columns={'Adj Close':'WTI_Adj Close', 'Open':'WTI_Open', 'High':'WTI_High', 'Low':'WTI_Low', 'Close':'WTI_Close', 'Volume':'WTI_Volume' }, inplace=True)\n",
        "\n",
        "\n",
        "print(\"There are\" + str(WTI_data[:\"2006\"].shape[0]) + \"observations in the training data\")\n",
        "print(\"There are\" + str(WTI_data[:\"2021\"].shape[0]) + \"observations in the training data\")\n",
        "\n",
        "WTI_data['WTI_Adj Close'].plot()\n",
        "WTI_data.loc[::-1].head(10)"
      ],
      "execution_count": 38,
      "outputs": [
        {
          "output_type": "stream",
          "name": "stdout",
          "text": [
            "There are0observations in the training data\n",
            "There are2959observations in the training data\n"
          ]
        },
        {
          "output_type": "execute_result",
          "data": {
            "text/html": [
              "<div>\n",
              "<style scoped>\n",
              "    .dataframe tbody tr th:only-of-type {\n",
              "        vertical-align: middle;\n",
              "    }\n",
              "\n",
              "    .dataframe tbody tr th {\n",
              "        vertical-align: top;\n",
              "    }\n",
              "\n",
              "    .dataframe thead th {\n",
              "        text-align: right;\n",
              "    }\n",
              "</style>\n",
              "<table border=\"1\" class=\"dataframe\">\n",
              "  <thead>\n",
              "    <tr style=\"text-align: right;\">\n",
              "      <th></th>\n",
              "      <th>WTI_Adj Close</th>\n",
              "      <th>WTI_Open</th>\n",
              "      <th>WTI_High</th>\n",
              "      <th>WTI_Low</th>\n",
              "      <th>WTI_Close</th>\n",
              "      <th>WTI_Volume</th>\n",
              "    </tr>\n",
              "    <tr>\n",
              "      <th>Date</th>\n",
              "      <th></th>\n",
              "      <th></th>\n",
              "      <th></th>\n",
              "      <th></th>\n",
              "      <th></th>\n",
              "      <th></th>\n",
              "    </tr>\n",
              "  </thead>\n",
              "  <tbody>\n",
              "    <tr>\n",
              "      <th>2021-10-04</th>\n",
              "      <td>4.11</td>\n",
              "      <td>4.00</td>\n",
              "      <td>4.17</td>\n",
              "      <td>3.98</td>\n",
              "      <td>4.11</td>\n",
              "      <td>5325700</td>\n",
              "    </tr>\n",
              "    <tr>\n",
              "      <th>2021-10-01</th>\n",
              "      <td>3.89</td>\n",
              "      <td>3.72</td>\n",
              "      <td>3.89</td>\n",
              "      <td>3.72</td>\n",
              "      <td>3.89</td>\n",
              "      <td>2589700</td>\n",
              "    </tr>\n",
              "    <tr>\n",
              "      <th>2021-09-30</th>\n",
              "      <td>3.72</td>\n",
              "      <td>3.68</td>\n",
              "      <td>3.73</td>\n",
              "      <td>3.57</td>\n",
              "      <td>3.72</td>\n",
              "      <td>2491800</td>\n",
              "    </tr>\n",
              "    <tr>\n",
              "      <th>2021-09-29</th>\n",
              "      <td>3.70</td>\n",
              "      <td>3.69</td>\n",
              "      <td>3.74</td>\n",
              "      <td>3.56</td>\n",
              "      <td>3.70</td>\n",
              "      <td>2234700</td>\n",
              "    </tr>\n",
              "    <tr>\n",
              "      <th>2021-09-28</th>\n",
              "      <td>3.67</td>\n",
              "      <td>3.78</td>\n",
              "      <td>3.86</td>\n",
              "      <td>3.61</td>\n",
              "      <td>3.67</td>\n",
              "      <td>3534600</td>\n",
              "    </tr>\n",
              "    <tr>\n",
              "      <th>2021-09-27</th>\n",
              "      <td>3.67</td>\n",
              "      <td>3.50</td>\n",
              "      <td>3.72</td>\n",
              "      <td>3.50</td>\n",
              "      <td>3.67</td>\n",
              "      <td>4236000</td>\n",
              "    </tr>\n",
              "    <tr>\n",
              "      <th>2021-09-24</th>\n",
              "      <td>3.38</td>\n",
              "      <td>3.27</td>\n",
              "      <td>3.44</td>\n",
              "      <td>3.24</td>\n",
              "      <td>3.38</td>\n",
              "      <td>2290100</td>\n",
              "    </tr>\n",
              "    <tr>\n",
              "      <th>2021-09-23</th>\n",
              "      <td>3.36</td>\n",
              "      <td>3.25</td>\n",
              "      <td>3.39</td>\n",
              "      <td>3.21</td>\n",
              "      <td>3.36</td>\n",
              "      <td>2409400</td>\n",
              "    </tr>\n",
              "    <tr>\n",
              "      <th>2021-09-22</th>\n",
              "      <td>3.21</td>\n",
              "      <td>3.18</td>\n",
              "      <td>3.31</td>\n",
              "      <td>3.18</td>\n",
              "      <td>3.21</td>\n",
              "      <td>2466200</td>\n",
              "    </tr>\n",
              "    <tr>\n",
              "      <th>2021-09-21</th>\n",
              "      <td>3.13</td>\n",
              "      <td>3.21</td>\n",
              "      <td>3.23</td>\n",
              "      <td>3.06</td>\n",
              "      <td>3.13</td>\n",
              "      <td>2025200</td>\n",
              "    </tr>\n",
              "  </tbody>\n",
              "</table>\n",
              "</div>"
            ],
            "text/plain": [
              "            WTI_Adj Close  WTI_Open  WTI_High  WTI_Low  WTI_Close  WTI_Volume\n",
              "Date                                                                         \n",
              "2021-10-04           4.11      4.00      4.17     3.98       4.11     5325700\n",
              "2021-10-01           3.89      3.72      3.89     3.72       3.89     2589700\n",
              "2021-09-30           3.72      3.68      3.73     3.57       3.72     2491800\n",
              "2021-09-29           3.70      3.69      3.74     3.56       3.70     2234700\n",
              "2021-09-28           3.67      3.78      3.86     3.61       3.67     3534600\n",
              "2021-09-27           3.67      3.50      3.72     3.50       3.67     4236000\n",
              "2021-09-24           3.38      3.27      3.44     3.24       3.38     2290100\n",
              "2021-09-23           3.36      3.25      3.39     3.21       3.36     2409400\n",
              "2021-09-22           3.21      3.18      3.31     3.18       3.21     2466200\n",
              "2021-09-21           3.13      3.21      3.23     3.06       3.13     2025200"
            ]
          },
          "metadata": {},
          "execution_count": 38
        },
        {
          "output_type": "display_data",
          "data": {
            "image/png": "[encoded data removed]",
            "text/plain": [
              "<Figure size 432x288 with 1 Axes>"
            ]
          },
          "metadata": {
            "needs_background": "light"
          }
        }
      ]
    },
    {
      "cell_type": "code",
      "metadata": {
        "id": "wHxUZzkLVR4Q",
        "colab": {
          "base_uri": "https://localhost:8080/",
          "height": 447
        },
        "outputId": "bb5292f9-3633-4cf0-ba4f-55b0431a3b3e"
      },
      "source": [
        "all_data = pd.concat([ NDX_data, WTI_data, GOLD_data], axis=1)\n",
        "all_data.head(12)"
      ],
      "execution_count": 39,
      "outputs": [
        {
          "output_type": "execute_result",
          "data": {
            "text/html": [
              "<div>\n",
              "<style scoped>\n",
              "    .dataframe tbody tr th:only-of-type {\n",
              "        vertical-align: middle;\n",
              "    }\n",
              "\n",
              "    .dataframe tbody tr th {\n",
              "        vertical-align: top;\n",
              "    }\n",
              "\n",
              "    .dataframe thead th {\n",
              "        text-align: right;\n",
              "    }\n",
              "</style>\n",
              "<table border=\"1\" class=\"dataframe\">\n",
              "  <thead>\n",
              "    <tr style=\"text-align: right;\">\n",
              "      <th></th>\n",
              "      <th>NDX_Adj Close</th>\n",
              "      <th>NDX_Open</th>\n",
              "      <th>NDX_High</th>\n",
              "      <th>NDX_Low</th>\n",
              "      <th>NDX_Close</th>\n",
              "      <th>NDX_Volume</th>\n",
              "      <th>WTI_Adj Close</th>\n",
              "      <th>WTI_Open</th>\n",
              "      <th>WTI_High</th>\n",
              "      <th>WTI_Low</th>\n",
              "      <th>WTI_Close</th>\n",
              "      <th>WTI_Volume</th>\n",
              "      <th>GOLD_Adj Close</th>\n",
              "      <th>GOLD_Open</th>\n",
              "      <th>GOLD_High</th>\n",
              "      <th>GOLD_Low</th>\n",
              "      <th>GOLD_Close</th>\n",
              "      <th>GOLD_Volume</th>\n",
              "    </tr>\n",
              "    <tr>\n",
              "      <th>Date</th>\n",
              "      <th></th>\n",
              "      <th></th>\n",
              "      <th></th>\n",
              "      <th></th>\n",
              "      <th></th>\n",
              "      <th></th>\n",
              "      <th></th>\n",
              "      <th></th>\n",
              "      <th></th>\n",
              "      <th></th>\n",
              "      <th></th>\n",
              "      <th></th>\n",
              "      <th></th>\n",
              "      <th></th>\n",
              "      <th></th>\n",
              "      <th></th>\n",
              "      <th></th>\n",
              "      <th></th>\n",
              "    </tr>\n",
              "  </thead>\n",
              "  <tbody>\n",
              "    <tr>\n",
              "      <th>2010-01-04</th>\n",
              "      <td>1886.70</td>\n",
              "      <td>1882.69</td>\n",
              "      <td>1890.02</td>\n",
              "      <td>1881.63</td>\n",
              "      <td>1886.70</td>\n",
              "      <td>1931380000</td>\n",
              "      <td>9.82</td>\n",
              "      <td>11.90</td>\n",
              "      <td>12.46</td>\n",
              "      <td>11.86</td>\n",
              "      <td>12.26</td>\n",
              "      <td>838800</td>\n",
              "      <td>34.34</td>\n",
              "      <td>40.70</td>\n",
              "      <td>41.18</td>\n",
              "      <td>40.25</td>\n",
              "      <td>40.39</td>\n",
              "      <td>14212200</td>\n",
              "    </tr>\n",
              "    <tr>\n",
              "      <th>2010-01-05</th>\n",
              "      <td>1888.43</td>\n",
              "      <td>1887.28</td>\n",
              "      <td>1891.33</td>\n",
              "      <td>1877.52</td>\n",
              "      <td>1888.43</td>\n",
              "      <td>2367860000</td>\n",
              "      <td>9.89</td>\n",
              "      <td>12.30</td>\n",
              "      <td>12.63</td>\n",
              "      <td>12.17</td>\n",
              "      <td>12.34</td>\n",
              "      <td>625400</td>\n",
              "      <td>34.77</td>\n",
              "      <td>40.66</td>\n",
              "      <td>41.10</td>\n",
              "      <td>40.04</td>\n",
              "      <td>40.89</td>\n",
              "      <td>13018600</td>\n",
              "    </tr>\n",
              "    <tr>\n",
              "      <th>2010-01-06</th>\n",
              "      <td>1878.42</td>\n",
              "      <td>1887.91</td>\n",
              "      <td>1893.21</td>\n",
              "      <td>1873.90</td>\n",
              "      <td>1878.42</td>\n",
              "      <td>2253340000</td>\n",
              "      <td>10.08</td>\n",
              "      <td>12.41</td>\n",
              "      <td>12.65</td>\n",
              "      <td>12.39</td>\n",
              "      <td>12.58</td>\n",
              "      <td>604700</td>\n",
              "      <td>35.51</td>\n",
              "      <td>41.32</td>\n",
              "      <td>42.34</td>\n",
              "      <td>41.14</td>\n",
              "      <td>41.76</td>\n",
              "      <td>12329200</td>\n",
              "    </tr>\n",
              "    <tr>\n",
              "      <th>2010-01-07</th>\n",
              "      <td>1876.72</td>\n",
              "      <td>1878.16</td>\n",
              "      <td>1881.33</td>\n",
              "      <td>1867.62</td>\n",
              "      <td>1876.72</td>\n",
              "      <td>2270050000</td>\n",
              "      <td>9.98</td>\n",
              "      <td>12.60</td>\n",
              "      <td>12.70</td>\n",
              "      <td>12.24</td>\n",
              "      <td>12.45</td>\n",
              "      <td>565300</td>\n",
              "      <td>35.00</td>\n",
              "      <td>41.67</td>\n",
              "      <td>41.67</td>\n",
              "      <td>40.89</td>\n",
              "      <td>41.17</td>\n",
              "      <td>9291000</td>\n",
              "    </tr>\n",
              "    <tr>\n",
              "      <th>2010-01-08</th>\n",
              "      <td>1892.59</td>\n",
              "      <td>1870.90</td>\n",
              "      <td>1893.25</td>\n",
              "      <td>1868.55</td>\n",
              "      <td>1892.59</td>\n",
              "      <td>2145390000</td>\n",
              "      <td>10.02</td>\n",
              "      <td>12.37</td>\n",
              "      <td>12.54</td>\n",
              "      <td>12.12</td>\n",
              "      <td>12.50</td>\n",
              "      <td>521100</td>\n",
              "      <td>35.22</td>\n",
              "      <td>41.60</td>\n",
              "      <td>41.67</td>\n",
              "      <td>40.70</td>\n",
              "      <td>41.43</td>\n",
              "      <td>9198600</td>\n",
              "    </tr>\n",
              "    <tr>\n",
              "      <th>2010-01-11</th>\n",
              "      <td>1886.24</td>\n",
              "      <td>1896.05</td>\n",
              "      <td>1897.49</td>\n",
              "      <td>1876.25</td>\n",
              "      <td>1886.24</td>\n",
              "      <td>2077890000</td>\n",
              "      <td>9.94</td>\n",
              "      <td>12.65</td>\n",
              "      <td>13.27</td>\n",
              "      <td>12.14</td>\n",
              "      <td>12.40</td>\n",
              "      <td>1177400</td>\n",
              "      <td>35.40</td>\n",
              "      <td>42.57</td>\n",
              "      <td>42.64</td>\n",
              "      <td>41.32</td>\n",
              "      <td>41.64</td>\n",
              "      <td>13778000</td>\n",
              "    </tr>\n",
              "    <tr>\n",
              "      <th>2010-01-12</th>\n",
              "      <td>1861.79</td>\n",
              "      <td>1874.75</td>\n",
              "      <td>1876.37</td>\n",
              "      <td>1852.31</td>\n",
              "      <td>1861.79</td>\n",
              "      <td>2368320000</td>\n",
              "      <td>9.54</td>\n",
              "      <td>12.33</td>\n",
              "      <td>12.43</td>\n",
              "      <td>11.80</td>\n",
              "      <td>11.90</td>\n",
              "      <td>921200</td>\n",
              "      <td>34.26</td>\n",
              "      <td>41.16</td>\n",
              "      <td>41.52</td>\n",
              "      <td>39.95</td>\n",
              "      <td>40.30</td>\n",
              "      <td>12126500</td>\n",
              "    </tr>\n",
              "    <tr>\n",
              "      <th>2010-01-13</th>\n",
              "      <td>1886.13</td>\n",
              "      <td>1868.20</td>\n",
              "      <td>1890.81</td>\n",
              "      <td>1855.27</td>\n",
              "      <td>1886.13</td>\n",
              "      <td>2318350000</td>\n",
              "      <td>9.15</td>\n",
              "      <td>11.97</td>\n",
              "      <td>12.00</td>\n",
              "      <td>11.36</td>\n",
              "      <td>11.42</td>\n",
              "      <td>1778300</td>\n",
              "      <td>34.60</td>\n",
              "      <td>40.53</td>\n",
              "      <td>40.80</td>\n",
              "      <td>39.43</td>\n",
              "      <td>40.70</td>\n",
              "      <td>9581100</td>\n",
              "    </tr>\n",
              "    <tr>\n",
              "      <th>2010-01-14</th>\n",
              "      <td>1886.52</td>\n",
              "      <td>1880.46</td>\n",
              "      <td>1891.73</td>\n",
              "      <td>1880.35</td>\n",
              "      <td>1886.52</td>\n",
              "      <td>2254170000</td>\n",
              "      <td>9.46</td>\n",
              "      <td>11.42</td>\n",
              "      <td>11.90</td>\n",
              "      <td>11.42</td>\n",
              "      <td>11.80</td>\n",
              "      <td>890300</td>\n",
              "      <td>34.41</td>\n",
              "      <td>40.65</td>\n",
              "      <td>40.85</td>\n",
              "      <td>39.95</td>\n",
              "      <td>40.47</td>\n",
              "      <td>8470600</td>\n",
              "    </tr>\n",
              "    <tr>\n",
              "      <th>2010-01-15</th>\n",
              "      <td>1864.52</td>\n",
              "      <td>1887.31</td>\n",
              "      <td>1893.48</td>\n",
              "      <td>1857.11</td>\n",
              "      <td>1864.52</td>\n",
              "      <td>2637770000</td>\n",
              "      <td>8.90</td>\n",
              "      <td>11.82</td>\n",
              "      <td>11.86</td>\n",
              "      <td>11.00</td>\n",
              "      <td>11.10</td>\n",
              "      <td>2163400</td>\n",
              "      <td>33.75</td>\n",
              "      <td>40.19</td>\n",
              "      <td>40.27</td>\n",
              "      <td>39.36</td>\n",
              "      <td>39.70</td>\n",
              "      <td>11620800</td>\n",
              "    </tr>\n",
              "    <tr>\n",
              "      <th>2010-01-19</th>\n",
              "      <td>1895.48</td>\n",
              "      <td>1869.24</td>\n",
              "      <td>1896.54</td>\n",
              "      <td>1868.83</td>\n",
              "      <td>1895.48</td>\n",
              "      <td>2045290000</td>\n",
              "      <td>8.77</td>\n",
              "      <td>11.09</td>\n",
              "      <td>11.26</td>\n",
              "      <td>10.66</td>\n",
              "      <td>10.94</td>\n",
              "      <td>1172500</td>\n",
              "      <td>33.72</td>\n",
              "      <td>39.28</td>\n",
              "      <td>39.72</td>\n",
              "      <td>38.99</td>\n",
              "      <td>39.66</td>\n",
              "      <td>9429200</td>\n",
              "    </tr>\n",
              "    <tr>\n",
              "      <th>2010-01-20</th>\n",
              "      <td>1867.95</td>\n",
              "      <td>1882.06</td>\n",
              "      <td>1882.31</td>\n",
              "      <td>1848.09</td>\n",
              "      <td>1867.95</td>\n",
              "      <td>2351890000</td>\n",
              "      <td>8.33</td>\n",
              "      <td>10.78</td>\n",
              "      <td>10.86</td>\n",
              "      <td>10.31</td>\n",
              "      <td>10.39</td>\n",
              "      <td>1790100</td>\n",
              "      <td>32.20</td>\n",
              "      <td>38.46</td>\n",
              "      <td>38.64</td>\n",
              "      <td>37.23</td>\n",
              "      <td>37.87</td>\n",
              "      <td>16581300</td>\n",
              "    </tr>\n",
              "  </tbody>\n",
              "</table>\n",
              "</div>"
            ],
            "text/plain": [
              "            NDX_Adj Close  NDX_Open  ...  GOLD_Close  GOLD_Volume\n",
              "Date                                 ...                         \n",
              "2010-01-04        1886.70   1882.69  ...       40.39     14212200\n",
              "2010-01-05        1888.43   1887.28  ...       40.89     13018600\n",
              "2010-01-06        1878.42   1887.91  ...       41.76     12329200\n",
              "2010-01-07        1876.72   1878.16  ...       41.17      9291000\n",
              "2010-01-08        1892.59   1870.90  ...       41.43      9198600\n",
              "2010-01-11        1886.24   1896.05  ...       41.64     13778000\n",
              "2010-01-12        1861.79   1874.75  ...       40.30     12126500\n",
              "2010-01-13        1886.13   1868.20  ...       40.70      9581100\n",
              "2010-01-14        1886.52   1880.46  ...       40.47      8470600\n",
              "2010-01-15        1864.52   1887.31  ...       39.70     11620800\n",
              "2010-01-19        1895.48   1869.24  ...       39.66      9429200\n",
              "2010-01-20        1867.95   1882.06  ...       37.87     16581300\n",
              "\n",
              "[12 rows x 18 columns]"
            ]
          },
          "metadata": {},
          "execution_count": 39
        }
      ]
    },
    {
      "cell_type": "code",
      "metadata": {
        "id": "m7FDBl3Gb5Fr"
      },
      "source": [
        "#all_Adj_data = pd.concat([NDX_data['NDX_Adj Close'], GOLD_data['GOLD_Adj Close'],WTI_data['WTI_Adj Close']], axis = 1)\n",
        "#all_Adj_data.head()\n",
        "#\n",
        "#all_Adj_data.shape"
      ],
      "execution_count": 40,
      "outputs": []
    },
    {
      "cell_type": "markdown",
      "metadata": {
        "id": "2zI5ge0wcZeG"
      },
      "source": [
        "입력값과 출력값 데이터를 위한 코드"
      ]
    },
    {
      "cell_type": "code",
      "metadata": {
        "id": "U1u4Mp9s4lyL"
      },
      "source": [
        "def ts_train_test_normalize(all_data, time_steps, for_periods):\n",
        "    \"\"\"\n",
        "    input: \n",
        "        data: dataframe with dates and price data\n",
        "    output: \n",
        "        X_train, y_train: data from 2013/1/1-2018/12/31 \n",
        "        X_test : data from 2019- \n",
        "        sc :     insantiated MinMaxScaler object fit to the training data \n",
        "    \"\"\"\n",
        "    # create training and test set \n",
        "    ts_train = all_data[:'2019'].iloc[:,0:1].values\n",
        "    ts_test = all_data['2020':].iloc[:,0:1].values \n",
        "    ts_train_len = len(ts_train)\n",
        "    ts_test_len = len(ts_test)\n",
        "    \n",
        "    # scale the data \n",
        "    from sklearn.preprocessing import MinMaxScaler \n",
        "    sc = MinMaxScaler(feature_range=(0,1))\n",
        "    ts_train_scaled = sc.fit_transform(ts_train)\n",
        "    \n",
        "    # create training data of s samples and t time steps \n",
        "    X_train = [] \n",
        "    y_train = [] \n",
        "    for i in range(time_steps, ts_train_len-1):\n",
        "        X_train.append(ts_train_scaled[i-time_steps:i, 0])\n",
        "        y_train.append(ts_train_scaled[i:i+for_periods, 0])\n",
        "    X_train, y_train = np.array(X_train), np.array(y_train)\n",
        "    \n",
        "    # Reshaping X_train for efficient modelling \n",
        "    X_train = np.reshape(X_train, (X_train.shape[0], X_train.shape[1], 1 ))\n",
        "    \n",
        "    inputs = pd.concat((all_data[\"NDX_Adj Close\"][:'2019'], all_data[\"NDX_Adj Close\"]['2020':]), axis=0).values\n",
        "    inputs = inputs[len(inputs)-len(ts_test)-time_steps:]\n",
        "    inputs = inputs.reshape(-1,1)\n",
        "    inputs = sc.transform(inputs)\n",
        "    \n",
        "    # Preparing X_test \n",
        "    X_test = [] \n",
        "    for i in range(time_steps, ts_test_len + time_steps - for_periods):\n",
        "        X_test.append(inputs[i-time_steps:i,0])\n",
        "    \n",
        "    X_test = np.array(X_test)\n",
        "    X_test = np.reshape(X_test, (X_test.shape[0], X_test.shape[1], 1))\n",
        "    \n",
        "    return X_train, y_train , X_test, sc"
      ],
      "execution_count": 10,
      "outputs": []
    },
    {
      "cell_type": "code",
      "metadata": {
        "colab": {
          "base_uri": "https://localhost:8080/"
        },
        "id": "e6qlrRNFtGA8",
        "outputId": "79d35d0c-b144-4fc3-d77b-73675f127ce7"
      },
      "source": [
        "#X_train, y_train, X_test, sc = ts_train_test_normalize(NDX_data, 5, 2)\n",
        "X_train, y_train, X_test, sc = ts_train_test_normalize(all_data, 5, 2)\n",
        "\n",
        "X_train.shape[0], X_train.shape[1]"
      ],
      "execution_count": 41,
      "outputs": [
        {
          "output_type": "execute_result",
          "data": {
            "text/plain": [
              "(2510, 5)"
            ]
          },
          "metadata": {},
          "execution_count": 41
        }
      ]
    },
    {
      "cell_type": "code",
      "metadata": {
        "colab": {
          "base_uri": "https://localhost:8080/"
        },
        "id": "KNZoJkbI02Fz",
        "outputId": "80dfd834-c752-4e2f-edc0-330812214d72"
      },
      "source": [
        "# 3차원의 X_train을 데이터프레임 형식으로 바꿔서 눈으로 확인해보기\n",
        "X_train_see = pd.DataFrame(np.reshape(X_train, (X_train.shape[0], X_train.shape[1])))\n",
        "y_train_see = pd.DataFrame(y_train)\n",
        "pd.concat([X_train_see, y_train_see], axis = 1)\n",
        "\n",
        "# 3차원의 X_test를 데이터프레임 형식으로 바꿔서 눈으로 확인해보기\n",
        "X_test_see = pd.DataFrame(np.reshape(X_test, (X_test.shape[0], X_test.shape[1])))\n",
        "pd.DataFrame(X_test_see)\n",
        "\n",
        "print(\"There are \" + str(X_train.shape[0]) + \" samples in the training data\")\n",
        "# There are ? samples in the training data\n",
        "\n",
        "print(\"There are \" + str(X_test.shape[0]) + \" samples in the test data\")\n",
        "# There are ? samples in the test data"
      ],
      "execution_count": 42,
      "outputs": [
        {
          "output_type": "stream",
          "name": "stdout",
          "text": [
            "There are 2510 samples in the training data\n",
            "There are 441 samples in the test data\n"
          ]
        }
      ]
    },
    {
      "cell_type": "code",
      "metadata": {
        "id": "n6ga7XycbRRW"
      },
      "source": [
        "def LSTM_model(X_train, y_train, X_test, sc):\n",
        "    # import neccesary modul\n",
        "    from keras.models import Sequential\n",
        "    from keras.layers import Dense, SimpleRNN, GRU, LSTM\n",
        "    from tensorflow.keras.optimizers import SGD\n",
        "\n",
        "    # LSTM architecture\n",
        "    my_LSTM_model = Sequential()\n",
        "    my_LSTM_model.add(LSTM(units = 50,\n",
        "                           return_sequences = True,\n",
        "                           input_shape = (X_train.shape[1],1),\n",
        "                           activation = 'tanh'))\n",
        "    my_LSTM_model.add(LSTM(units = 50, activation = 'tanh'))\n",
        "    my_LSTM_model.add(Dense(units = 2))\n",
        "\n",
        "    # compiling\n",
        "    my_LSTM_model.compile(optimizer =SGD(lr = 0.02, decay = 1e-7, momentum = 0.9, nesterov = False),\n",
        "                          loss = 'mean_squared_error') # momentum은 관성을 나타냄\n",
        "    \n",
        "    # training data 세트에 피팅하기 (조기 중단은 추가함)\n",
        "    my_LSTM_model.fit(X_train, y_train, epochs = 50, batch_size = 150, verbose = 0)\n",
        "\n",
        "    # X_test를 LSTM model에 넣어서 예측하기\n",
        "    LSTM_prediction = my_LSTM_model.predict(X_test)\n",
        "    LSTM_prediction = sc.inverse_transform(LSTM_prediction)\n",
        "\n",
        "    return my_LSTM_model, LSTM_prediction"
      ],
      "execution_count": 43,
      "outputs": []
    },
    {
      "cell_type": "code",
      "metadata": {
        "id": "7bloT7k3gd5J"
      },
      "source": [
        "def actual_pred_plot(preds):\n",
        "    # Plot the actual vs prediction\n",
        "\n",
        "    actual_pred = pd.DataFrame(columns = ['NDX_Adj Close', 'prediction'])\n",
        "    actual_pred['NDX_Adj Close'] = NDX_data.loc['2020':, 'NDX_Adj Close'][0:len(preds)]\n",
        "    actual_pred['prediction'] = preds[:, 0]\n",
        "\n",
        "    from keras.metrics import MeanSquaredError\n",
        "    m = MeanSquaredError()\n",
        "    m.update_state(np.array(actual_pred['NDX_Adj Close']), np.array(actual_pred['prediction']))\n",
        "\n",
        "    return (m.result().numpy(), actual_pred.plot())"
      ],
      "execution_count": 44,
      "outputs": []
    },
    {
      "cell_type": "code",
      "metadata": {
        "colab": {
          "base_uri": "https://localhost:8080/",
          "height": 332
        },
        "id": "dYSA3Wgytt4Q",
        "outputId": "116371ca-1199-43cd-f597-17cfa6e6ba63"
      },
      "source": [
        "my_LSTM_model, LSTM_prediction = LSTM_model(X_train, y_train, X_test, sc)\n",
        "LSTM_prediction[1:10]\n",
        "actual_pred_plot(LSTM_prediction)"
      ],
      "execution_count": 45,
      "outputs": [
        {
          "output_type": "stream",
          "name": "stderr",
          "text": [
            "/usr/local/lib/python3.7/dist-packages/keras/optimizer_v2/optimizer_v2.py:356: UserWarning: The `lr` argument is deprecated, use `learning_rate` instead.\n",
            "  \"The `lr` argument is deprecated, use `learning_rate` instead.\")\n"
          ]
        },
        {
          "output_type": "execute_result",
          "data": {
            "text/plain": [
              "(2997434.2, <matplotlib.axes._subplots.AxesSubplot at 0x7f90a4bb98d0>)"
            ]
          },
          "metadata": {},
          "execution_count": 45
        },
        {
          "output_type": "display_data",
          "data": {
            "image/png": "[encoded data removed]",
            "text/plain": [
              "<Figure size 432x288 with 1 Axes>"
            ]
          },
          "metadata": {
            "needs_background": "light"
          }
        }
      ]
    },
    {
      "cell_type": "code",
      "metadata": {
        "id": "dXwU3UT1wOiW"
      },
      "source": [
        "y_pred = pd.DataFrame(LSTM_prediction[:, 0])\n",
        "y_test = NDX_data.loc['2020':, 'NDX_Adj Close'][0:len(LSTM_prediction)]\n",
        "#y_test = all_data.loc['2020':, 'NDX_Adj Close'][0:len(LSTM_prediction)]\n",
        "y_test.reset_index(drop = True, inplace = True)"
      ],
      "execution_count": 47,
      "outputs": []
    },
    {
      "cell_type": "code",
      "metadata": {
        "id": "6X2uu5RVwObw"
      },
      "source": [
        "# 예측성능 출력\n",
        "from sklearn.metrics import accuracy_score, mean_absolute_error, mean_squared_error, mean_squared_log_error, r2_score\n",
        "\n",
        "def confirm_result(y_test, y_pred):\n",
        "    MAE = mean_absolute_error(y_test, y_pred)\n",
        "    RMSE = np.sqrt(mean_squared_error(y_test, y_pred))\n",
        "    MSLE = mean_squared_log_error(y_test, y_pred)\n",
        "    RMSLE = np.sqrt(mean_squared_log_error(y_test, y_pred))\n",
        "    R2 = r2_score(y_test, y_pred)\n",
        "\n",
        "    Result = pd.DataFrame(data = [MAE, RMSE, RMSLE, R2],\n",
        "                          index = ['MAE', 'RMSE', 'RMSLE', 'R2'],\n",
        "                          columns = ['Results'])\n",
        "    \n",
        "    return Result"
      ],
      "execution_count": 48,
      "outputs": []
    },
    {
      "cell_type": "code",
      "metadata": {
        "colab": {
          "base_uri": "https://localhost:8080/",
          "height": 171
        },
        "id": "csR0pPhQFbBi",
        "outputId": "b7a42e95-1db0-490b-cb44-118a22d9ea55"
      },
      "source": [
        "# result check\n",
        "confirm_result(y_test, y_pred)"
      ],
      "execution_count": 49,
      "outputs": [
        {
          "output_type": "execute_result",
          "data": {
            "text/html": [
              "<div>\n",
              "<style scoped>\n",
              "    .dataframe tbody tr th:only-of-type {\n",
              "        vertical-align: middle;\n",
              "    }\n",
              "\n",
              "    .dataframe tbody tr th {\n",
              "        vertical-align: top;\n",
              "    }\n",
              "\n",
              "    .dataframe thead th {\n",
              "        text-align: right;\n",
              "    }\n",
              "</style>\n",
              "<table border=\"1\" class=\"dataframe\">\n",
              "  <thead>\n",
              "    <tr style=\"text-align: right;\">\n",
              "      <th></th>\n",
              "      <th>Results</th>\n",
              "    </tr>\n",
              "  </thead>\n",
              "  <tbody>\n",
              "    <tr>\n",
              "      <th>MAE</th>\n",
              "      <td>1470.693073</td>\n",
              "    </tr>\n",
              "    <tr>\n",
              "      <th>RMSE</th>\n",
              "      <td>1731.310042</td>\n",
              "    </tr>\n",
              "    <tr>\n",
              "      <th>RMSLE</th>\n",
              "      <td>0.137924</td>\n",
              "    </tr>\n",
              "    <tr>\n",
              "      <th>R2</th>\n",
              "      <td>0.408871</td>\n",
              "    </tr>\n",
              "  </tbody>\n",
              "</table>\n",
              "</div>"
            ],
            "text/plain": [
              "           Results\n",
              "MAE    1470.693073\n",
              "RMSE   1731.310042\n",
              "RMSLE     0.137924\n",
              "R2        0.408871"
            ]
          },
          "metadata": {},
          "execution_count": 49
        }
      ]
    },
    {
      "cell_type": "code",
      "metadata": {
        "id": "v9uAz0TVvA79"
      },
      "source": [
        "def GRU_model(X_train, y_train, X_test, sc):\n",
        "    # create a model \n",
        "    from keras.models import Sequential \n",
        "    from keras.layers import Dense, SimpleRNN, GRU\n",
        "    from tensorflow.keras.optimizers import SGD\n",
        "    \n",
        "    # The GRU architecture \n",
        "    my_GRU_model = Sequential()\n",
        "    my_GRU_model.add(GRU(units = 50, \n",
        "                         return_sequences = True, \n",
        "                         input_shape = (X_train.shape[1],1), \n",
        "                         activation = 'tanh'))\n",
        "    my_GRU_model.add(GRU(units = 50, \n",
        "                         activation = 'tanh'))\n",
        "    my_GRU_model.add(Dense(units = 2))\n",
        "    \n",
        "    # Compiling the RNN \n",
        "    my_GRU_model.compile(optimizer = SGD(lr = 0.01, decay = 1e-7, \n",
        "                                         momentum = 0.9, nesterov = False), \n",
        "                         loss = 'mean_squared_error')\n",
        "    \n",
        "    # Fitting to the trainig set \n",
        "    my_GRU_model.fit(X_train, y_train, epochs = 50, batch_size = 150, verbose = 0)\n",
        "    \n",
        "    GRU_prediction = my_GRU_model.predict(X_test)\n",
        "    GRU_prediction = sc.inverse_transform(GRU_prediction)\n",
        "    \n",
        "    return my_GRU_model, GRU_prediction\n"
      ],
      "execution_count": 50,
      "outputs": []
    },
    {
      "cell_type": "code",
      "metadata": {
        "colab": {
          "base_uri": "https://localhost:8080/",
          "height": 332
        },
        "id": "OLq-VtElvBDK",
        "outputId": "c5d62228-7036-4fa9-f6fd-fe8bf20c4ca7"
      },
      "source": [
        "my_GRU_model, GRU_prediction = GRU_model(X_train, y_train, X_test, sc)\n",
        "GRU_prediction[1:10]\n",
        "actual_pred_plot(GRU_prediction)"
      ],
      "execution_count": 51,
      "outputs": [
        {
          "output_type": "stream",
          "name": "stderr",
          "text": [
            "/usr/local/lib/python3.7/dist-packages/keras/optimizer_v2/optimizer_v2.py:356: UserWarning: The `lr` argument is deprecated, use `learning_rate` instead.\n",
            "  \"The `lr` argument is deprecated, use `learning_rate` instead.\")\n"
          ]
        },
        {
          "output_type": "execute_result",
          "data": {
            "text/plain": [
              "(795621.9, <matplotlib.axes._subplots.AxesSubplot at 0x7f90ab1f0ed0>)"
            ]
          },
          "metadata": {},
          "execution_count": 51
        },
        {
          "output_type": "display_data",
          "data": {
            "image/png": "[encoded data removed]",
            "text/plain": [
              "<Figure size 432x288 with 1 Axes>"
            ]
          },
          "metadata": {
            "needs_background": "light"
          }
        }
      ]
    },
    {
      "cell_type": "code",
      "metadata": {
        "id": "LQ2Tq2vuvGE9"
      },
      "source": [
        "y_pred_gru = pd.DataFrame(GRU_prediction[:, 0])\n",
        "y_test_gru=NDX_data.loc['2020':,'NDX_Adj Close'][0:len(GRU_prediction)]\n",
        "y_test_gru.reset_index(drop=True, inplace=True)"
      ],
      "execution_count": 52,
      "outputs": []
    },
    {
      "cell_type": "code",
      "metadata": {
        "colab": {
          "base_uri": "https://localhost:8080/",
          "height": 171
        },
        "id": "ipQEQUTTvOj7",
        "outputId": "20acdc92-5727-4b29-d846-9a70ea920d8d"
      },
      "source": [
        "confirm_result(y_test_gru, y_pred_gru)"
      ],
      "execution_count": 53,
      "outputs": [
        {
          "output_type": "execute_result",
          "data": {
            "text/html": [
              "<div>\n",
              "<style scoped>\n",
              "    .dataframe tbody tr th:only-of-type {\n",
              "        vertical-align: middle;\n",
              "    }\n",
              "\n",
              "    .dataframe tbody tr th {\n",
              "        vertical-align: top;\n",
              "    }\n",
              "\n",
              "    .dataframe thead th {\n",
              "        text-align: right;\n",
              "    }\n",
              "</style>\n",
              "<table border=\"1\" class=\"dataframe\">\n",
              "  <thead>\n",
              "    <tr style=\"text-align: right;\">\n",
              "      <th></th>\n",
              "      <th>Results</th>\n",
              "    </tr>\n",
              "  </thead>\n",
              "  <tbody>\n",
              "    <tr>\n",
              "      <th>MAE</th>\n",
              "      <td>758.280227</td>\n",
              "    </tr>\n",
              "    <tr>\n",
              "      <th>RMSE</th>\n",
              "      <td>891.976401</td>\n",
              "    </tr>\n",
              "    <tr>\n",
              "      <th>RMSLE</th>\n",
              "      <td>0.068852</td>\n",
              "    </tr>\n",
              "    <tr>\n",
              "      <th>R2</th>\n",
              "      <td>0.843094</td>\n",
              "    </tr>\n",
              "  </tbody>\n",
              "</table>\n",
              "</div>"
            ],
            "text/plain": [
              "          Results\n",
              "MAE    758.280227\n",
              "RMSE   891.976401\n",
              "RMSLE    0.068852\n",
              "R2       0.843094"
            ]
          },
          "metadata": {},
          "execution_count": 53
        }
      ]
    }
  ]
}
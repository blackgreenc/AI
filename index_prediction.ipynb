{
  "nbformat": 4,
  "nbformat_minor": 0,
  "metadata": {
    "colab": {
      "name": "index_prediction",
      "provenance": [],
      "collapsed_sections": [],
      "authorship_tag": "ABX9TyPe+Jmiusogg5q3awYLXz1d",
      "include_colab_link": true
    },
    "kernelspec": {
      "name": "python3",
      "display_name": "Python 3"
    },
    "language_info": {
      "name": "python"
    }
  },
  "cells": [
    {
      "cell_type": "markdown",
      "metadata": {
        "id": "view-in-github",
        "colab_type": "text"
      },
      "source": [
        "<a href=\"https://colab.research.google.com/github/blackgreenc/AI/blob/main/index_prediction.ipynb\" target=\"_parent\"><img src=\"https://colab.research.google.com/assets/colab-badge.svg\" alt=\"Open In Colab\"/></a>"
      ]
    },
    {
      "cell_type": "markdown",
      "metadata": {
        "id": "KZ1ZWFMNcP1F"
      },
      "source": [
        "1. 모듈 불러오기"
      ]
    },
    {
      "cell_type": "code",
      "metadata": {
        "id": "DQwjJlqeMZ_c",
        "colab": {
          "base_uri": "https://localhost:8080/"
        },
        "outputId": "6402ea3b-84d4-4461-cd07-1e39efa37631"
      },
      "source": [
        "!pip install yfinance\n",
        "import numpy as np\n",
        "import tensorflow as tf\n",
        "import pandas as pd\n",
        "import yfinance as yf #야후 파이낸스 데이터"
      ],
      "execution_count": 1,
      "outputs": [
        {
          "output_type": "stream",
          "name": "stdout",
          "text": [
            "Collecting yfinance\n",
            "  Downloading yfinance-0.1.63.tar.gz (26 kB)\n",
            "Requirement already satisfied: pandas>=0.24 in /usr/local/lib/python3.7/dist-packages (from yfinance) (1.1.5)\n",
            "Requirement already satisfied: numpy>=1.15 in /usr/local/lib/python3.7/dist-packages (from yfinance) (1.19.5)\n",
            "Requirement already satisfied: requests>=2.20 in /usr/local/lib/python3.7/dist-packages (from yfinance) (2.23.0)\n",
            "Requirement already satisfied: multitasking>=0.0.7 in /usr/local/lib/python3.7/dist-packages (from yfinance) (0.0.9)\n",
            "Collecting lxml>=4.5.1\n",
            "  Downloading lxml-4.6.3-cp37-cp37m-manylinux2014_x86_64.whl (6.3 MB)\n",
            "\u001b[K     |████████████████████████████████| 6.3 MB 8.0 MB/s \n",
            "\u001b[?25hRequirement already satisfied: python-dateutil>=2.7.3 in /usr/local/lib/python3.7/dist-packages (from pandas>=0.24->yfinance) (2.8.2)\n",
            "Requirement already satisfied: pytz>=2017.2 in /usr/local/lib/python3.7/dist-packages (from pandas>=0.24->yfinance) (2018.9)\n",
            "Requirement already satisfied: six>=1.5 in /usr/local/lib/python3.7/dist-packages (from python-dateutil>=2.7.3->pandas>=0.24->yfinance) (1.15.0)\n",
            "Requirement already satisfied: urllib3!=1.25.0,!=1.25.1,<1.26,>=1.21.1 in /usr/local/lib/python3.7/dist-packages (from requests>=2.20->yfinance) (1.24.3)\n",
            "Requirement already satisfied: chardet<4,>=3.0.2 in /usr/local/lib/python3.7/dist-packages (from requests>=2.20->yfinance) (3.0.4)\n",
            "Requirement already satisfied: idna<3,>=2.5 in /usr/local/lib/python3.7/dist-packages (from requests>=2.20->yfinance) (2.10)\n",
            "Requirement already satisfied: certifi>=2017.4.17 in /usr/local/lib/python3.7/dist-packages (from requests>=2.20->yfinance) (2021.5.30)\n",
            "Building wheels for collected packages: yfinance\n",
            "  Building wheel for yfinance (setup.py) ... \u001b[?25l\u001b[?25hdone\n",
            "  Created wheel for yfinance: filename=yfinance-0.1.63-py2.py3-none-any.whl size=23918 sha256=ad70a5134966d9c6095356f9e1732823428fab6af14a00b7889e0aaf28f36c38\n",
            "  Stored in directory: /root/.cache/pip/wheels/fe/87/8b/7ec24486e001d3926537f5f7801f57a74d181be25b11157983\n",
            "Successfully built yfinance\n",
            "Installing collected packages: lxml, yfinance\n",
            "  Attempting uninstall: lxml\n",
            "    Found existing installation: lxml 4.2.6\n",
            "    Uninstalling lxml-4.2.6:\n",
            "      Successfully uninstalled lxml-4.2.6\n",
            "Successfully installed lxml-4.6.3 yfinance-0.1.63\n"
          ]
        }
      ]
    },
    {
      "cell_type": "code",
      "metadata": {
        "id": "mZ7Ld-HwMvV7"
      },
      "source": [
        "#아마존\n",
        "#AMZN = yf.download('AMZN',\n",
        "#                     start = '2000-01-01',\n",
        "#                     end = '2021-1-05',\n",
        "#                     progress = False)\n",
        "#\n",
        "#AMZN_data = AMZN[['Adj Close', 'Open', 'High', 'Low', \"Close\",\"Volume\"]].round(2)\n",
        "#AMZN_data.head(15)\n",
        "#\n",
        "#print(\"There are\" + str(AMZN_data[:\"2000\"].shape[0]) + \"observations in the training data\")\n",
        "#print(\"There are\" + str(AMZN_data[:\"2021\"].shape[0]) + \"observations in the training data\")\n",
        "#AMZN_data['Adj Close'].plot()"
      ],
      "execution_count": 2,
      "outputs": []
    },
    {
      "cell_type": "code",
      "metadata": {
        "colab": {
          "base_uri": "https://localhost:8080/",
          "height": 673
        },
        "id": "FfwPUMtQMvXM",
        "outputId": "01746e5e-8e1b-4da6-b58d-17d0724aef66"
      },
      "source": [
        "# 나스닥 100\n",
        "NDX  = yf.download('NDX',\n",
        "                     start = '2010-01-01',\n",
        "                     end = '2021-10-05',\n",
        "                     progress = False)\n",
        "\n",
        "NDX_data = NDX[['Adj Close', 'Open', 'High', 'Low', \"Close\",\"Volume\"]].round(2)\n",
        "NDX_data.rename(columns={'Adj Close':'NDX_Adj Close', 'Open':'NDX_Open', 'High':'NDX_High', 'Low':'NDX_Low', 'Close':'NDX_Close', 'Volume':'NDX_Volume' }, inplace=True)\n",
        "\n",
        "\n",
        "print(\"There are\" + str(NDX_data[:\"2006\"].shape[0]) + \"observations in the training data\")\n",
        "print(\"There are\" + str(NDX_data[:\"2021\"].shape[0]) + \"observations in the training data\")\n",
        "\n",
        "NDX_data['NDX_Adj Close'].plot()\n",
        "NDX_data.shape\n",
        "NDX_data.loc[::-1].head(10)"
      ],
      "execution_count": 3,
      "outputs": [
        {
          "output_type": "stream",
          "name": "stdout",
          "text": [
            "There are0observations in the training data\n",
            "There are2959observations in the training data\n"
          ]
        },
        {
          "output_type": "execute_result",
          "data": {
            "text/html": [
              "<div>\n",
              "<style scoped>\n",
              "    .dataframe tbody tr th:only-of-type {\n",
              "        vertical-align: middle;\n",
              "    }\n",
              "\n",
              "    .dataframe tbody tr th {\n",
              "        vertical-align: top;\n",
              "    }\n",
              "\n",
              "    .dataframe thead th {\n",
              "        text-align: right;\n",
              "    }\n",
              "</style>\n",
              "<table border=\"1\" class=\"dataframe\">\n",
              "  <thead>\n",
              "    <tr style=\"text-align: right;\">\n",
              "      <th></th>\n",
              "      <th>NDX_Adj Close</th>\n",
              "      <th>NDX_Open</th>\n",
              "      <th>NDX_High</th>\n",
              "      <th>NDX_Low</th>\n",
              "      <th>NDX_Close</th>\n",
              "      <th>NDX_Volume</th>\n",
              "    </tr>\n",
              "    <tr>\n",
              "      <th>Date</th>\n",
              "      <th></th>\n",
              "      <th></th>\n",
              "      <th></th>\n",
              "      <th></th>\n",
              "      <th></th>\n",
              "      <th></th>\n",
              "    </tr>\n",
              "  </thead>\n",
              "  <tbody>\n",
              "    <tr>\n",
              "      <th>2021-10-04</th>\n",
              "      <td>14472.12</td>\n",
              "      <td>14713.60</td>\n",
              "      <td>14727.60</td>\n",
              "      <td>14384.93</td>\n",
              "      <td>14472.12</td>\n",
              "      <td>4539650000</td>\n",
              "    </tr>\n",
              "    <tr>\n",
              "      <th>2021-10-01</th>\n",
              "      <td>14791.87</td>\n",
              "      <td>14731.38</td>\n",
              "      <td>14830.84</td>\n",
              "      <td>14555.12</td>\n",
              "      <td>14791.87</td>\n",
              "      <td>4688550000</td>\n",
              "    </tr>\n",
              "    <tr>\n",
              "      <th>2021-09-30</th>\n",
              "      <td>14689.62</td>\n",
              "      <td>14830.30</td>\n",
              "      <td>14888.22</td>\n",
              "      <td>14684.55</td>\n",
              "      <td>14689.62</td>\n",
              "      <td>5910550000</td>\n",
              "    </tr>\n",
              "    <tr>\n",
              "      <th>2021-09-29</th>\n",
              "      <td>14752.89</td>\n",
              "      <td>14835.51</td>\n",
              "      <td>14914.92</td>\n",
              "      <td>14727.41</td>\n",
              "      <td>14752.89</td>\n",
              "      <td>5246170000</td>\n",
              "    </tr>\n",
              "    <tr>\n",
              "      <th>2021-09-28</th>\n",
              "      <td>14770.30</td>\n",
              "      <td>15001.98</td>\n",
              "      <td>15040.57</td>\n",
              "      <td>14758.98</td>\n",
              "      <td>14770.30</td>\n",
              "      <td>4954270000</td>\n",
              "    </tr>\n",
              "    <tr>\n",
              "      <th>2021-09-27</th>\n",
              "      <td>15204.82</td>\n",
              "      <td>15205.23</td>\n",
              "      <td>15240.58</td>\n",
              "      <td>15106.45</td>\n",
              "      <td>15204.82</td>\n",
              "      <td>4619450000</td>\n",
              "    </tr>\n",
              "    <tr>\n",
              "      <th>2021-09-24</th>\n",
              "      <td>15329.68</td>\n",
              "      <td>15222.97</td>\n",
              "      <td>15345.54</td>\n",
              "      <td>15209.16</td>\n",
              "      <td>15329.68</td>\n",
              "      <td>3972140000</td>\n",
              "    </tr>\n",
              "    <tr>\n",
              "      <th>2021-09-23</th>\n",
              "      <td>15316.58</td>\n",
              "      <td>15231.20</td>\n",
              "      <td>15356.92</td>\n",
              "      <td>15199.43</td>\n",
              "      <td>15316.58</td>\n",
              "      <td>4176520000</td>\n",
              "    </tr>\n",
              "    <tr>\n",
              "      <th>2021-09-22</th>\n",
              "      <td>15176.51</td>\n",
              "      <td>15073.96</td>\n",
              "      <td>15230.34</td>\n",
              "      <td>15029.90</td>\n",
              "      <td>15176.51</td>\n",
              "      <td>4229870000</td>\n",
              "    </tr>\n",
              "    <tr>\n",
              "      <th>2021-09-21</th>\n",
              "      <td>15027.77</td>\n",
              "      <td>15096.97</td>\n",
              "      <td>15139.90</td>\n",
              "      <td>14986.98</td>\n",
              "      <td>15027.77</td>\n",
              "      <td>4056340000</td>\n",
              "    </tr>\n",
              "  </tbody>\n",
              "</table>\n",
              "</div>"
            ],
            "text/plain": [
              "            NDX_Adj Close  NDX_Open  NDX_High   NDX_Low  NDX_Close  NDX_Volume\n",
              "Date                                                                          \n",
              "2021-10-04       14472.12  14713.60  14727.60  14384.93   14472.12  4539650000\n",
              "2021-10-01       14791.87  14731.38  14830.84  14555.12   14791.87  4688550000\n",
              "2021-09-30       14689.62  14830.30  14888.22  14684.55   14689.62  5910550000\n",
              "2021-09-29       14752.89  14835.51  14914.92  14727.41   14752.89  5246170000\n",
              "2021-09-28       14770.30  15001.98  15040.57  14758.98   14770.30  4954270000\n",
              "2021-09-27       15204.82  15205.23  15240.58  15106.45   15204.82  4619450000\n",
              "2021-09-24       15329.68  15222.97  15345.54  15209.16   15329.68  3972140000\n",
              "2021-09-23       15316.58  15231.20  15356.92  15199.43   15316.58  4176520000\n",
              "2021-09-22       15176.51  15073.96  15230.34  15029.90   15176.51  4229870000\n",
              "2021-09-21       15027.77  15096.97  15139.90  14986.98   15027.77  4056340000"
            ]
          },
          "metadata": {},
          "execution_count": 3
        },
        {
          "output_type": "display_data",
          "data": {
            "image/png": "[encoded data removed]",
            "text/plain": [
              "<Figure size 432x288 with 1 Axes>"
            ]
          },
          "metadata": {
            "needs_background": "light"
          }
        }
      ]
    },
    {
      "cell_type": "code",
      "metadata": {
        "colab": {
          "base_uri": "https://localhost:8080/",
          "height": 673
        },
        "id": "1LPp9Q_ZMvYK",
        "outputId": "e006b7b9-9cba-41e6-d289-30b5fc65c6ab"
      },
      "source": [
        "# 금값\n",
        "GOLD  = yf.download('GOLD',\n",
        "                     start = '2006-01-01',\n",
        "                     end = '2021-10-05',\n",
        "                     progress = False)\n",
        "\n",
        "GOLD_data = GOLD[['Adj Close', 'Open', 'High', 'Low', \"Close\",\"Volume\"]].round(2)\n",
        "GOLD_data.rename(columns={'Adj Close':'GOLD_Adj Close', 'Open':'GOLD_Open', 'High':'GOLD_High', 'Low':'GOLD_Low', 'Close':'GOLD_Close', 'Volume':'GOLD_Volume' }, inplace=True)\n",
        "\n",
        "\n",
        "print(\"There are\" + str(GOLD_data[:\"2006\"].shape[0]) + \"observations in the training data\")\n",
        "print(\"There are\" + str(GOLD_data[:\"2021\"].shape[0]) + \"observations in the test data\")\n",
        "\n",
        "GOLD_data['GOLD_Adj Close'].plot()\n",
        "GOLD_data.loc[::-1].head(10)"
      ],
      "execution_count": 4,
      "outputs": [
        {
          "output_type": "stream",
          "name": "stdout",
          "text": [
            "There are251observations in the training data\n",
            "There are3966observations in the test data\n"
          ]
        },
        {
          "output_type": "execute_result",
          "data": {
            "text/html": [
              "<div>\n",
              "<style scoped>\n",
              "    .dataframe tbody tr th:only-of-type {\n",
              "        vertical-align: middle;\n",
              "    }\n",
              "\n",
              "    .dataframe tbody tr th {\n",
              "        vertical-align: top;\n",
              "    }\n",
              "\n",
              "    .dataframe thead th {\n",
              "        text-align: right;\n",
              "    }\n",
              "</style>\n",
              "<table border=\"1\" class=\"dataframe\">\n",
              "  <thead>\n",
              "    <tr style=\"text-align: right;\">\n",
              "      <th></th>\n",
              "      <th>GOLD_Adj Close</th>\n",
              "      <th>GOLD_Open</th>\n",
              "      <th>GOLD_High</th>\n",
              "      <th>GOLD_Low</th>\n",
              "      <th>GOLD_Close</th>\n",
              "      <th>GOLD_Volume</th>\n",
              "    </tr>\n",
              "    <tr>\n",
              "      <th>Date</th>\n",
              "      <th></th>\n",
              "      <th></th>\n",
              "      <th></th>\n",
              "      <th></th>\n",
              "      <th></th>\n",
              "      <th></th>\n",
              "    </tr>\n",
              "  </thead>\n",
              "  <tbody>\n",
              "    <tr>\n",
              "      <th>2021-10-04</th>\n",
              "      <td>18.23</td>\n",
              "      <td>17.99</td>\n",
              "      <td>18.42</td>\n",
              "      <td>17.96</td>\n",
              "      <td>18.23</td>\n",
              "      <td>17838500</td>\n",
              "    </tr>\n",
              "    <tr>\n",
              "      <th>2021-10-01</th>\n",
              "      <td>17.99</td>\n",
              "      <td>18.08</td>\n",
              "      <td>18.08</td>\n",
              "      <td>17.73</td>\n",
              "      <td>17.99</td>\n",
              "      <td>20640200</td>\n",
              "    </tr>\n",
              "    <tr>\n",
              "      <th>2021-09-30</th>\n",
              "      <td>18.05</td>\n",
              "      <td>17.69</td>\n",
              "      <td>18.22</td>\n",
              "      <td>17.65</td>\n",
              "      <td>18.05</td>\n",
              "      <td>22313600</td>\n",
              "    </tr>\n",
              "    <tr>\n",
              "      <th>2021-09-29</th>\n",
              "      <td>17.58</td>\n",
              "      <td>18.04</td>\n",
              "      <td>18.15</td>\n",
              "      <td>17.56</td>\n",
              "      <td>17.58</td>\n",
              "      <td>23570900</td>\n",
              "    </tr>\n",
              "    <tr>\n",
              "      <th>2021-09-28</th>\n",
              "      <td>18.10</td>\n",
              "      <td>17.81</td>\n",
              "      <td>18.12</td>\n",
              "      <td>17.57</td>\n",
              "      <td>18.10</td>\n",
              "      <td>26643200</td>\n",
              "    </tr>\n",
              "    <tr>\n",
              "      <th>2021-09-27</th>\n",
              "      <td>17.95</td>\n",
              "      <td>18.06</td>\n",
              "      <td>18.26</td>\n",
              "      <td>17.87</td>\n",
              "      <td>17.95</td>\n",
              "      <td>20717300</td>\n",
              "    </tr>\n",
              "    <tr>\n",
              "      <th>2021-09-24</th>\n",
              "      <td>18.03</td>\n",
              "      <td>18.09</td>\n",
              "      <td>18.27</td>\n",
              "      <td>18.03</td>\n",
              "      <td>18.03</td>\n",
              "      <td>13371200</td>\n",
              "    </tr>\n",
              "    <tr>\n",
              "      <th>2021-09-23</th>\n",
              "      <td>18.23</td>\n",
              "      <td>18.30</td>\n",
              "      <td>18.38</td>\n",
              "      <td>18.09</td>\n",
              "      <td>18.23</td>\n",
              "      <td>19733600</td>\n",
              "    </tr>\n",
              "    <tr>\n",
              "      <th>2021-09-22</th>\n",
              "      <td>18.45</td>\n",
              "      <td>18.55</td>\n",
              "      <td>18.81</td>\n",
              "      <td>18.41</td>\n",
              "      <td>18.45</td>\n",
              "      <td>17054600</td>\n",
              "    </tr>\n",
              "    <tr>\n",
              "      <th>2021-09-21</th>\n",
              "      <td>18.49</td>\n",
              "      <td>18.80</td>\n",
              "      <td>18.85</td>\n",
              "      <td>18.48</td>\n",
              "      <td>18.49</td>\n",
              "      <td>18250800</td>\n",
              "    </tr>\n",
              "  </tbody>\n",
              "</table>\n",
              "</div>"
            ],
            "text/plain": [
              "            GOLD_Adj Close  GOLD_Open  ...  GOLD_Close  GOLD_Volume\n",
              "Date                                   ...                         \n",
              "2021-10-04           18.23      17.99  ...       18.23     17838500\n",
              "2021-10-01           17.99      18.08  ...       17.99     20640200\n",
              "2021-09-30           18.05      17.69  ...       18.05     22313600\n",
              "2021-09-29           17.58      18.04  ...       17.58     23570900\n",
              "2021-09-28           18.10      17.81  ...       18.10     26643200\n",
              "2021-09-27           17.95      18.06  ...       17.95     20717300\n",
              "2021-09-24           18.03      18.09  ...       18.03     13371200\n",
              "2021-09-23           18.23      18.30  ...       18.23     19733600\n",
              "2021-09-22           18.45      18.55  ...       18.45     17054600\n",
              "2021-09-21           18.49      18.80  ...       18.49     18250800\n",
              "\n",
              "[10 rows x 6 columns]"
            ]
          },
          "metadata": {},
          "execution_count": 4
        },
        {
          "output_type": "display_data",
          "data": {
            "image/png": "[encoded data removed]",
            "text/plain": [
              "<Figure size 432x288 with 1 Axes>"
            ]
          },
          "metadata": {
            "needs_background": "light"
          }
        }
      ]
    },
    {
      "cell_type": "code",
      "metadata": {
        "colab": {
          "base_uri": "https://localhost:8080/",
          "height": 673
        },
        "id": "xOS2PWzfMvbl",
        "outputId": "810447af-557c-4b9c-c00a-6bd3f067024a"
      },
      "source": [
        "# 기름 \n",
        "WTI  = yf.download('WTI',\n",
        "                     start = '2006-01-01',\n",
        "                     end = '2021-10-05',\n",
        "                     progress = False)\n",
        "\n",
        "WTI_data = WTI[['Adj Close', 'Open', 'High', 'Low', \"Close\",\"Volume\"]].round(2)\n",
        "WTI_data.rename(columns={'Adj Close':'WTI_Adj Close', 'Open':'WTI_Open', 'High':'WTI_High', 'Low':'WTI_Low', 'Close':'WTI_Close', 'Volume':'WTI_Volume' }, inplace=True)\n",
        "\n",
        "\n",
        "print(\"There are\" + str(WTI_data[:\"2006\"].shape[0]) + \"observations in the training data\")\n",
        "print(\"There are\" + str(WTI_data[:\"2021\"].shape[0]) + \"observations in the training data\")\n",
        "\n",
        "WTI_data['WTI_Adj Close'].plot()\n",
        "WTI_data.loc[::-1].head(10)"
      ],
      "execution_count": 5,
      "outputs": [
        {
          "output_type": "stream",
          "name": "stdout",
          "text": [
            "There are251observations in the training data\n",
            "There are3966observations in the training data\n"
          ]
        },
        {
          "output_type": "execute_result",
          "data": {
            "text/html": [
              "<div>\n",
              "<style scoped>\n",
              "    .dataframe tbody tr th:only-of-type {\n",
              "        vertical-align: middle;\n",
              "    }\n",
              "\n",
              "    .dataframe tbody tr th {\n",
              "        vertical-align: top;\n",
              "    }\n",
              "\n",
              "    .dataframe thead th {\n",
              "        text-align: right;\n",
              "    }\n",
              "</style>\n",
              "<table border=\"1\" class=\"dataframe\">\n",
              "  <thead>\n",
              "    <tr style=\"text-align: right;\">\n",
              "      <th></th>\n",
              "      <th>WTI_Adj Close</th>\n",
              "      <th>WTI_Open</th>\n",
              "      <th>WTI_High</th>\n",
              "      <th>WTI_Low</th>\n",
              "      <th>WTI_Close</th>\n",
              "      <th>WTI_Volume</th>\n",
              "    </tr>\n",
              "    <tr>\n",
              "      <th>Date</th>\n",
              "      <th></th>\n",
              "      <th></th>\n",
              "      <th></th>\n",
              "      <th></th>\n",
              "      <th></th>\n",
              "      <th></th>\n",
              "    </tr>\n",
              "  </thead>\n",
              "  <tbody>\n",
              "    <tr>\n",
              "      <th>2021-10-04</th>\n",
              "      <td>4.11</td>\n",
              "      <td>4.00</td>\n",
              "      <td>4.17</td>\n",
              "      <td>3.98</td>\n",
              "      <td>4.11</td>\n",
              "      <td>5325700</td>\n",
              "    </tr>\n",
              "    <tr>\n",
              "      <th>2021-10-01</th>\n",
              "      <td>3.89</td>\n",
              "      <td>3.72</td>\n",
              "      <td>3.89</td>\n",
              "      <td>3.72</td>\n",
              "      <td>3.89</td>\n",
              "      <td>2589700</td>\n",
              "    </tr>\n",
              "    <tr>\n",
              "      <th>2021-09-30</th>\n",
              "      <td>3.72</td>\n",
              "      <td>3.68</td>\n",
              "      <td>3.73</td>\n",
              "      <td>3.57</td>\n",
              "      <td>3.72</td>\n",
              "      <td>2491800</td>\n",
              "    </tr>\n",
              "    <tr>\n",
              "      <th>2021-09-29</th>\n",
              "      <td>3.70</td>\n",
              "      <td>3.69</td>\n",
              "      <td>3.74</td>\n",
              "      <td>3.56</td>\n",
              "      <td>3.70</td>\n",
              "      <td>2234700</td>\n",
              "    </tr>\n",
              "    <tr>\n",
              "      <th>2021-09-28</th>\n",
              "      <td>3.67</td>\n",
              "      <td>3.78</td>\n",
              "      <td>3.86</td>\n",
              "      <td>3.61</td>\n",
              "      <td>3.67</td>\n",
              "      <td>3534600</td>\n",
              "    </tr>\n",
              "    <tr>\n",
              "      <th>2021-09-27</th>\n",
              "      <td>3.67</td>\n",
              "      <td>3.50</td>\n",
              "      <td>3.72</td>\n",
              "      <td>3.50</td>\n",
              "      <td>3.67</td>\n",
              "      <td>4236000</td>\n",
              "    </tr>\n",
              "    <tr>\n",
              "      <th>2021-09-24</th>\n",
              "      <td>3.38</td>\n",
              "      <td>3.27</td>\n",
              "      <td>3.44</td>\n",
              "      <td>3.24</td>\n",
              "      <td>3.38</td>\n",
              "      <td>2290100</td>\n",
              "    </tr>\n",
              "    <tr>\n",
              "      <th>2021-09-23</th>\n",
              "      <td>3.36</td>\n",
              "      <td>3.25</td>\n",
              "      <td>3.39</td>\n",
              "      <td>3.21</td>\n",
              "      <td>3.36</td>\n",
              "      <td>2409400</td>\n",
              "    </tr>\n",
              "    <tr>\n",
              "      <th>2021-09-22</th>\n",
              "      <td>3.21</td>\n",
              "      <td>3.18</td>\n",
              "      <td>3.31</td>\n",
              "      <td>3.18</td>\n",
              "      <td>3.21</td>\n",
              "      <td>2466200</td>\n",
              "    </tr>\n",
              "    <tr>\n",
              "      <th>2021-09-21</th>\n",
              "      <td>3.13</td>\n",
              "      <td>3.21</td>\n",
              "      <td>3.23</td>\n",
              "      <td>3.06</td>\n",
              "      <td>3.13</td>\n",
              "      <td>2025200</td>\n",
              "    </tr>\n",
              "  </tbody>\n",
              "</table>\n",
              "</div>"
            ],
            "text/plain": [
              "            WTI_Adj Close  WTI_Open  WTI_High  WTI_Low  WTI_Close  WTI_Volume\n",
              "Date                                                                         \n",
              "2021-10-04           4.11      4.00      4.17     3.98       4.11     5325700\n",
              "2021-10-01           3.89      3.72      3.89     3.72       3.89     2589700\n",
              "2021-09-30           3.72      3.68      3.73     3.57       3.72     2491800\n",
              "2021-09-29           3.70      3.69      3.74     3.56       3.70     2234700\n",
              "2021-09-28           3.67      3.78      3.86     3.61       3.67     3534600\n",
              "2021-09-27           3.67      3.50      3.72     3.50       3.67     4236000\n",
              "2021-09-24           3.38      3.27      3.44     3.24       3.38     2290100\n",
              "2021-09-23           3.36      3.25      3.39     3.21       3.36     2409400\n",
              "2021-09-22           3.21      3.18      3.31     3.18       3.21     2466200\n",
              "2021-09-21           3.13      3.21      3.23     3.06       3.13     2025200"
            ]
          },
          "metadata": {},
          "execution_count": 5
        },
        {
          "output_type": "display_data",
          "data": {
            "image/png": "[encoded data removed]",
            "text/plain": [
              "<Figure size 432x288 with 1 Axes>"
            ]
          },
          "metadata": {
            "needs_background": "light"
          }
        }
      ]
    },
    {
      "cell_type": "code",
      "metadata": {
        "id": "wHxUZzkLVR4Q"
      },
      "source": [
        "#all_data = pd.concat([ NDX_data, WTI_data['WTI_Adj Close'], GOLD_data['GOLD_Adj Close']], axis=1)\n",
        "#all_data.head(12)"
      ],
      "execution_count": 6,
      "outputs": []
    },
    {
      "cell_type": "code",
      "metadata": {
        "id": "m7FDBl3Gb5Fr"
      },
      "source": [
        "#all_Adj_data = pd.concat([NDX_data['NDX_Adj Close'], GOLD_data['GOLD_Adj Close'],WTI_data['WTI_Adj Close']], axis = 1)\n",
        "#all_Adj_data.head()\n",
        "#\n",
        "#all_Adj_data.shape"
      ],
      "execution_count": 7,
      "outputs": []
    },
    {
      "cell_type": "markdown",
      "metadata": {
        "id": "2zI5ge0wcZeG"
      },
      "source": [
        "입력값과 출력값 데이터를 위한 코드"
      ]
    },
    {
      "cell_type": "code",
      "metadata": {
        "id": "U1u4Mp9s4lyL"
      },
      "source": [
        "def ts_train_test_normalize(all_data, time_steps, for_periods):\n",
        "    \"\"\"\n",
        "    input: \n",
        "        data: dataframe with dates and price data\n",
        "    output: \n",
        "        X_train, y_train: data from 2013/1/1-2018/12/31 \n",
        "        X_test : data from 2019- \n",
        "        sc :     insantiated MinMaxScaler object fit to the training data \n",
        "    \"\"\"\n",
        "    # create training and test set \n",
        "    ts_train = all_data[:'2019'].iloc[:,0:1].values\n",
        "    ts_test = all_data['2020':].iloc[:,0:1].values \n",
        "    ts_train_len = len(ts_train)\n",
        "    ts_test_len = len(ts_test)\n",
        "    \n",
        "    # scale the data \n",
        "    from sklearn.preprocessing import MinMaxScaler \n",
        "    sc = MinMaxScaler(feature_range=(0,1))\n",
        "    ts_train_scaled = sc.fit_transform(ts_train)\n",
        "    \n",
        "    # create training data of s samples and t time steps \n",
        "    X_train = [] \n",
        "    y_train = [] \n",
        "    for i in range(time_steps, ts_train_len-1):\n",
        "        X_train.append(ts_train_scaled[i-time_steps:i, 0])\n",
        "        y_train.append(ts_train_scaled[i:i+for_periods, 0])\n",
        "    X_train, y_train = np.array(X_train), np.array(y_train)\n",
        "    \n",
        "    # Reshaping X_train for efficient modelling \n",
        "    X_train = np.reshape(X_train, (X_train.shape[0], X_train.shape[1], 1 ))\n",
        "    \n",
        "    inputs = pd.concat((all_data[\"NDX_Adj Close\"][:'2019'], all_data[\"NDX_Adj Close\"]['2020':]), axis=0).values\n",
        "    inputs = inputs[len(inputs)-len(ts_test)-time_steps:]\n",
        "    inputs = inputs.reshape(-1,1)\n",
        "    inputs = sc.transform(inputs)\n",
        "    \n",
        "    # Preparing X_test \n",
        "    X_test = [] \n",
        "    for i in range(time_steps, ts_test_len + time_steps - for_periods):\n",
        "        X_test.append(inputs[i-time_steps:i,0])\n",
        "    \n",
        "    X_test = np.array(X_test)\n",
        "    X_test = np.reshape(X_test, (X_test.shape[0], X_test.shape[1], 1))\n",
        "    \n",
        "    return X_train, y_train , X_test, sc"
      ],
      "execution_count": 8,
      "outputs": []
    },
    {
      "cell_type": "code",
      "metadata": {
        "colab": {
          "base_uri": "https://localhost:8080/"
        },
        "id": "e6qlrRNFtGA8",
        "outputId": "4de0c640-8f34-4e6f-8a07-79f0bcf7f3f1"
      },
      "source": [
        "X_train, y_train, X_test, sc = ts_train_test_normalize(NDX_data, 5, 2)\n",
        "X_train.shape[0], X_train.shape[1]"
      ],
      "execution_count": 9,
      "outputs": [
        {
          "output_type": "execute_result",
          "data": {
            "text/plain": [
              "(2510, 5)"
            ]
          },
          "metadata": {},
          "execution_count": 9
        }
      ]
    },
    {
      "cell_type": "code",
      "metadata": {
        "colab": {
          "base_uri": "https://localhost:8080/"
        },
        "id": "KNZoJkbI02Fz",
        "outputId": "b7f0ce05-cbcf-4cc4-d33b-68520a91c7a6"
      },
      "source": [
        "# 3차원의 X_train을 데이터프레임 형식으로 바꿔서 눈으로 확인해보기\n",
        "X_train_see = pd.DataFrame(np.reshape(X_train, (X_train.shape[0], X_train.shape[1])))\n",
        "y_train_see = pd.DataFrame(y_train)\n",
        "pd.concat([X_train_see, y_train_see], axis = 1)\n",
        "\n",
        "# 3차원의 X_test를 데이터프레임 형식으로 바꿔서 눈으로 확인해보기\n",
        "X_test_see = pd.DataFrame(np.reshape(X_test, (X_test.shape[0], X_test.shape[1])))\n",
        "pd.DataFrame(X_test_see)\n",
        "\n",
        "print(\"There are \" + str(X_train.shape[0]) + \" samples in the training data\")\n",
        "# There are ? samples in the training data\n",
        "\n",
        "print(\"There are \" + str(X_test.shape[0]) + \" samples in the test data\")\n",
        "# There are ? samples in the test data"
      ],
      "execution_count": 10,
      "outputs": [
        {
          "output_type": "stream",
          "name": "stdout",
          "text": [
            "There are 2510 samples in the training data\n",
            "There are 441 samples in the test data\n"
          ]
        }
      ]
    },
    {
      "cell_type": "code",
      "metadata": {
        "id": "n6ga7XycbRRW"
      },
      "source": [
        "def LSTM_model(X_train, y_train, X_test, sc):\n",
        "    # import neccesary modul\n",
        "    from keras.models import Sequential\n",
        "    from keras.layers import Dense, SimpleRNN, GRU, LSTM\n",
        "    from tensorflow.keras.optimizers import SGD\n",
        "\n",
        "    # LSTM architecture\n",
        "    my_LSTM_model = Sequential()\n",
        "    my_LSTM_model.add(LSTM(units = 50,\n",
        "                           return_sequences = True,\n",
        "                           input_shape = (X_train.shape[1],1),\n",
        "                           activation = 'tanh'))\n",
        "    my_LSTM_model.add(LSTM(units = 50, activation = 'tanh'))\n",
        "    my_LSTM_model.add(Dense(units = 2))\n",
        "\n",
        "    # compiling\n",
        "    my_LSTM_model.compile(optimizer =SGD(lr = 0.02, decay = 1e-7, momentum = 0.9, nesterov = False),\n",
        "                          loss = 'mean_squared_error') # momentum은 관성을 나타냄\n",
        "    \n",
        "    # training data 세트에 피팅하기 (조기 중단은 추가함)\n",
        "    my_LSTM_model.fit(X_train, y_train, epochs = 50, batch_size = 150, verbose = 0)\n",
        "\n",
        "    # X_test를 LSTM model에 넣어서 예측하기\n",
        "    LSTM_prediction = my_LSTM_model.predict(X_test)\n",
        "    LSTM_prediction = sc.inverse_transform(LSTM_prediction)\n",
        "\n",
        "    return my_LSTM_model, LSTM_prediction"
      ],
      "execution_count": 11,
      "outputs": []
    },
    {
      "cell_type": "code",
      "metadata": {
        "id": "7bloT7k3gd5J"
      },
      "source": [
        "def actual_pred_plot(preds):\n",
        "    # Plot the actual vs prediction\n",
        "\n",
        "    actual_pred = pd.DataFrame(columns = ['NDX_Adj Close', 'prediction'])\n",
        "    actual_pred['NDX_Adj Close'] = NDX_data.loc['2020':, 'NDX_Adj Close'][0:len(preds)]\n",
        "    actual_pred['prediction'] = preds[:, 0]\n",
        "\n",
        "    from keras.metrics import MeanSquaredError\n",
        "    m = MeanSquaredError()\n",
        "    m.update_state(np.array(actual_pred['NDX_Adj Close']), np.array(actual_pred['prediction']))\n",
        "\n",
        "    return (m.result().numpy(), actual_pred.plot())"
      ],
      "execution_count": 12,
      "outputs": []
    },
    {
      "cell_type": "code",
      "metadata": {
        "colab": {
          "base_uri": "https://localhost:8080/",
          "height": 352
        },
        "id": "dYSA3Wgytt4Q",
        "outputId": "7bdd67f2-cff4-4249-ee5b-ccb3abad7292"
      },
      "source": [
        "my_LSTM_model, LSTM_prediction = LSTM_model(X_train, y_train, X_test, sc)\n",
        "LSTM_prediction[1:10]\n",
        "actual_pred_plot(LSTM_prediction)"
      ],
      "execution_count": 13,
      "outputs": [
        {
          "output_type": "stream",
          "name": "stderr",
          "text": [
            "/usr/local/lib/python3.7/dist-packages/keras/optimizer_v2/optimizer_v2.py:356: UserWarning: The `lr` argument is deprecated, use `learning_rate` instead.\n",
            "  \"The `lr` argument is deprecated, use `learning_rate` instead.\")\n"
          ]
        },
        {
          "output_type": "execute_result",
          "data": {
            "text/plain": [
              "(2773689.8, <matplotlib.axes._subplots.AxesSubplot at 0x7f5cdd351810>)"
            ]
          },
          "metadata": {},
          "execution_count": 13
        },
        {
          "output_type": "display_data",
          "data": {
            "image/png": "[encoded data removed]",
            "text/plain": [
              "<Figure size 432x288 with 1 Axes>"
            ]
          },
          "metadata": {
            "needs_background": "light"
          }
        }
      ]
    },
    {
      "cell_type": "code",
      "metadata": {
        "id": "dXwU3UT1wOiW"
      },
      "source": [
        "y_pred = pd.DataFrame(LSTM_prediction[:, 0])\n",
        "y_test = NDX_data.loc['2020':, 'NDX_Adj Close'][0:len(LSTM_prediction)]\n",
        "y_test.reset_index(drop = True, inplace = True)"
      ],
      "execution_count": 14,
      "outputs": []
    },
    {
      "cell_type": "code",
      "metadata": {
        "id": "6X2uu5RVwObw"
      },
      "source": [
        "# 예측성능 출력\n",
        "from sklearn.metrics import accuracy_score, mean_absolute_error, mean_squared_error, mean_squared_log_error, r2_score\n",
        "\n",
        "def confirm_result(y_test, y_pred):\n",
        "    MAE = mean_absolute_error(y_test, y_pred)\n",
        "    RMSE = np.sqrt(mean_squared_error(y_test, y_pred))\n",
        "    MSLE = mean_squared_log_error(y_test, y_pred)\n",
        "    RMSLE = np.sqrt(mean_squared_log_error(y_test, y_pred))\n",
        "    R2 = r2_score(y_test, y_pred)\n",
        "\n",
        "    Result = pd.DataFrame(data = [MAE, RMSE, RMSLE, R2],\n",
        "                          index = ['MAE', 'RMSE', 'RMSLE', 'R2'],\n",
        "                          columns = ['Results'])\n",
        "    \n",
        "    return Result"
      ],
      "execution_count": 15,
      "outputs": []
    },
    {
      "cell_type": "code",
      "metadata": {
        "colab": {
          "base_uri": "https://localhost:8080/",
          "height": 171
        },
        "id": "csR0pPhQFbBi",
        "outputId": "1a9eb9ba-329e-4015-ab52-55a2e48002c2"
      },
      "source": [
        "# result check\n",
        "confirm_result(y_test, y_pred)"
      ],
      "execution_count": 16,
      "outputs": [
        {
          "output_type": "execute_result",
          "data": {
            "text/html": [
              "<div>\n",
              "<style scoped>\n",
              "    .dataframe tbody tr th:only-of-type {\n",
              "        vertical-align: middle;\n",
              "    }\n",
              "\n",
              "    .dataframe tbody tr th {\n",
              "        vertical-align: top;\n",
              "    }\n",
              "\n",
              "    .dataframe thead th {\n",
              "        text-align: right;\n",
              "    }\n",
              "</style>\n",
              "<table border=\"1\" class=\"dataframe\">\n",
              "  <thead>\n",
              "    <tr style=\"text-align: right;\">\n",
              "      <th></th>\n",
              "      <th>Results</th>\n",
              "    </tr>\n",
              "  </thead>\n",
              "  <tbody>\n",
              "    <tr>\n",
              "      <th>MAE</th>\n",
              "      <td>1416.245226</td>\n",
              "    </tr>\n",
              "    <tr>\n",
              "      <th>RMSE</th>\n",
              "      <td>1665.439760</td>\n",
              "    </tr>\n",
              "    <tr>\n",
              "      <th>RMSLE</th>\n",
              "      <td>0.132290</td>\n",
              "    </tr>\n",
              "    <tr>\n",
              "      <th>R2</th>\n",
              "      <td>0.452996</td>\n",
              "    </tr>\n",
              "  </tbody>\n",
              "</table>\n",
              "</div>"
            ],
            "text/plain": [
              "           Results\n",
              "MAE    1416.245226\n",
              "RMSE   1665.439760\n",
              "RMSLE     0.132290\n",
              "R2        0.452996"
            ]
          },
          "metadata": {},
          "execution_count": 16
        }
      ]
    },
    {
      "cell_type": "code",
      "metadata": {
        "id": "v9uAz0TVvA79"
      },
      "source": [
        "def GRU_model(X_train, y_train, X_test, sc):\n",
        "    # create a model \n",
        "    from keras.models import Sequential \n",
        "    from keras.layers import Dense, SimpleRNN, GRU\n",
        "    from tensorflow.keras.optimizers import SGD\n",
        "    \n",
        "    # The GRU architecture \n",
        "    my_GRU_model = Sequential()\n",
        "    my_GRU_model.add(GRU(units = 50, \n",
        "                         return_sequences = True, \n",
        "                         input_shape = (X_train.shape[1],1), \n",
        "                         activation = 'tanh'))\n",
        "    my_GRU_model.add(GRU(units = 50, \n",
        "                         activation = 'tanh'))\n",
        "    my_GRU_model.add(Dense(units = 2))\n",
        "    \n",
        "    # Compiling the RNN \n",
        "    my_GRU_model.compile(optimizer = SGD(lr = 0.01, decay = 1e-7, \n",
        "                                         momentum = 0.9, nesterov = False), \n",
        "                         loss = 'mean_squared_error')\n",
        "    \n",
        "    # Fitting to the trainig set \n",
        "    my_GRU_model.fit(X_train, y_train, epochs = 50, batch_size = 150, verbose = 0)\n",
        "    \n",
        "    GRU_prediction = my_GRU_model.predict(X_test)\n",
        "    GRU_prediction = sc.inverse_transform(GRU_prediction)\n",
        "    \n",
        "    return my_GRU_model, GRU_prediction\n"
      ],
      "execution_count": 17,
      "outputs": []
    },
    {
      "cell_type": "code",
      "metadata": {
        "colab": {
          "base_uri": "https://localhost:8080/",
          "height": 352
        },
        "id": "OLq-VtElvBDK",
        "outputId": "4b0d698e-7d86-4177-aae0-526644e46d6e"
      },
      "source": [
        "my_GRU_model, GRU_prediction = GRU_model(X_train, y_train, X_test, sc)\n",
        "GRU_prediction[1:10]\n",
        "actual_pred_plot(GRU_prediction)"
      ],
      "execution_count": 18,
      "outputs": [
        {
          "output_type": "stream",
          "name": "stderr",
          "text": [
            "/usr/local/lib/python3.7/dist-packages/keras/optimizer_v2/optimizer_v2.py:356: UserWarning: The `lr` argument is deprecated, use `learning_rate` instead.\n",
            "  \"The `lr` argument is deprecated, use `learning_rate` instead.\")\n"
          ]
        },
        {
          "output_type": "execute_result",
          "data": {
            "text/plain": [
              "(649719.3, <matplotlib.axes._subplots.AxesSubplot at 0x7f5cda78cc50>)"
            ]
          },
          "metadata": {},
          "execution_count": 18
        },
        {
          "output_type": "display_data",
          "data": {
            "image/png": "[encoded data removed]",
            "text/plain": [
              "<Figure size 432x288 with 1 Axes>"
            ]
          },
          "metadata": {
            "needs_background": "light"
          }
        }
      ]
    },
    {
      "cell_type": "code",
      "metadata": {
        "id": "LQ2Tq2vuvGE9"
      },
      "source": [
        "y_pred_gru = pd.DataFrame(GRU_prediction[:, 0])\n",
        "y_test_gru=NDX_data.loc['2020':,'NDX_Adj Close'][0:len(GRU_prediction)]\n",
        "y_test_gru.reset_index(drop=True, inplace=True)"
      ],
      "execution_count": 19,
      "outputs": []
    },
    {
      "cell_type": "code",
      "metadata": {
        "colab": {
          "base_uri": "https://localhost:8080/",
          "height": 171
        },
        "id": "ipQEQUTTvOj7",
        "outputId": "32b4fe1a-6fa4-4b2e-beea-5f54355b0b5d"
      },
      "source": [
        "confirm_result(y_test_gru, y_pred_gru)"
      ],
      "execution_count": 20,
      "outputs": [
        {
          "output_type": "execute_result",
          "data": {
            "text/html": [
              "<div>\n",
              "<style scoped>\n",
              "    .dataframe tbody tr th:only-of-type {\n",
              "        vertical-align: middle;\n",
              "    }\n",
              "\n",
              "    .dataframe tbody tr th {\n",
              "        vertical-align: top;\n",
              "    }\n",
              "\n",
              "    .dataframe thead th {\n",
              "        text-align: right;\n",
              "    }\n",
              "</style>\n",
              "<table border=\"1\" class=\"dataframe\">\n",
              "  <thead>\n",
              "    <tr style=\"text-align: right;\">\n",
              "      <th></th>\n",
              "      <th>Results</th>\n",
              "    </tr>\n",
              "  </thead>\n",
              "  <tbody>\n",
              "    <tr>\n",
              "      <th>MAE</th>\n",
              "      <td>682.999156</td>\n",
              "    </tr>\n",
              "    <tr>\n",
              "      <th>RMSE</th>\n",
              "      <td>806.051685</td>\n",
              "    </tr>\n",
              "    <tr>\n",
              "      <th>RMSLE</th>\n",
              "      <td>0.062220</td>\n",
              "    </tr>\n",
              "    <tr>\n",
              "      <th>R2</th>\n",
              "      <td>0.871868</td>\n",
              "    </tr>\n",
              "  </tbody>\n",
              "</table>\n",
              "</div>"
            ],
            "text/plain": [
              "          Results\n",
              "MAE    682.999156\n",
              "RMSE   806.051685\n",
              "RMSLE    0.062220\n",
              "R2       0.871868"
            ]
          },
          "metadata": {},
          "execution_count": 20
        }
      ]
    }
  ]
}
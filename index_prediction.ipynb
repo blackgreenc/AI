{
  "nbformat": 4,
  "nbformat_minor": 0,
  "metadata": {
    "colab": {
      "name": "index_prediction",
      "provenance": [],
      "collapsed_sections": [],
      "authorship_tag": "ABX9TyNSNK4LWopuVuMGPiQwMD3j",
      "include_colab_link": true
    },
    "kernelspec": {
      "name": "python3",
      "display_name": "Python 3"
    },
    "language_info": {
      "name": "python"
    }
  },
  "cells": [
    {
      "cell_type": "markdown",
      "metadata": {
        "id": "view-in-github",
        "colab_type": "text"
      },
      "source": [
        "<a href=\"https://colab.research.google.com/github/blackgreenc/AI/blob/main/index_prediction.ipynb\" target=\"_parent\"><img src=\"https://colab.research.google.com/assets/colab-badge.svg\" alt=\"Open In Colab\"/></a>"
      ]
    },
    {
      "cell_type": "code",
      "metadata": {
        "id": "J3sjGpIGMvTC",
        "colab": {
          "base_uri": "https://localhost:8080/"
        },
        "outputId": "51892a66-8218-463b-d091-d04e7b2dd738"
      },
      "source": [
        "!pip install yfinance"
      ],
      "execution_count": 37,
      "outputs": [
        {
          "output_type": "stream",
          "name": "stdout",
          "text": [
            "Requirement already satisfied: yfinance in /usr/local/lib/python3.7/dist-packages (0.1.63)\n",
            "Requirement already satisfied: requests>=2.20 in /usr/local/lib/python3.7/dist-packages (from yfinance) (2.23.0)\n",
            "Requirement already satisfied: multitasking>=0.0.7 in /usr/local/lib/python3.7/dist-packages (from yfinance) (0.0.9)\n",
            "Requirement already satisfied: numpy>=1.15 in /usr/local/lib/python3.7/dist-packages (from yfinance) (1.19.5)\n",
            "Requirement already satisfied: lxml>=4.5.1 in /usr/local/lib/python3.7/dist-packages (from yfinance) (4.6.3)\n",
            "Requirement already satisfied: pandas>=0.24 in /usr/local/lib/python3.7/dist-packages (from yfinance) (1.1.5)\n",
            "Requirement already satisfied: pytz>=2017.2 in /usr/local/lib/python3.7/dist-packages (from pandas>=0.24->yfinance) (2018.9)\n",
            "Requirement already satisfied: python-dateutil>=2.7.3 in /usr/local/lib/python3.7/dist-packages (from pandas>=0.24->yfinance) (2.8.2)\n",
            "Requirement already satisfied: six>=1.5 in /usr/local/lib/python3.7/dist-packages (from python-dateutil>=2.7.3->pandas>=0.24->yfinance) (1.15.0)\n",
            "Requirement already satisfied: certifi>=2017.4.17 in /usr/local/lib/python3.7/dist-packages (from requests>=2.20->yfinance) (2021.5.30)\n",
            "Requirement already satisfied: urllib3!=1.25.0,!=1.25.1,<1.26,>=1.21.1 in /usr/local/lib/python3.7/dist-packages (from requests>=2.20->yfinance) (1.24.3)\n",
            "Requirement already satisfied: chardet<4,>=3.0.2 in /usr/local/lib/python3.7/dist-packages (from requests>=2.20->yfinance) (3.0.4)\n",
            "Requirement already satisfied: idna<3,>=2.5 in /usr/local/lib/python3.7/dist-packages (from requests>=2.20->yfinance) (2.10)\n"
          ]
        }
      ]
    },
    {
      "cell_type": "code",
      "metadata": {
        "id": "DQwjJlqeMZ_c"
      },
      "source": [
        "import numpy as np\n",
        "import pandas as pd\n",
        "import yfinance as yf #야후 파이낸스 데이터"
      ],
      "execution_count": 38,
      "outputs": []
    },
    {
      "cell_type": "code",
      "metadata": {
        "colab": {
          "base_uri": "https://localhost:8080/",
          "height": 322
        },
        "id": "mZ7Ld-HwMvV7",
        "outputId": "53848008-7753-4d73-e418-704c3b61df76"
      },
      "source": [
        "#아마존\n",
        "AMZN = yf.download('AMZN',\n",
        "                     start = '2000-01-01',\n",
        "                     end = '2021-1-05',\n",
        "                     progress = False)\n",
        "\n",
        "AMZN_data = AMZN[['Adj Close', 'Open', 'High', 'Low', \"Close\",\"Volume\"]].round(2)\n",
        "AMZN_data.head(15)\n",
        "\n",
        "print(\"There are\" + str(AMZN_data[:\"2000\"].shape[0]) + \"observations in the training data\")\n",
        "print(\"There are\" + str(AMZN_data[:\"2021\"].shape[0]) + \"observations in the training data\")\n",
        "AMZN_data['Adj Close'].plot()\n",
        "\n"
      ],
      "execution_count": 39,
      "outputs": [
        {
          "output_type": "stream",
          "name": "stdout",
          "text": [
            "There are252observations in the training data\n",
            "There are5285observations in the training data\n"
          ]
        },
        {
          "output_type": "execute_result",
          "data": {
            "text/plain": [
              "<matplotlib.axes._subplots.AxesSubplot at 0x7f930b315550>"
            ]
          },
          "metadata": {},
          "execution_count": 39
        },
        {
          "output_type": "display_data",
          "data": {
            "image/png": "[encoded data removed]",
            "text/plain": [
              "<Figure size 432x288 with 1 Axes>"
            ]
          },
          "metadata": {
            "needs_background": "light"
          }
        }
      ]
    },
    {
      "cell_type": "code",
      "metadata": {
        "colab": {
          "base_uri": "https://localhost:8080/",
          "height": 421
        },
        "id": "FfwPUMtQMvXM",
        "outputId": "85c95c21-bd2f-4b1d-a58e-85e9e91cb916"
      },
      "source": [
        "# 나스닥 100\n",
        "NDX  = yf.download('NDX',\n",
        "                     start = '2006-01-01',\n",
        "                     end = '2021-1-05',\n",
        "                     progress = False)\n",
        "\n",
        "NDX_data = NDX[['Adj Close', 'Open', 'High', 'Low', \"Close\",\"Volume\"]].round(2)\n",
        "#NDX_data.rename(columns={'Adj Close':'NDX_Adj Close', 'Open':'NDX_Open', 'High':'NDX_High', 'Low':'NDX_Low', 'Close':'NDX_Close', 'Volume':'NDX_Volume' }, inplace=True)\n",
        "\n",
        "\n",
        "print(\"There are\" + str(all_data[:\"2006\"].shape[0]) + \"observations in the training data\")\n",
        "print(\"There are\" + str(all_data[:\"2021\"].shape[0]) + \"observations in the training data\")\n",
        "\n",
        "#NDX_data['NDX_Adj Close'].plot()\n",
        "NDX_data.shape\n",
        "NDX_data.loc[::-1].head(10)"
      ],
      "execution_count": 51,
      "outputs": [
        {
          "output_type": "stream",
          "name": "stdout",
          "text": [
            "There are251observations in the training data\n",
            "There are3777observations in the training data\n"
          ]
        },
        {
          "output_type": "execute_result",
          "data": {
            "text/html": [
              "<div>\n",
              "<style scoped>\n",
              "    .dataframe tbody tr th:only-of-type {\n",
              "        vertical-align: middle;\n",
              "    }\n",
              "\n",
              "    .dataframe tbody tr th {\n",
              "        vertical-align: top;\n",
              "    }\n",
              "\n",
              "    .dataframe thead th {\n",
              "        text-align: right;\n",
              "    }\n",
              "</style>\n",
              "<table border=\"1\" class=\"dataframe\">\n",
              "  <thead>\n",
              "    <tr style=\"text-align: right;\">\n",
              "      <th></th>\n",
              "      <th>Adj Close</th>\n",
              "      <th>Open</th>\n",
              "      <th>High</th>\n",
              "      <th>Low</th>\n",
              "      <th>Close</th>\n",
              "      <th>Volume</th>\n",
              "    </tr>\n",
              "    <tr>\n",
              "      <th>Date</th>\n",
              "      <th></th>\n",
              "      <th></th>\n",
              "      <th></th>\n",
              "      <th></th>\n",
              "      <th></th>\n",
              "      <th></th>\n",
              "    </tr>\n",
              "  </thead>\n",
              "  <tbody>\n",
              "    <tr>\n",
              "      <th>2021-01-04</th>\n",
              "      <td>12694.66</td>\n",
              "      <td>12950.22</td>\n",
              "      <td>12950.22</td>\n",
              "      <td>12537.42</td>\n",
              "      <td>12694.66</td>\n",
              "      <td>6546740000</td>\n",
              "    </tr>\n",
              "    <tr>\n",
              "      <th>2020-12-31</th>\n",
              "      <td>12888.28</td>\n",
              "      <td>12852.96</td>\n",
              "      <td>12904.09</td>\n",
              "      <td>12804.75</td>\n",
              "      <td>12888.28</td>\n",
              "      <td>4771390000</td>\n",
              "    </tr>\n",
              "    <tr>\n",
              "      <th>2020-12-30</th>\n",
              "      <td>12845.36</td>\n",
              "      <td>12900.03</td>\n",
              "      <td>12917.45</td>\n",
              "      <td>12828.79</td>\n",
              "      <td>12845.36</td>\n",
              "      <td>5292210000</td>\n",
              "    </tr>\n",
              "    <tr>\n",
              "      <th>2020-12-29</th>\n",
              "      <td>12843.49</td>\n",
              "      <td>12909.86</td>\n",
              "      <td>12925.53</td>\n",
              "      <td>12816.59</td>\n",
              "      <td>12843.49</td>\n",
              "      <td>4680780000</td>\n",
              "    </tr>\n",
              "    <tr>\n",
              "      <th>2020-12-28</th>\n",
              "      <td>12838.86</td>\n",
              "      <td>12813.97</td>\n",
              "      <td>12861.91</td>\n",
              "      <td>12747.05</td>\n",
              "      <td>12838.86</td>\n",
              "      <td>5076340000</td>\n",
              "    </tr>\n",
              "    <tr>\n",
              "      <th>2020-12-24</th>\n",
              "      <td>12711.01</td>\n",
              "      <td>12668.20</td>\n",
              "      <td>12732.55</td>\n",
              "      <td>12665.80</td>\n",
              "      <td>12711.01</td>\n",
              "      <td>3305950000</td>\n",
              "    </tr>\n",
              "    <tr>\n",
              "      <th>2020-12-23</th>\n",
              "      <td>12653.14</td>\n",
              "      <td>12733.75</td>\n",
              "      <td>12737.59</td>\n",
              "      <td>12649.60</td>\n",
              "      <td>12653.14</td>\n",
              "      <td>7028650000</td>\n",
              "    </tr>\n",
              "    <tr>\n",
              "      <th>2020-12-22</th>\n",
              "      <td>12717.56</td>\n",
              "      <td>12715.48</td>\n",
              "      <td>12761.23</td>\n",
              "      <td>12606.42</td>\n",
              "      <td>12717.56</td>\n",
              "      <td>5700760000</td>\n",
              "    </tr>\n",
              "    <tr>\n",
              "      <th>2020-12-21</th>\n",
              "      <td>12690.26</td>\n",
              "      <td>12575.60</td>\n",
              "      <td>12706.44</td>\n",
              "      <td>12474.03</td>\n",
              "      <td>12690.26</td>\n",
              "      <td>5156470000</td>\n",
              "    </tr>\n",
              "    <tr>\n",
              "      <th>2020-12-18</th>\n",
              "      <td>12738.18</td>\n",
              "      <td>12786.92</td>\n",
              "      <td>12793.47</td>\n",
              "      <td>12611.22</td>\n",
              "      <td>12738.18</td>\n",
              "      <td>7088670000</td>\n",
              "    </tr>\n",
              "  </tbody>\n",
              "</table>\n",
              "</div>"
            ],
            "text/plain": [
              "            Adj Close      Open      High       Low     Close      Volume\n",
              "Date                                                                     \n",
              "2021-01-04   12694.66  12950.22  12950.22  12537.42  12694.66  6546740000\n",
              "2020-12-31   12888.28  12852.96  12904.09  12804.75  12888.28  4771390000\n",
              "2020-12-30   12845.36  12900.03  12917.45  12828.79  12845.36  5292210000\n",
              "2020-12-29   12843.49  12909.86  12925.53  12816.59  12843.49  4680780000\n",
              "2020-12-28   12838.86  12813.97  12861.91  12747.05  12838.86  5076340000\n",
              "2020-12-24   12711.01  12668.20  12732.55  12665.80  12711.01  3305950000\n",
              "2020-12-23   12653.14  12733.75  12737.59  12649.60  12653.14  7028650000\n",
              "2020-12-22   12717.56  12715.48  12761.23  12606.42  12717.56  5700760000\n",
              "2020-12-21   12690.26  12575.60  12706.44  12474.03  12690.26  5156470000\n",
              "2020-12-18   12738.18  12786.92  12793.47  12611.22  12738.18  7088670000"
            ]
          },
          "metadata": {},
          "execution_count": 51
        }
      ]
    },
    {
      "cell_type": "code",
      "metadata": {
        "colab": {
          "base_uri": "https://localhost:8080/"
        },
        "id": "pTqTFuRz-r7C",
        "outputId": "e043a68e-05d1-4117-960f-61688bfc399e"
      },
      "source": [
        "print(all_data.sample(n=5))"
      ],
      "execution_count": 41,
      "outputs": [
        {
          "output_type": "stream",
          "name": "stdout",
          "text": [
            "            WTI_Adj Close  WTI_Open  ...  GOLD_Close  GOLD_Volume\n",
            "Date                                 ...                         \n",
            "2012-08-03          14.85     16.33  ...       32.75      8165300\n",
            "2016-07-26           2.05      2.07  ...       20.45     15632200\n",
            "2018-10-08           8.43      8.96  ...       11.41     13408900\n",
            "2018-09-13           6.80      6.89  ...       10.11     12262700\n",
            "2009-02-10           9.39     12.40  ...       37.13     13318600\n",
            "\n",
            "[5 rows x 18 columns]\n"
          ]
        }
      ]
    },
    {
      "cell_type": "code",
      "metadata": {
        "colab": {
          "base_uri": "https://localhost:8080/",
          "height": 673
        },
        "id": "1LPp9Q_ZMvYK",
        "outputId": "95d0be64-bcfe-468b-c563-c2c3a1bca3fc"
      },
      "source": [
        "# 금값\n",
        "GOLD  = yf.download('GOLD',\n",
        "                     start = '2006-01-01',\n",
        "                     end = '2021-1-05',\n",
        "                     progress = False)\n",
        "\n",
        "GOLD_data = GOLD[['Adj Close', 'Open', 'High', 'Low', \"Close\",\"Volume\"]].round(2)\n",
        "GOLD_data.rename(columns={'Adj Close':'GOLD_Adj Close', 'Open':'GOLD_Open', 'High':'GOLD_High', 'Low':'GOLD_Low', 'Close':'GOLD_Close', 'Volume':'GOLD_Volume' }, inplace=True)\n",
        "\n",
        "\n",
        "print(\"There are\" + str(GOLD_data[:\"2006\"].shape[0]) + \"observations in the training data\")\n",
        "print(\"There are\" + str(GOLD_data[:\"2021\"].shape[0]) + \"observations in the test data\")\n",
        "\n",
        "GOLD_data['GOLD_Adj Close'].plot()\n",
        "GOLD_data.loc[::-1].head(10)"
      ],
      "execution_count": 42,
      "outputs": [
        {
          "output_type": "stream",
          "name": "stdout",
          "text": [
            "There are251observations in the training data\n",
            "There are3777observations in the test data\n"
          ]
        },
        {
          "output_type": "execute_result",
          "data": {
            "text/html": [
              "<div>\n",
              "<style scoped>\n",
              "    .dataframe tbody tr th:only-of-type {\n",
              "        vertical-align: middle;\n",
              "    }\n",
              "\n",
              "    .dataframe tbody tr th {\n",
              "        vertical-align: top;\n",
              "    }\n",
              "\n",
              "    .dataframe thead th {\n",
              "        text-align: right;\n",
              "    }\n",
              "</style>\n",
              "<table border=\"1\" class=\"dataframe\">\n",
              "  <thead>\n",
              "    <tr style=\"text-align: right;\">\n",
              "      <th></th>\n",
              "      <th>GOLD_Adj Close</th>\n",
              "      <th>GOLD_Open</th>\n",
              "      <th>GOLD_High</th>\n",
              "      <th>GOLD_Low</th>\n",
              "      <th>GOLD_Close</th>\n",
              "      <th>GOLD_Volume</th>\n",
              "    </tr>\n",
              "    <tr>\n",
              "      <th>Date</th>\n",
              "      <th></th>\n",
              "      <th></th>\n",
              "      <th></th>\n",
              "      <th></th>\n",
              "      <th></th>\n",
              "      <th></th>\n",
              "    </tr>\n",
              "  </thead>\n",
              "  <tbody>\n",
              "    <tr>\n",
              "      <th>2021-01-04</th>\n",
              "      <td>24.00</td>\n",
              "      <td>23.85</td>\n",
              "      <td>24.80</td>\n",
              "      <td>23.62</td>\n",
              "      <td>24.62</td>\n",
              "      <td>41044700</td>\n",
              "    </tr>\n",
              "    <tr>\n",
              "      <th>2020-12-31</th>\n",
              "      <td>22.21</td>\n",
              "      <td>23.25</td>\n",
              "      <td>23.27</td>\n",
              "      <td>22.70</td>\n",
              "      <td>22.78</td>\n",
              "      <td>18088000</td>\n",
              "    </tr>\n",
              "    <tr>\n",
              "      <th>2020-12-30</th>\n",
              "      <td>22.66</td>\n",
              "      <td>22.97</td>\n",
              "      <td>23.28</td>\n",
              "      <td>22.85</td>\n",
              "      <td>23.24</td>\n",
              "      <td>16046500</td>\n",
              "    </tr>\n",
              "    <tr>\n",
              "      <th>2020-12-29</th>\n",
              "      <td>22.33</td>\n",
              "      <td>22.96</td>\n",
              "      <td>23.28</td>\n",
              "      <td>22.75</td>\n",
              "      <td>22.91</td>\n",
              "      <td>14663900</td>\n",
              "    </tr>\n",
              "    <tr>\n",
              "      <th>2020-12-28</th>\n",
              "      <td>22.27</td>\n",
              "      <td>23.52</td>\n",
              "      <td>23.54</td>\n",
              "      <td>22.80</td>\n",
              "      <td>22.84</td>\n",
              "      <td>15946700</td>\n",
              "    </tr>\n",
              "    <tr>\n",
              "      <th>2020-12-24</th>\n",
              "      <td>22.32</td>\n",
              "      <td>22.80</td>\n",
              "      <td>23.04</td>\n",
              "      <td>22.73</td>\n",
              "      <td>22.90</td>\n",
              "      <td>4920100</td>\n",
              "    </tr>\n",
              "    <tr>\n",
              "      <th>2020-12-23</th>\n",
              "      <td>22.26</td>\n",
              "      <td>22.62</td>\n",
              "      <td>23.03</td>\n",
              "      <td>22.56</td>\n",
              "      <td>22.83</td>\n",
              "      <td>11737800</td>\n",
              "    </tr>\n",
              "    <tr>\n",
              "      <th>2020-12-22</th>\n",
              "      <td>21.95</td>\n",
              "      <td>23.00</td>\n",
              "      <td>23.05</td>\n",
              "      <td>22.26</td>\n",
              "      <td>22.52</td>\n",
              "      <td>19820200</td>\n",
              "    </tr>\n",
              "    <tr>\n",
              "      <th>2020-12-21</th>\n",
              "      <td>22.44</td>\n",
              "      <td>23.25</td>\n",
              "      <td>23.41</td>\n",
              "      <td>22.95</td>\n",
              "      <td>23.02</td>\n",
              "      <td>20688200</td>\n",
              "    </tr>\n",
              "    <tr>\n",
              "      <th>2020-12-18</th>\n",
              "      <td>22.68</td>\n",
              "      <td>23.69</td>\n",
              "      <td>23.69</td>\n",
              "      <td>23.26</td>\n",
              "      <td>23.27</td>\n",
              "      <td>14803000</td>\n",
              "    </tr>\n",
              "  </tbody>\n",
              "</table>\n",
              "</div>"
            ],
            "text/plain": [
              "            GOLD_Adj Close  GOLD_Open  ...  GOLD_Close  GOLD_Volume\n",
              "Date                                   ...                         \n",
              "2021-01-04           24.00      23.85  ...       24.62     41044700\n",
              "2020-12-31           22.21      23.25  ...       22.78     18088000\n",
              "2020-12-30           22.66      22.97  ...       23.24     16046500\n",
              "2020-12-29           22.33      22.96  ...       22.91     14663900\n",
              "2020-12-28           22.27      23.52  ...       22.84     15946700\n",
              "2020-12-24           22.32      22.80  ...       22.90      4920100\n",
              "2020-12-23           22.26      22.62  ...       22.83     11737800\n",
              "2020-12-22           21.95      23.00  ...       22.52     19820200\n",
              "2020-12-21           22.44      23.25  ...       23.02     20688200\n",
              "2020-12-18           22.68      23.69  ...       23.27     14803000\n",
              "\n",
              "[10 rows x 6 columns]"
            ]
          },
          "metadata": {},
          "execution_count": 42
        },
        {
          "output_type": "display_data",
          "data": {
            "image/png": "[encoded data removed]",
            "text/plain": [
              "<Figure size 432x288 with 1 Axes>"
            ]
          },
          "metadata": {
            "needs_background": "light"
          }
        }
      ]
    },
    {
      "cell_type": "code",
      "metadata": {
        "colab": {
          "base_uri": "https://localhost:8080/",
          "height": 673
        },
        "id": "xOS2PWzfMvbl",
        "outputId": "3ea5c07f-0004-48e6-ff0b-a0a8b9341aa4"
      },
      "source": [
        "# 기름 \n",
        "WTI  = yf.download('WTI',\n",
        "                     start = '2006-01-01',\n",
        "                     end = '2021-1-05',\n",
        "                     progress = False)\n",
        "\n",
        "WTI_data = WTI[['Adj Close', 'Open', 'High', 'Low', \"Close\",\"Volume\"]].round(2)\n",
        "WTI_data.rename(columns={'Adj Close':'WTI_Adj Close', 'Open':'WTI_Open', 'High':'WTI_High', 'Low':'WTI_Low', 'Close':'WTI_Close', 'Volume':'WTI_Volume' }, inplace=True)\n",
        "\n",
        "\n",
        "print(\"There are\" + str(WTI_data[:\"2006\"].shape[0]) + \"observations in the training data\")\n",
        "print(\"There are\" + str(WTI_data[:\"2021\"].shape[0]) + \"observations in the training data\")\n",
        "\n",
        "WTI_data['WTI_Adj Close'].plot()\n",
        "WTI_data.loc[::-1].head(10)"
      ],
      "execution_count": 43,
      "outputs": [
        {
          "output_type": "stream",
          "name": "stdout",
          "text": [
            "There are251observations in the training data\n",
            "There are3777observations in the training data\n"
          ]
        },
        {
          "output_type": "execute_result",
          "data": {
            "text/html": [
              "<div>\n",
              "<style scoped>\n",
              "    .dataframe tbody tr th:only-of-type {\n",
              "        vertical-align: middle;\n",
              "    }\n",
              "\n",
              "    .dataframe tbody tr th {\n",
              "        vertical-align: top;\n",
              "    }\n",
              "\n",
              "    .dataframe thead th {\n",
              "        text-align: right;\n",
              "    }\n",
              "</style>\n",
              "<table border=\"1\" class=\"dataframe\">\n",
              "  <thead>\n",
              "    <tr style=\"text-align: right;\">\n",
              "      <th></th>\n",
              "      <th>WTI_Adj Close</th>\n",
              "      <th>WTI_Open</th>\n",
              "      <th>WTI_High</th>\n",
              "      <th>WTI_Low</th>\n",
              "      <th>WTI_Close</th>\n",
              "      <th>WTI_Volume</th>\n",
              "    </tr>\n",
              "    <tr>\n",
              "      <th>Date</th>\n",
              "      <th></th>\n",
              "      <th></th>\n",
              "      <th></th>\n",
              "      <th></th>\n",
              "      <th></th>\n",
              "      <th></th>\n",
              "    </tr>\n",
              "  </thead>\n",
              "  <tbody>\n",
              "    <tr>\n",
              "      <th>2021-01-04</th>\n",
              "      <td>2.20</td>\n",
              "      <td>2.21</td>\n",
              "      <td>2.26</td>\n",
              "      <td>2.15</td>\n",
              "      <td>2.20</td>\n",
              "      <td>2512500</td>\n",
              "    </tr>\n",
              "    <tr>\n",
              "      <th>2020-12-31</th>\n",
              "      <td>2.17</td>\n",
              "      <td>2.22</td>\n",
              "      <td>2.26</td>\n",
              "      <td>2.15</td>\n",
              "      <td>2.17</td>\n",
              "      <td>2467800</td>\n",
              "    </tr>\n",
              "    <tr>\n",
              "      <th>2020-12-30</th>\n",
              "      <td>2.24</td>\n",
              "      <td>2.23</td>\n",
              "      <td>2.27</td>\n",
              "      <td>2.21</td>\n",
              "      <td>2.24</td>\n",
              "      <td>2441100</td>\n",
              "    </tr>\n",
              "    <tr>\n",
              "      <th>2020-12-29</th>\n",
              "      <td>2.21</td>\n",
              "      <td>2.27</td>\n",
              "      <td>2.30</td>\n",
              "      <td>2.20</td>\n",
              "      <td>2.21</td>\n",
              "      <td>2749500</td>\n",
              "    </tr>\n",
              "    <tr>\n",
              "      <th>2020-12-28</th>\n",
              "      <td>2.25</td>\n",
              "      <td>2.33</td>\n",
              "      <td>2.38</td>\n",
              "      <td>2.24</td>\n",
              "      <td>2.25</td>\n",
              "      <td>2657200</td>\n",
              "    </tr>\n",
              "    <tr>\n",
              "      <th>2020-12-24</th>\n",
              "      <td>2.30</td>\n",
              "      <td>2.39</td>\n",
              "      <td>2.40</td>\n",
              "      <td>2.29</td>\n",
              "      <td>2.30</td>\n",
              "      <td>1381500</td>\n",
              "    </tr>\n",
              "    <tr>\n",
              "      <th>2020-12-23</th>\n",
              "      <td>2.38</td>\n",
              "      <td>2.26</td>\n",
              "      <td>2.47</td>\n",
              "      <td>2.26</td>\n",
              "      <td>2.38</td>\n",
              "      <td>3636800</td>\n",
              "    </tr>\n",
              "    <tr>\n",
              "      <th>2020-12-22</th>\n",
              "      <td>2.24</td>\n",
              "      <td>2.35</td>\n",
              "      <td>2.36</td>\n",
              "      <td>2.23</td>\n",
              "      <td>2.24</td>\n",
              "      <td>3225900</td>\n",
              "    </tr>\n",
              "    <tr>\n",
              "      <th>2020-12-21</th>\n",
              "      <td>2.33</td>\n",
              "      <td>2.28</td>\n",
              "      <td>2.40</td>\n",
              "      <td>2.27</td>\n",
              "      <td>2.33</td>\n",
              "      <td>3104200</td>\n",
              "    </tr>\n",
              "    <tr>\n",
              "      <th>2020-12-18</th>\n",
              "      <td>2.44</td>\n",
              "      <td>2.50</td>\n",
              "      <td>2.56</td>\n",
              "      <td>2.43</td>\n",
              "      <td>2.44</td>\n",
              "      <td>3185400</td>\n",
              "    </tr>\n",
              "  </tbody>\n",
              "</table>\n",
              "</div>"
            ],
            "text/plain": [
              "            WTI_Adj Close  WTI_Open  WTI_High  WTI_Low  WTI_Close  WTI_Volume\n",
              "Date                                                                         \n",
              "2021-01-04           2.20      2.21      2.26     2.15       2.20     2512500\n",
              "2020-12-31           2.17      2.22      2.26     2.15       2.17     2467800\n",
              "2020-12-30           2.24      2.23      2.27     2.21       2.24     2441100\n",
              "2020-12-29           2.21      2.27      2.30     2.20       2.21     2749500\n",
              "2020-12-28           2.25      2.33      2.38     2.24       2.25     2657200\n",
              "2020-12-24           2.30      2.39      2.40     2.29       2.30     1381500\n",
              "2020-12-23           2.38      2.26      2.47     2.26       2.38     3636800\n",
              "2020-12-22           2.24      2.35      2.36     2.23       2.24     3225900\n",
              "2020-12-21           2.33      2.28      2.40     2.27       2.33     3104200\n",
              "2020-12-18           2.44      2.50      2.56     2.43       2.44     3185400"
            ]
          },
          "metadata": {},
          "execution_count": 43
        },
        {
          "output_type": "display_data",
          "data": {
            "image/png": "[encoded data removed]",
            "text/plain": [
              "<Figure size 432x288 with 1 Axes>"
            ]
          },
          "metadata": {
            "needs_background": "light"
          }
        }
      ]
    },
    {
      "cell_type": "code",
      "metadata": {
        "id": "wHxUZzkLVR4Q"
      },
      "source": [
        "#all_data = pd.concat([WTI_data, NDX_data, GOLD_data], axis=1)\n",
        "#all_data.head(12)"
      ],
      "execution_count": 44,
      "outputs": []
    },
    {
      "cell_type": "code",
      "metadata": {
        "id": "m7FDBl3Gb5Fr"
      },
      "source": [
        "# all_Adj_data = df.concat([NDX_data['NDX_Adj Close'], GOLD_data['GOLD_Adj Close'],WTI_data['WTI_Adj Close']], axis = 1)\n",
        "# all_Adj_data.head()\n",
        "\n",
        "# all_Adj_data.shape"
      ],
      "execution_count": 45,
      "outputs": []
    },
    {
      "cell_type": "code",
      "metadata": {
        "id": "K0VcBBMh_5f8"
      },
      "source": [
        ""
      ],
      "execution_count": 45,
      "outputs": []
    },
    {
      "cell_type": "code",
      "metadata": {
        "id": "bYZwhpnEV4dw"
      },
      "source": [
        "def ts_train_test(all_data, time_steps, for_periods):\n",
        "    #traing & test set 만들기\n",
        "    ts_train = all_data[:'2020'].iloc[:, 0:1].values\n",
        "    ts_test = all_data['2020' : ].iloc[ :, 0 : 1].values\n",
        "    ts_train_len = len(ts_train)\n",
        "    ts_test_len = len(ts_test)\n",
        "\n",
        "    #training 데이터의 samples 와 time steps로 원본데이터 슬라이싱하기\n",
        "    X_train = []\n",
        "    y_train = []\n",
        "    y_train_stacked = []\n",
        "\n",
        "    print(np.shape(ts_train))\n",
        "    for i in range(time_steps, ts_train_len - 1):\n",
        "        X_train.append(ts_train[i - time_steps : i, 0])\n",
        "        y_train.append(ts_train[i : i + for_periods, 0])\n",
        "    print(np.shape(X_train))\n",
        "    X_train, y_train = np.array(X_train), np.array(y_train)\n",
        "\n",
        "    #3차원으로 재구성하기\n",
        "    #np.reshape(samples, time steps, features)로 만듦\n",
        "    X_train = np.reshape(X_train, (X_train.shape[0], X_train.shape[1], 1))\n",
        "\n",
        "    # Preparing to create X_test\n",
        "    inputs = pd.concat((all_data[\"Adj Close\"][:'2020'], all_data[\"Adj Close\"]['2020':]), axis = 0).values\n",
        "    inputs = inputs[len(inputs) - len(ts_test) - time_steps:]\n",
        "    inputs = inputs.reshape(-1,1)\n",
        "    print(np.shape(inputs))\n",
        "\n",
        "    X_test = []\n",
        "    for i in range(time_steps, ts_test_len+ time_steps- for_periods):\n",
        "        X_test.append(inputs[i - time_steps :i, 0])\n",
        "    print(np.shape(X_test))\n",
        "    X_test = np.array(X_test)\n",
        "    X_test = np.reshape(X_test, (X_test.shape[0], X_train.shape[1], 1))\n",
        "\n",
        "    return X_train, y_train, X_test"
      ],
      "execution_count": 46,
      "outputs": []
    },
    {
      "cell_type": "code",
      "metadata": {
        "colab": {
          "base_uri": "https://localhost:8080/"
        },
        "id": "KNZoJkbI02Fz",
        "outputId": "557b1069-9256-41fa-8433-692f7d657207"
      },
      "source": [
        "X_train, y_train, X_test = ts_train_test(NDX_data, 5, 2)\n",
        "\n",
        "# 3차원의 X_train을 데이터프레임 형식으로 바꿔서 눈으로 확인해보기\n",
        "X_train_see = pd.DataFrame(np.reshape(X_train, (X_train.shape[0], X_train.shape[1])))\n",
        "y_train_see = pd.DataFrame(y_train)\n",
        "pd.concat([X_train_see, y_train_see], axis = 1)\n",
        "\n",
        "# 3차원의 X_test를 데이터프레임 형식으로 바꿔서 눈으로 확인해보기\n",
        "X_test_see = pd.DataFrame(np.reshape(X_test, (X_test.shape[0], X_test.shape[1])))\n",
        "pd.DataFrame(X_test_see)\n",
        "\n",
        "print(\"There are \" + str(X_train.shape[0]) + \" samples in the training data\")\n",
        "# There are ? samples in the training data\n",
        "\n",
        "\n",
        "print(\"There are \" + str(X_test.shape[0]) + \" samples in the test data\")\n",
        "# There are ? samples in the test data\n"
      ],
      "execution_count": 53,
      "outputs": [
        {
          "output_type": "stream",
          "name": "stdout",
          "text": [
            "(3776, 1)\n",
            "(3770, 5)\n",
            "(259, 1)\n",
            "(252, 5)\n",
            "There are 3770 samples in the training data\n",
            "There are 252 samples in the test data\n"
          ]
        }
      ]
    },
    {
      "cell_type": "code",
      "metadata": {
        "id": "5GxBavwC_VmQ"
      },
      "source": [
        "print(NDX_data.shape)"
      ],
      "execution_count": null,
      "outputs": []
    },
    {
      "cell_type": "code",
      "metadata": {
        "id": "n6ga7XycbRRW"
      },
      "source": [
        "def LSTM_model(X_train, y_train, X_test, sc):\n",
        "    # import neccesary modul\n",
        "    from keras.models import Sequential\n",
        "    from keras.layers import Densa, SimpleRNN, GRU, LSTM_model\n",
        "    from keras.optimizer import SGD\n",
        "\n",
        "    # LSTM architecture\n",
        "    my_LSTM_model = Sequential()\n",
        "    my_LSTM_model.add(LSTM(units = 50,\n",
        "                           return_sequences = True,\n",
        "                           #이거는 바꿔라 데이터에 따라\n",
        "                           input_shape = (X_train.shape[3],1),\n",
        "                           activation = 'tanh'))\n",
        "    my_LSTM_model.add(LSTM(units = 50, activation = 'tanh'))\n",
        "    my_LSTM_model.add(Dense(units = 2))\n",
        "\n",
        "    # compiling\n",
        "    my_LSTM_model.compile(optimizer =SGD(lr = 0.01, decay = 1e-7, momentum = 0.9, nesterov = False),\n",
        "                          loss = 'mean_squared_error') # momentum은 관성을 나타냄\n",
        "    \n",
        "    # training data 세트에 피팅하기 (조기 중단은 추가함)\n",
        "    my_LSTM_model.fit(X_train, y_train, epochs = 50, early_stopping_epochs = 20, batch_size = 150, verbose = 0)\n",
        "\n",
        "    # X_test를 LSTM model에 넣어서 예측하기\n",
        "    LSTM_prediction = my_LSTM_model.predict(X_test)\n",
        "\n",
        "    #스케일러에 예측값 넣어 반환하기\n",
        "    LSTM_prediction = sc.inverse_transform(LSTM_prediction)\n",
        "\n",
        "    return my_LSTM_model, LSTM_prediction\n"
      ],
      "execution_count": null,
      "outputs": []
    },
    {
      "cell_type": "code",
      "metadata": {
        "id": "7bloT7k3gd5J"
      },
      "source": [
        "def actual_pred_plot(preds):\n",
        "    # Plot the actual vs prediction\n",
        "\n",
        "    actual_pred = pd.DataFrame(columns = ['NDX_Adj Close', 'prediction'])\n",
        "    actual_pred['NDX_Adj Close'] = all_data.loc['2006':, 'NDX Close'][0:len(preds)]\n",
        "    actual_pred['prediction'] = preds[:, 0]\n",
        "\n",
        "    from keras.metrics import meanSquaredError\n",
        "    m = meanSquaredError()\n",
        "    m.update_state(np.array(actual_pred['NDX_Adj Close']), np.array(actual_pred['prediction']))\n",
        "\n",
        "    return(m.result().numpy(), actual_pred_plot())"
      ],
      "execution_count": null,
      "outputs": []
    },
    {
      "cell_type": "code",
      "metadata": {
        "id": "6X2uu5RVwObw"
      },
      "source": [
        ""
      ],
      "execution_count": null,
      "outputs": []
    },
    {
      "cell_type": "code",
      "metadata": {
        "id": "dXwU3UT1wOiW"
      },
      "source": [
        ""
      ],
      "execution_count": null,
      "outputs": []
    },
    {
      "cell_type": "code",
      "metadata": {
        "id": "uFxvQ34EgeBc"
      },
      "source": [
        "my_LSTM_model, LSTM_prediction = LSTM_model(X_train, y_train, X_test, sc)"
      ],
      "execution_count": null,
      "outputs": []
    }
  ]
}
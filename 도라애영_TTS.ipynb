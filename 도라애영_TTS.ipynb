{
  "nbformat": 4,
  "nbformat_minor": 0,
  "metadata": {
    "colab": {
      "name": "도라애영_TTS",
      "provenance": [],
      "authorship_tag": "ABX9TyOIoFKCoYkohtQ3RbZrRKSO",
      "include_colab_link": true
    },
    "kernelspec": {
      "name": "python3",
      "display_name": "Python 3"
    },
    "language_info": {
      "name": "python"
    }
  },
  "cells": [
    {
      "cell_type": "markdown",
      "metadata": {
        "id": "view-in-github",
        "colab_type": "text"
      },
      "source": [
        "<a href=\"https://colab.research.google.com/github/blackgreenc/AI/blob/main/%EB%8F%84%EB%9D%BC%EC%95%A0%EC%98%81_TTS.ipynb\" target=\"_parent\"><img src=\"https://colab.research.google.com/assets/colab-badge.svg\" alt=\"Open In Colab\"/></a>"
      ]
    },
    {
      "cell_type": "code",
      "metadata": {
        "id": "SqQ0owOIVk7c"
      },
      "source": [
        "# 도라애영씨 스트리밍 사이트 tts임."
      ],
      "execution_count": 1,
      "outputs": []
    }
  ]
}
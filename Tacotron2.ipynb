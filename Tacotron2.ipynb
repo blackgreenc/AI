{
  "nbformat": 4,
  "nbformat_minor": 0,
  "metadata": {
    "colab": {
      "name": "Tacotron2",
      "provenance": [],
      "mount_file_id": "1I0uYr9YdzaOByvkgwebQFZMESCdJ4S8W",
      "authorship_tag": "ABX9TyOGT/8Hj0/TkgFso5gqulTn",
      "include_colab_link": true
    },
    "kernelspec": {
      "display_name": "Python 3",
      "name": "python3"
    },
    "language_info": {
      "name": "python"
    }
  },
  "cells": [
    {
      "cell_type": "markdown",
      "metadata": {
        "id": "view-in-github",
        "colab_type": "text"
      },
      "source": [
        "<a href=\"https://colab.research.google.com/github/blackgreenc/AI/blob/main/Tacotron2.ipynb\" target=\"_parent\"><img src=\"https://colab.research.google.com/assets/colab-badge.svg\" alt=\"Open In Colab\"/></a>"
      ]
    },
    {
      "cell_type": "markdown",
      "metadata": {
        "id": "0MFrtln2m56t"
      },
      "source": [
        "<a href=\"https://github.com/carpedm20/multi-speaker-tacotron-tensorflow\">자료1</a>\n",
        "<a href=\"https://joungheekim.github.io/2021/04/02/code-review/\">자료2</a>"
      ]
    },
    {
      "cell_type": "markdown",
      "metadata": {
        "id": "9haZy4kqj_3b"
      },
      "source": [
        "<h1>Multi-Speaker Tacotron in TensorFlow</h1>"
      ]
    },
    {
      "cell_type": "markdown",
      "metadata": {
        "id": "XiTKqs_JkMKn"
      },
      "source": [
        "<h2>1, Install prerequisites</h2>"
      ]
    },
    {
      "cell_type": "markdown",
      "metadata": {
        "id": "2Av1u57mlnTG"
      },
      "source": [
        "<h4>After preparing TensorFlow, install prerequisites with:</h4>"
      ]
    },
    {
      "cell_type": "code",
      "metadata": {
        "colab": {
          "base_uri": "https://localhost:8080/"
        },
        "id": "esqPT5UN8bZ1",
        "outputId": "7bc1f1c7-aae3-4926-a45e-b42f40cf6dda"
      },
      "source": [
        "!pip3 install -r requirements.txt\n",
        "!python -c \"import nltk; nltk.download('punkt')\""
      ],
      "execution_count": null,
      "outputs": [
        {
          "output_type": "stream",
          "name": "stdout",
          "text": [
            "\u001b[31mERROR: Could not open requirements file: [Errno 2] No such file or directory: 'requirements.txt'\u001b[0m\n",
            "[nltk_data] Downloading package punkt to /root/nltk_data...\n",
            "[nltk_data]   Unzipping tokenizers/punkt.zip.\n"
          ]
        }
      ]
    },
    {
      "cell_type": "markdown",
      "metadata": {
        "id": "YevUfEEGkdrO"
      },
      "source": [
        "<h2>Generate custom datasets</h2>"
      ]
    },
    {
      "cell_type": "code",
      "metadata": {
        "id": "NPb4tbvAXtKJ",
        "colab": {
          "base_uri": "https://localhost:8080/"
        },
        "outputId": "1fb24207-7ea3-42cd-cc2b-f3b14f50c51c"
      },
      "source": [
        "!python3 -m datasets.generate_data ./datasets/YOUR_DATASET/alignment.json"
      ],
      "execution_count": null,
      "outputs": [
        {
          "output_type": "stream",
          "name": "stdout",
          "text": [
            "/usr/bin/python3: Error while finding module specification for 'datasets.generate_data' (ModuleNotFoundError: No module named 'datasets')\n"
          ]
        }
      ]
    },
    {
      "cell_type": "code",
      "metadata": {
        "colab": {
          "base_uri": "https://localhost:8080/"
        },
        "id": "7ZHoxob3iauf",
        "outputId": "2e3ee741-4752-4449-a287-e057816ca322"
      },
      "source": [
        "!python3 -m datasets.generate_data ./datasets/YOUR_DATASET/alignment.json"
      ],
      "execution_count": null,
      "outputs": [
        {
          "output_type": "stream",
          "name": "stdout",
          "text": [
            "/usr/bin/python3: Error while finding module specification for 'datasets.generate_data' (ModuleNotFoundError: No module named 'datasets')\n"
          ]
        }
      ]
    },
    {
      "cell_type": "markdown",
      "metadata": {
        "id": "Sh-p32A-knyb"
      },
      "source": [
        "<h2>Generate Korean datasets</h2>"
      ]
    },
    {
      "cell_type": "code",
      "metadata": {
        "id": "AQsnzsh-ifub"
      },
      "source": [
        "!export GOOGLE_APPLICATION_CREDENTIALS=\"YOUR-GOOGLE.CREDENTIALS.json\""
      ],
      "execution_count": null,
      "outputs": []
    },
    {
      "cell_type": "markdown",
      "metadata": {
        "id": "NLoAsdUSkwp6"
      },
      "source": [
        "<h3>1. Download speech(or video)and text</h3>"
      ]
    },
    {
      "cell_type": "code",
      "metadata": {
        "colab": {
          "base_uri": "https://localhost:8080/"
        },
        "id": "KTf_Wr_hii9A",
        "outputId": "aec15488-eea7-4339-c0fc-95978c429c91"
      },
      "source": [
        "!python3 -m datasets.son.download"
      ],
      "execution_count": null,
      "outputs": [
        {
          "output_type": "stream",
          "name": "stdout",
          "text": [
            "/usr/bin/python3: Error while finding module specification for 'datasets.son.download' (ModuleNotFoundError: No module named 'datasets')\n"
          ]
        }
      ]
    },
    {
      "cell_type": "markdown",
      "metadata": {
        "id": "T8frFa_1k8Fh"
      },
      "source": [
        "<h3>2. Segment all audios on silence</h3>"
      ]
    },
    {
      "cell_type": "code",
      "metadata": {
        "colab": {
          "base_uri": "https://localhost:8080/"
        },
        "id": "ia0oTQ07ilLP",
        "outputId": "d30f3121-9088-4fd5-8fbb-629e8a31535c"
      },
      "source": [
        "!python3 -m audio.silence --audio_pattern \"./datasets/son/audio/*.wav\" --method=pydub"
      ],
      "execution_count": null,
      "outputs": [
        {
          "output_type": "stream",
          "name": "stdout",
          "text": [
            "/usr/bin/python3: Error while finding module specification for 'audio.silence' (ModuleNotFoundError: No module named 'audio')\n"
          ]
        }
      ]
    },
    {
      "cell_type": "markdown",
      "metadata": {
        "id": "Q5NxWnjSlCt-"
      },
      "source": [
        "<h3>3, By using <a href=\"https://cloud.google.com/speech-to-text\">Google Speech Recognition API</a>, we predict sentences for all segmented audios.</h3>"
      ]
    },
    {
      "cell_type": "code",
      "metadata": {
        "colab": {
          "base_uri": "https://localhost:8080/"
        },
        "id": "6KjGqMA-in-G",
        "outputId": "e2319da0-584a-4762-838a-330e04dd1b6e"
      },
      "source": [
        "!python3 -m recognition.google --audio_pattern \"./datasets/son/audio/*.*.wav\""
      ],
      "execution_count": null,
      "outputs": [
        {
          "output_type": "stream",
          "name": "stdout",
          "text": [
            "/usr/bin/python3: Error while finding module specification for 'recognition.google' (ModuleNotFoundError: No module named 'recognition')\n"
          ]
        }
      ]
    },
    {
      "cell_type": "markdown",
      "metadata": {
        "id": "F-vbJeaii6YM"
      },
      "source": [
        "<h4>4, By comparing original text and recognised text, save audio<->text pair information into ./datasets/son/alignment.json.</h4>"
      ]
    },
    {
      "cell_type": "code",
      "metadata": {
        "colab": {
          "base_uri": "https://localhost:8080/"
        },
        "id": "84oL5JSnirCu",
        "outputId": "004094c4-3c81-458c-d239-ffb7ff6a6e1a"
      },
      "source": [
        "!python3 -m recognition.alignment --recognition_path \"./datasets/son/recognition.json\" --score_threshold=0.5"
      ],
      "execution_count": null,
      "outputs": [
        {
          "output_type": "stream",
          "name": "stdout",
          "text": [
            "/usr/bin/python3: Error while finding module specification for 'recognition.alignment' (ModuleNotFoundError: No module named 'recognition')\n"
          ]
        }
      ]
    },
    {
      "cell_type": "code",
      "metadata": {
        "colab": {
          "base_uri": "https://localhost:8080/"
        },
        "id": "td89GloeiuHs",
        "outputId": "8e37e31a-d4cc-4d8a-d5de-8a4da63afe18"
      },
      "source": [
        "!python3 -m datasets.generate_data ./datasets/son/alignment.json"
      ],
      "execution_count": null,
      "outputs": [
        {
          "output_type": "stream",
          "name": "stdout",
          "text": [
            "/usr/bin/python3: Error while finding module specification for 'datasets.generate_data' (ModuleNotFoundError: No module named 'datasets')\n"
          ]
        }
      ]
    },
    {
      "cell_type": "code",
      "metadata": {
        "colab": {
          "base_uri": "https://localhost:8080/"
        },
        "id": "84YqRe2zi10C",
        "outputId": "65a08ea3-60f6-4b32-8caf-a9046d62edb9"
      },
      "source": [
        "! python3 -m datasets.LJSpeech_1_0.prepare"
      ],
      "execution_count": null,
      "outputs": [
        {
          "output_type": "stream",
          "name": "stdout",
          "text": [
            "/usr/bin/python3: Error while finding module specification for 'datasets.LJSpeech_1_0.prepare' (ModuleNotFoundError: No module named 'datasets')\n"
          ]
        }
      ]
    },
    {
      "cell_type": "code",
      "metadata": {
        "colab": {
          "base_uri": "https://localhost:8080/"
        },
        "id": "SzTg1kXdi7iS",
        "outputId": "13dd1820-36dd-4683-816b-53c66552899f"
      },
      "source": [
        "! python3 -m datasets.generate_data ./datasets/LJSpeech_1_0"
      ],
      "execution_count": null,
      "outputs": [
        {
          "output_type": "stream",
          "name": "stdout",
          "text": [
            "/usr/bin/python3: Error while finding module specification for 'datasets.generate_data' (ModuleNotFoundError: No module named 'datasets')\n"
          ]
        }
      ]
    },
    {
      "cell_type": "code",
      "metadata": {
        "colab": {
          "base_uri": "https://localhost:8080/"
        },
        "id": "iFU8icJFi_F-",
        "outputId": "f35fb6c5-f7ee-4a10-e373-c00395ecf160"
      },
      "source": [
        "!python3 train.py --data_path=datasets/son\n",
        "!python3 train.py --data_path=datasets/son --initialize_path=PATH_TO_CHECKPOINT"
      ],
      "execution_count": null,
      "outputs": [
        {
          "output_type": "stream",
          "name": "stdout",
          "text": [
            "python3: can't open file 'train.py': [Errno 2] No such file or directory\n",
            "python3: can't open file 'train.py': [Errno 2] No such file or directory\n"
          ]
        }
      ]
    },
    {
      "cell_type": "code",
      "metadata": {
        "colab": {
          "base_uri": "https://localhost:8080/"
        },
        "id": "x_ihPTBHi_Jb",
        "outputId": "6abd9b80-8329-45a1-f336-4b1d35e67f6e"
      },
      "source": [
        "# after change `model_type` in `hparams.py` to `deepvoice` or `simple`\n",
        "!python3 train.py --data_path=datasets/son1,datasets/son2"
      ],
      "execution_count": null,
      "outputs": [
        {
          "output_type": "stream",
          "name": "stdout",
          "text": [
            "python3: can't open file 'train.py': [Errno 2] No such file or directory\n"
          ]
        }
      ]
    },
    {
      "cell_type": "code",
      "metadata": {
        "colab": {
          "base_uri": "https://localhost:8080/"
        },
        "id": "ZHkZYbwJjIyR",
        "outputId": "07d32d46-d099-4fed-fc0d-91fc1c26a7e7"
      },
      "source": [
        "!python3 train.py --data_path=datasets/son --load_path logs/son-20171015"
      ],
      "execution_count": null,
      "outputs": [
        {
          "output_type": "stream",
          "name": "stdout",
          "text": [
            "python3: can't open file 'train.py': [Errno 2] No such file or directory\n"
          ]
        }
      ]
    },
    {
      "cell_type": "code",
      "metadata": {
        "colab": {
          "base_uri": "https://localhost:8080/"
        },
        "id": "Ikg-5b9FjI7P",
        "outputId": "d77fdaad-c2bc-4c01-cfad-e51d906ee352"
      },
      "source": [
        "!python3 app.py --load_path logs/son-20171015 --num_speakers=1"
      ],
      "execution_count": null,
      "outputs": [
        {
          "output_type": "stream",
          "name": "stdout",
          "text": [
            "python3: can't open file 'app.py': [Errno 2] No such file or directory\n"
          ]
        }
      ]
    },
    {
      "cell_type": "code",
      "metadata": {
        "colab": {
          "base_uri": "https://localhost:8080/"
        },
        "id": "cEw3cNaYj2Pg",
        "outputId": "c7f49168-e016-4561-9ed7-35161fe41f92"
      },
      "source": [
        "!python3 synthesizer.py --load_path logs/son-20171015 --text \"이거 실화냐?\""
      ],
      "execution_count": null,
      "outputs": [
        {
          "output_type": "stream",
          "name": "stdout",
          "text": [
            "python3: can't open file 'synthesizer.py': [Errno 2] No such file or directory\n"
          ]
        }
      ]
    },
    {
      "cell_type": "code",
      "metadata": {
        "colab": {
          "base_uri": "https://localhost:8080/"
        },
        "id": "uneOT1F-j4xc",
        "outputId": "d4a178f9-adc6-43d2-fb17-137f839e635c"
      },
      "source": [
        "!python3 app.py --load_path logs/LJSpeech_1_0-20180108 --num_speakers=1 --is_korean=False\n",
        "!python3 synthesizer.py --load_path logs/LJSpeech_1_0-20180108 --text=\"Winter is coming.\" --is_korean=False"
      ],
      "execution_count": null,
      "outputs": [
        {
          "output_type": "stream",
          "name": "stdout",
          "text": [
            "python3: can't open file 'app.py': [Errno 2] No such file or directory\n",
            "python3: can't open file 'synthesizer.py': [Errno 2] No such file or directory\n"
          ]
        }
      ]
    },
    {
      "cell_type": "markdown",
      "metadata": {
        "id": "4FpRoAiGj-nS"
      },
      "source": [
        ""
      ]
    },
    {
      "cell_type": "code",
      "metadata": {
        "id": "EPWvTI1cj406"
      },
      "source": [
        ""
      ],
      "execution_count": null,
      "outputs": []
    },
    {
      "cell_type": "markdown",
      "metadata": {
        "id": "IVWWVjWWEMJ5"
      },
      "source": [
        ""
      ]
    }
  ]
}